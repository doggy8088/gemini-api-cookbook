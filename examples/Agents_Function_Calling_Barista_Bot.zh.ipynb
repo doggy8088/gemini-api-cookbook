{
  "cells": [
    {
      "cell_type": "markdown",
      "metadata": {
        "id": "Tce3stUlHN0L"
      },
      "source": [
        "##### 版權所有 2024 Google LLC.\n"
      ]
    },
    {
      "cell_type": "code",
      "execution_count": null,
      "metadata": {
        "cellView": "form",
        "id": "tuOe1ymfHZPu"
      },
      "outputs": [],
      "source": [
        "# @title Licensed under the Apache License, Version 2.0 (the \"License\");\n",
        "# you may not use this file except in compliance with the License.\n",
        "# You may obtain a copy of the License at\n",
        "#\n",
        "# https://www.apache.org/licenses/LICENSE-2.0\n",
        "#\n",
        "# Unless required by applicable law or agreed to in writing, software\n",
        "# distributed under the License is distributed on an \"AS IS\" BASIS,\n",
        "# WITHOUT WARRANTIES OR CONDITIONS OF ANY KIND, either express or implied.\n",
        "# See the License for the specific language governing permissions and\n",
        "# limitations under the License."
      ]
    },
    {
      "cell_type": "markdown",
      "metadata": {
        "id": "Ok-j-Bih_C5S"
      },
      "source": [
        "# Gemini API: 代理和 Barista Bot 的自動函式呼叫\n"
      ]
    },
    {
      "cell_type": "markdown",
      "metadata": {
        "id": "1YXoI96g_PLL"
      },
      "source": [
        "這個筆記本展示了使用 Gemini API 的 Python SDK 使用自動函式呼叫建立代理的實用範例。你將定義整合到 Gemini API 的一些職能，建構咖啡廳的訂購系統，然後編寫一個代理程式迴圈，與使用者互動來訂購咖啡廳飲料。\n",
        "\n",
        "這份指南的靈感來自於 ReAct 型式的 [Barista bot](https://aistudio.google.com/app/prompts/barista-bot) 提示，可透過 AI Studio 取得。\n"
      ]
    },
    {
      "cell_type": "code",
      "execution_count": 11,
      "metadata": {
        "id": "3IzLYKxmTHd5"
      },
      "outputs": [],
      "source": [
        "!pip install -qU google-generativeai"
      ]
    },
    {
      "cell_type": "markdown",
      "metadata": {
        "id": "zFjRBXVrAdYB"
      },
      "source": [
        "要執行此筆記本，你的 API 金鑰必須儲存在名為「GOOGLE_API_KEY」的 Colab 密碼中。如果你是在不同環境中執行，則可以將金鑰儲存在環境變數中。參閱 [驗證](../quickstarts/Authentication.zh.ipynb) 進一步瞭解。\n"
      ]
    },
    {
      "cell_type": "code",
      "execution_count": 12,
      "metadata": {
        "id": "0gOuwcCUTNAO"
      },
      "outputs": [],
      "source": [
        "from random import randint\n",
        "from typing import Iterable\n",
        "\n",
        "import google.generativeai as genai\n",
        "from google.api_core import retry\n",
        "\n",
        "from google.colab import userdata\n",
        "genai.configure(api_key=userdata.get('GOOGLE_API_KEY'))"
      ]
    },
    {
      "cell_type": "markdown",
      "metadata": {
        "id": "F72jp1hzA8zU"
      },
      "source": [
        "## 定義 API\n",
        "\n",
        "為了模擬咖啡廳的訂購系統，請定義以下功能來管理客戶訂單：增加、編輯、清除、確認和完成。\n",
        "\n",
        "這些函式使用全域變數 `order` (進行中的訂單) 和 `placed_order` (已確認並傳送至廚房的訂單) 來追蹤客戶訂單。每個訂單編輯功能都會更新 `order`，且一旦提交，`order` 即會複製至 `placed_order` 並清除。\n",
        "\n",
        "在 Python SDK 中，你可以直接將函式傳給模型建構函式，其中 SDK 會檢查類型簽章和文件字串以定義 `tools`。因此，正確設定每個參數的型別，並賦予函式合理的名稱和詳細的文件字串非常重要。\n"
      ]
    },
    {
      "cell_type": "code",
      "execution_count": 13,
      "metadata": {
        "id": "wMltPyUpTu3h"
      },
      "outputs": [],
      "source": [
        "order = []  # The in-progress order.\n",
        "placed_order = []  # The confirmed, completed order.\n",
        "\n",
        "def add_to_order(drink: str, modifiers: Iterable[str] = ()) -> None:\n",
        "  \"\"\"Adds the specified drink to the customer's order, including any modifiers.\"\"\"\n",
        "  order.append((drink, modifiers))\n",
        "\n",
        "\n",
        "def get_order() -> Iterable[tuple[str, Iterable[str]]]:\n",
        "  \"\"\"Returns the customer's order.\"\"\"\n",
        "  return order\n",
        "\n",
        "\n",
        "def remove_item(n: int) -> str:\n",
        "  \"\"\"Remove the nth (one-based) item from the order.\n",
        "\n",
        "  Returns:\n",
        "    The item that was removed.\n",
        "  \"\"\"\n",
        "  item, modifiers = order.pop(int(n) - 1)\n",
        "  return item\n",
        "\n",
        "\n",
        "def clear_order() -> None:\n",
        "  \"\"\"Removes all items from the customer's order.\"\"\"\n",
        "  order.clear()\n",
        "\n",
        "\n",
        "def confirm_order() -> str:\n",
        "  \"\"\"Asks the customer if the order is correct.\n",
        "\n",
        "  Returns:\n",
        "    The user's free-text response.\n",
        "  \"\"\"\n",
        "\n",
        "  print('Your order:')\n",
        "  if not order:\n",
        "    print('  (no items)')\n",
        "\n",
        "  for drink, modifiers in order:\n",
        "    print(f'  {drink}')\n",
        "    if modifiers:\n",
        "      print(f'   - {\", \".join(modifiers)}')\n",
        "\n",
        "  return input('Is this correct? ')\n",
        "\n",
        "\n",
        "def place_order() -> int:\n",
        "  \"\"\"Submit the order to the kitchen.\n",
        "\n",
        "  Returns:\n",
        "    The estimated number of minutes until the order is ready.\n",
        "  \"\"\"\n",
        "  placed_order[:] = order.copy()\n",
        "  clear_order()\n",
        "\n",
        "  # TODO(you!): Implement coffee fulfilment.\n",
        "  return randint(1, 10)"
      ]
    },
    {
      "cell_type": "markdown",
      "metadata": {
        "id": "e7l3_vBtC0oF"
      },
      "source": [
        "## 測試 API\n",
        "\n",
        "有了這些函式，測試它們是否如預期般運作。\n"
      ]
    },
    {
      "cell_type": "code",
      "execution_count": 14,
      "metadata": {
        "id": "jg1LjYNUWnsC"
      },
      "outputs": [
        {
          "name": "stdout",
          "output_type": "stream",
          "text": [
            "Your order:\n",
            "  Latte\n",
            "   - Extra shot\n",
            "  Tea\n",
            "   - Earl Grey, hot\n",
            "Is this correct? yes it is!\n"
          ]
        }
      ],
      "source": [
        "# Test it out!\n",
        "\n",
        "clear_order()\n",
        "add_to_order('Latte', ['Extra shot'])\n",
        "add_to_order('Tea')\n",
        "remove_item(2)\n",
        "add_to_order('Tea', ['Earl Grey', 'hot'])\n",
        "confirm_order();"
      ]
    },
    {
      "cell_type": "markdown",
      "metadata": {
        "id": "gOhiADoCC811"
      },
      "source": [
        "## 定義提示\n",
        "\n",
        "在此處定義完整的咖啡機器人提示。此提示包含咖啡廳的菜單項目和修改器以及一些說明。\n",
        "\n",
        "說明包括關於如何呼叫功能的指南 (例如在呼叫 `place_order` 之前「務必使用 `confirm_order` 向使用者確認」)。你可以修改此內容以將自己的互動樣式新增至機器人，例如，如果你希望機器人在將物品新增至訂單之前重複每項要求，可以在此處提供說明。\n",
        "\n",
        "提示結尾包括機器人可能遇到的某些術語和說明_du jour_ - 在此案例中，它指出咖啡廳已經用完豆漿。\n"
      ]
    },
    {
      "cell_type": "code",
      "execution_count": 15,
      "metadata": {
        "id": "IoBvZ1JYXgn5"
      },
      "outputs": [],
      "source": [
        "COFFEE_BOT_PROMPT = \"\"\"\\You are a coffee order taking system and you are restricted to talk only about drinks on the MENU. Do not talk about anything but ordering MENU drinks for the customer, ever.\n",
        "Your goal is to do place_order after understanding the menu items and any modifiers the customer wants.\n",
        "Add items to the customer's order with add_to_order, remove specific items with remove_item, and reset the order with clear_order.\n",
        "To see the contents of the order so far, call get_order (by default this is shown to you, not the user)\n",
        "Always confirm_order with the user (double-check) before calling place_order. Calling confirm_order will display the order items to the user and returns their response to seeing the list. Their response may contain modifications.\n",
        "Always verify and respond with drink and modifier names from the MENU before adding them to the order.\n",
        "If you are unsure a drink or modifier matches those on the MENU, ask a question to clarify or redirect.\n",
        "You only have the modifiers listed on the menu below: Milk options, espresso shots, caffeine, sweeteners, special requests.\n",
        "Once the customer has finished ordering items, confirm_order and then place_order.\n",
        "\n",
        "Hours: Tues, Wed, Thurs, 10am to 2pm\n",
        "Prices: All drinks are free.\n",
        "\n",
        "MENU:\n",
        "Coffee Drinks:\n",
        "Espresso\n",
        "Americano\n",
        "Cold Brew\n",
        "\n",
        "Coffee Drinks with Milk:\n",
        "Latte\n",
        "Cappuccino\n",
        "Cortado\n",
        "Macchiato\n",
        "Mocha\n",
        "Flat White\n",
        "\n",
        "Tea Drinks:\n",
        "English Breakfast Tea\n",
        "Green Tea\n",
        "Earl Grey\n",
        "\n",
        "Tea Drinks with Milk:\n",
        "Chai Latte\n",
        "Matcha Latte\n",
        "London Fog\n",
        "\n",
        "Other Drinks:\n",
        "Steamer\n",
        "Hot Chocolate\n",
        "\n",
        "Modifiers:\n",
        "Milk options: Whole, 2%, Oat, Almond, 2% Lactose Free; Default option: whole\n",
        "Espresso shots: Single, Double, Triple, Quadruple; default: Double\n",
        "Caffeine: Decaf, Regular; default: Regular\n",
        "Hot-Iced: Hot, Iced; Default: Hot\n",
        "Sweeteners (option to add one or more): vanilla sweetener, hazelnut sweetener, caramel sauce, chocolate sauce, sugar free vanilla sweetener\n",
        "Special requests: any reasonable modification that does not involve items not on the menu, for example: 'extra hot', 'one pump', 'half caff', 'extra foam', etc.\n",
        "\n",
        "\"dirty\" means add a shot of espresso to a drink that doesn't usually have it, like \"Dirty Chai Latte\".\n",
        "\"Regular milk\" is the same as 'whole milk'.\n",
        "\"Sweetened\" means add some regular sugar, not a sweetener.\n",
        "\n",
        "We have run out of Soy milk today, so soy is not available.\n",
        "\"\"\""
      ]
    },
    {
      "cell_type": "markdown",
      "metadata": {
        "id": "c_ybYQ-sU7rn"
      },
      "source": [
        "## 設定模型\n",
        "\n",
        "在這個步驟中，你把函式合併成一個傳入 `tools` 的「系統」，實例化模型並開始聊天對話。\n",
        "\n",
        "此區塊包含與 Gemini API 互動的兩個選項。透過切換 `use_sys_inst`，你可以切換使用帶有系統指令的 Gemini 1.5 Pro (品質最高，但免費額度可能會不足以進行長時間聊天對話) 或 Gemini 1.0 Pro (免費額度較高，但不支援系統指令)。\n",
        "\n",
        "也可以定義一個可重新嘗試的 `set_message` 函式，以處理額度不足的對話。\n"
      ]
    },
    {
      "cell_type": "code",
      "execution_count": 17,
      "metadata": {
        "id": "8vmtzAlPaQH-"
      },
      "outputs": [],
      "source": [
        "ordering_system = [add_to_order, get_order, remove_item, clear_order, confirm_order, place_order]\n",
        "\n",
        "# Toggle this to switch between Gemini 1.5 with a system instruction, or Gemini 1.0 Pro.\n",
        "use_sys_inst = False\n",
        "\n",
        "model_name = 'gemini-1.5-pro-latest' if use_sys_inst else 'gemini-1.0-pro-latest'\n",
        "\n",
        "if use_sys_inst:\n",
        "  model = genai.GenerativeModel(\n",
        "      model_name, tools=ordering_system, system_instruction=COFFEE_BOT_PROMPT)\n",
        "  convo = model.start_chat(enable_automatic_function_calling=True)\n",
        "\n",
        "else:\n",
        "  model = genai.GenerativeModel(model_name, tools=ordering_system)\n",
        "  convo = model.start_chat(\n",
        "      history=[\n",
        "          {'role': 'user', 'parts': [COFFEE_BOT_PROMPT]},\n",
        "          {'role': 'model', 'parts': ['OK I understand. I will do my best!']}\n",
        "        ],\n",
        "      enable_automatic_function_calling=True)\n",
        "\n",
        "\n",
        "@retry.Retry(initial=30)\n",
        "def send_message(message):\n",
        "  return convo.send_message(message)\n",
        "\n",
        "\n",
        "placed_order = []\n",
        "order = []"
      ]
    },
    {
      "cell_type": "markdown",
      "metadata": {
        "id": "624ai2Q5WMAF"
      },
      "source": [
        "## 與 Barista Bot 聊天\n",
        "\n",
        "在模型定義且聊天建立後，剩下的就是將使用者輸入與模型做連結，並顯示輸出，透過迴圈的方式。此迴圈會持續執行直到下單。\n",
        "\n",
        "在 Colab 執行時，任何固定寬度的文字來自你的 Python 程式碼 (例如訂購系統中的 `print` 呼叫)，一般文字來自 Gemini API，且輪廓框允許使用者的輸入，並以開頭的 `>` 呈現。\n",
        "\n",
        "立即試用！\n"
      ]
    },
    {
      "cell_type": "code",
      "execution_count": 19,
      "metadata": {
        "id": "38SAyrNNVhvE"
      },
      "outputs": [
        {
          "name": "stdout",
          "output_type": "stream",
          "text": [
            "Welcome to Barista bot!\n",
            "\n",
            "\n",
            "> Tea, Earl Grey, Hot.\n"
          ]
        },
        {
          "data": {
            "text/markdown": [
              "OK, I have added an Earl Grey tea, hot, to your order."
            ],
            "text/plain": [
              "<IPython.core.display.Markdown object>"
            ]
          },
          "metadata": {},
          "output_type": "display_data"
        },
        {
          "name": "stdout",
          "output_type": "stream",
          "text": [
            "> and a strong latte please\n"
          ]
        },
        {
          "data": {
            "text/markdown": [
              "OK, and I have added a latte with double espresso to your order."
            ],
            "text/plain": [
              "<IPython.core.display.Markdown object>"
            ]
          },
          "metadata": {},
          "output_type": "display_data"
        },
        {
          "name": "stdout",
          "output_type": "stream",
          "text": [
            "> great, that's all thanks\n",
            "Your order:\n",
            "  Earl Grey\n",
            "   - Hot\n",
            "  Latte\n",
            "   - Double\n",
            "Is this correct? make it so!\n"
          ]
        },
        {
          "data": {
            "text/markdown": [
              "Your order is confirmed, and it will be ready in about 4 minutes."
            ],
            "text/plain": [
              "<IPython.core.display.Markdown object>"
            ]
          },
          "metadata": {},
          "output_type": "display_data"
        },
        {
          "name": "stdout",
          "output_type": "stream",
          "text": [
            "\n",
            "\n",
            "\n",
            "[barista bot session over]\n",
            "\n",
            "Your order:\n",
            "  [('Earl Grey', ['Hot']), ('Latte', ['Double'])]\n",
            "\n",
            "- Thanks for using Barista Bot!\n"
          ]
        }
      ],
      "source": [
        "from IPython.display import display, Markdown\n",
        "\n",
        "print('Welcome to Barista bot!\\n\\n')\n",
        "\n",
        "while not placed_order:\n",
        "  response = send_message(input('> '))\n",
        "  display(Markdown(response.text))\n",
        "\n",
        "\n",
        "print('\\n\\n')\n",
        "print('[barista bot session over]')\n",
        "print()\n",
        "print('Your order:')\n",
        "print(f'  {placed_order}\\n')\n",
        "print('- Thanks for using Barista Bot!')"
      ]
    },
    {
      "cell_type": "markdown",
      "metadata": {
        "id": "lr0xv8BIdXCQ"
      },
      "source": [
        "一些嘗試：\n",
        "* 詢問菜單 (例如「有哪些咖啡飲品？」) \n",
        "* 使用未在提示中指定的術語 (例如「一杯濃郁拿鐵」或「一杯 EB 茶」) \n",
        "* 中途改變主意 (「呃取消拿鐵抱歉」) \n",
        "* 偏離菜單 (「一杯小調皮」）\n"
      ]
    },
    {
      "cell_type": "markdown",
      "metadata": {
        "id": "W438QHRGbLcB"
      },
      "source": [
        "## 另見\n",
        "\n",
        "本範例應用程式展示如何整合傳統軟體系統 (咖啡訂購功能) 和由 Gemini API 支援的 AI 代理。這是一種使用 LLM 的簡單實用方式，允許使用開放且自然的人類語言輸入和輸出，但仍可讓人類參與，以確保正確操作。\n",
        "\n",
        "若要深入瞭解 Barista Bot 的運作方式，請查看：\n",
        "\n",
        "* [Barista Bot](https://aistudio.google.com/app/prompts/barista-bot) 提示\n",
        "* [系統說明](../quickstarts/System_instructions.zh.ipynb)\n",
        "* [自動函式呼叫](../quickstarts/Function_calling.zh.ipynb)\n"
      ]
    }
  ],
  "metadata": {
    "colab": {
      "name": "Agents_Function_Calling_Barista_Bot.zh.ipynb",
      "toc_visible": true
    },
    "kernelspec": {
      "display_name": "Python 3",
      "name": "python3"
    }
  },
  "nbformat": 4,
  "nbformat_minor": 0
}