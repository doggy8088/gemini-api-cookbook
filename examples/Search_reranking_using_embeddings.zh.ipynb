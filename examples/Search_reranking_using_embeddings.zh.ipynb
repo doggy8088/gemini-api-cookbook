{
  "cells": [
    {
      "cell_type": "markdown",
      "metadata": {
        "id": "oJt4OFKPgO8C"
      },
      "source": [
        "# 使用 Gemini 嵌入進行搜尋重新排名\n"
      ]
    },
    {
      "cell_type": "markdown",
      "metadata": {
        "id": "k5n0sCc_fKcB"
      },
      "source": [
        "<table align=\"left\">\n",
        "  <td>\n",
        "    <a target=\"_blank\" href=\"https://colab.research.google.com/github/google-gemini/gemini-api-cookbook/blob/main/examples/Search_reranking_using_embeddings.zh.ipynb\"><img src=\"https://www.tensorflow.org/images/colab_logo_32px.png\" />在 Google Colab 中執行</a>\n",
        "  </td>\n",
        "</table>\n"
      ]
    },
    {
      "cell_type": "markdown",
      "metadata": {
        "id": "0UO0Cgq0mRlG"
      },
      "source": [
        "本筆記示範如何使用嵌入重新排名搜尋結果。本演練將著重於下列目標：\n",
        "\n",
        "\n",
        "\n",
        "1.   設定你的開發環境和 API 存取權來使用 Gemini。\n",
        "2.   使用 Gemini 的函式呼叫支援存取 Wikipedia API。\n",
        "3.   透過 Gemini API 嵌入內容。\n",
        "4.   重新排名搜尋結果。\n"
      ]
    },
    {
      "cell_type": "markdown",
      "metadata": {
        "id": "-e5Aje-DTQOq"
      },
      "source": [
        "這是你將執行的搜尋重新排序方式：\n",
        "\n",
        "\n",
        "1.   使用者將進行搜尋查詢。\n",
        "2.   你將使用維基百科 API 回傳相關的搜尋結果。\n",
        "3.   搜尋結果將會嵌入，且他們的相關性將透過計算餘弦相似度等距離度量來評估。\n",
        "4.   最相關的搜尋結果將會作為最終答案回傳。\n"
      ]
    },
    {
      "cell_type": "markdown",
      "metadata": {
        "id": "rpVL_QrF5-oF"
      },
      "source": [
        ">本筆記書上非程式碼資料依據創用 CC 授權條款授權 - 標示-相同方式分享CC BY-SA 4.0，https://creativecommons.org/licenses/by-sa/4.0/legalcode.\n"
      ]
    },
    {
      "cell_type": "markdown",
      "metadata": {
        "id": "pwImlRg9DUp7"
      },
      "source": [
        "## 設定\n"
      ]
    },
    {
      "cell_type": "code",
      "execution_count": null,
      "metadata": {
        "id": "Nv_6f_qNHe_2"
      },
      "outputs": [],
      "source": [
        "!pip install -q -U google-generativeai"
      ]
    },
    {
      "cell_type": "code",
      "execution_count": null,
      "metadata": {
        "id": "5999faf240a4"
      },
      "outputs": [],
      "source": [
        "!pip install -q wikipedia"
      ]
    },
    {
      "cell_type": "markdown",
      "metadata": {
        "id": "739f0bb73f05"
      },
      "source": [
        "備註：[ `wikipedia` 套件](https://pypi.org/project/wikipedia/) 指出它「以簡單易用為設計，而非進階用途」，而生產或大量使用應「使用 [Pywikipediabot](http://www.mediawiki.org/wiki/Manual:Pywikipediabot) 或其他進階 [Python MediaWiki API 封裝](http://en.wikipedia.org/wiki/Wikipedia:Creating_a_bot#Python)」。\n"
      ]
    },
    {
      "cell_type": "code",
      "execution_count": null,
      "metadata": {
        "id": "D0qOtLI3FVid"
      },
      "outputs": [],
      "source": [
        "import json\n",
        "import textwrap\n",
        "\n",
        "import google.generativeai as genai\n",
        "\n",
        "import wikipedia\n",
        "from wikipedia.exceptions import DisambiguationError, PageError\n",
        "\n",
        "import numpy as np\n",
        "\n",
        "from IPython.display import Markdown\n",
        "\n",
        "def to_markdown(text):\n",
        "  text = text.replace('•', '  *')\n",
        "  return Markdown(textwrap.indent(text, '> ', predicate=lambda _: True))"
      ]
    },
    {
      "cell_type": "markdown",
      "metadata": {
        "id": "aeo_9J9iDtCx"
      },
      "source": [
        "要運行下列單元格，你的 API 金鑰必須儲存在名為「GOOGLE_API_KEY」的 Colab Secret 中。如果你尚未擁有 API 金鑰，或者不確定如何建立 Colab Secret，請查看[驗證](https://github.com/google-gemini/gemini-api-cookbook/blob/main/quickstarts/Authentication.ipynb) 快速入門以取得範例。\n"
      ]
    },
    {
      "cell_type": "code",
      "execution_count": null,
      "metadata": {
        "id": "yxzEH0GqLshI"
      },
      "outputs": [],
      "source": [
        "from google.colab import userdata\n",
        "GOOGLE_API_KEY=userdata.get('GOOGLE_API_KEY')\n",
        "genai.configure(api_key=GOOGLE_API_KEY)"
      ]
    },
    {
      "cell_type": "markdown",
      "metadata": {
        "id": "0hkJSFIWI7G1"
      },
      "source": [
        "## 定義工具\n"
      ]
    },
    {
      "cell_type": "markdown",
      "metadata": {
        "id": "7HjN6hsAJkOq"
      },
      "source": [
        "如前所述，本教學使用 Gemini 的函式呼叫支援來存取維基百科 API。請參閱 [文件](https://ai.google.dev/docs/function_calling)，以進一步瞭解函式呼叫。\n"
      ]
    },
    {
      "cell_type": "markdown",
      "metadata": {
        "id": "fpFkazXUenkK"
      },
      "source": [
        "### 定義搜尋函式\n"
      ]
    },
    {
      "cell_type": "markdown",
      "metadata": {
        "id": "2fp-m-5Ke0XY"
      },
      "source": [
        "為了迎合搜尋引擎的需求，你將以以下方式設計此功能：\n",
        "\n",
        "* 在每個搜尋查詢中，搜尋引擎將使用 `wikipedia.search` 方法來取得相關主題。\n",
        "* 從相關主題中，引擎將選擇 `n_topics(int)` 名候選人，並且將使用 `gemini-pro` 從頁面中擷取相關資訊。\n",
        "* 引擎將透過維護搜尋歷程來避免重複項目。\n"
      ]
    },
    {
      "cell_type": "code",
      "execution_count": null,
      "metadata": {
        "id": "2U27tdP8OBys"
      },
      "outputs": [],
      "source": [
        "def wikipedia_search(search_queries: list[str]) -> list[str]:\n",
        "  \"\"\"Search wikipedia for each query and summarize relevant docs.\"\"\"\n",
        "  n_topics=3\n",
        "  search_history = set() # tracking search history\n",
        "  search_urls = []\n",
        "  mining_model = genai.GenerativeModel('gemini-pro')\n",
        "  summary_results = []\n",
        "\n",
        "  for query in search_queries:\n",
        "    print(f'Searching for \"{query}\"')\n",
        "    search_terms = wikipedia.search(query)\n",
        "\n",
        "    print(f\"Related search terms: {search_terms[:n_topics]}\")\n",
        "    for search_term in search_terms[:n_topics]: # select first `n_topics` candidates\n",
        "      if search_term in search_history: # check if the topic is already covered\n",
        "        continue\n",
        "\n",
        "      print(f'Fetching page: \"{search_term}\"')\n",
        "      search_history.add(search_term) # add to search history\n",
        "\n",
        "      try:\n",
        "        # extract the relevant data by using `gemini-pro` model\n",
        "        page = wikipedia.page(search_term, auto_suggest=False)\n",
        "        url = page.url\n",
        "        print(f\"Information Source: {url}\")\n",
        "        search_urls.append(url)\n",
        "        page = page.content\n",
        "        response = mining_model.generate_content(textwrap.dedent(f\"\"\"\\\n",
        "            Extract relevant information\n",
        "            about user's query: {query}\n",
        "            From this source:\n",
        "\n",
        "            {page}\n",
        "\n",
        "            Note: Do not summarize. Only Extract and return the relevant information\n",
        "        \"\"\"))\n",
        "\n",
        "        urls = [url]\n",
        "        if response.candidates[0].citation_metadata:\n",
        "          extra_citations = response.candidates[0].citation_metadata.citation_sources\n",
        "          extra_urls = [source.url for source in extra_citations]\n",
        "          urls.extend(extra_urls)\n",
        "          search_urls.extend(extra_urls)\n",
        "          print(\"Additional citations:\", response.candidates[0].citation_metadata.citation_sources)\n",
        "        try:\n",
        "          text = response.text\n",
        "        except ValueError:\n",
        "          pass\n",
        "        else:\n",
        "          summary_results.append(text + \"\\n\\nBased on:\\n  \" + ',\\n  '.join(urls))\n",
        "\n",
        "      except DisambiguationError:\n",
        "        print(f\"\"\"Results when searching for \"{search_term}\" (originally for \"{query}\")\n",
        "        were ambiguous, hence skipping\"\"\")\n",
        "\n",
        "      except PageError:\n",
        "        print(f'{search_term} did not match with any page id, hence skipping.')\n",
        "\n",
        "  print(f\"Information Sources:\")\n",
        "  for url in search_urls:\n",
        "    print('    ', url)\n",
        "\n",
        "  return summary_results\n"
      ]
    },
    {
      "cell_type": "code",
      "execution_count": null,
      "metadata": {
        "id": "EWKkkKDXmzOX"
      },
      "outputs": [
        {
          "name": "stdout",
          "output_type": "stream",
          "text": [
            "Searching for \"What are LLMs?\"\n",
            "Related search terms: ['Large language model', 'Prompt engineering', 'Gemini (language model)']\n",
            "Fetching page: \"Large language model\"\n",
            "Information Source: https://en.wikipedia.org/wiki/Large_language_model\n",
            "Fetching page: \"Prompt engineering\"\n",
            "Information Source: https://en.wikipedia.org/wiki/Prompt_engineering\n",
            "Fetching page: \"Gemini (language model)\"\n",
            "Information Source: https://en.wikipedia.org/wiki/Gemini_(language_model)\n",
            "Information Sources:\n",
            "     https://en.wikipedia.org/wiki/Large_language_model\n",
            "     https://en.wikipedia.org/wiki/Prompt_engineering\n",
            "     https://en.wikipedia.org/wiki/Gemini_(language_model)\n"
          ]
        }
      ],
      "source": [
        "example = wikipedia_search([\"What are LLMs?\"])"
      ]
    },
    {
      "cell_type": "markdown",
      "metadata": {
        "id": "8bPT114QEPgW"
      },
      "source": [
        "以下是搜尋結果的樣子：\n"
      ]
    },
    {
      "cell_type": "code",
      "execution_count": null,
      "metadata": {
        "id": "8wy7YUFqEYTv"
      },
      "outputs": [
        {
          "data": {
            "text/markdown": "> **Definition:**\n> \n> * A large language model (LLM) is an artificial neural network that can perform natural language processing tasks such as text generation, classification, and question answering.\n> \n> **Training and Architecture:**\n> \n> * LLMs are trained on massive text datasets using self-supervised and semi-supervised learning techniques.\n> * They are typically built with transformer-based architectures and can have billions or even trillions of parameters.\n> * Prompt engineering is used to optimize the performance of LLMs on specific tasks.\n> \n> **Capabilities:**\n> \n> * **Text Generation:** LLMs can generate human-like text, including stories, articles, and code.\n> * **Language Understanding:** LLMs can understand the meaning and structure of text, including context and sentiment.\n> * **Question Answering:** LLMs can answer questions based on their knowledge of the text they have been trained on.\n> * **Natural Language Processing:** LLMs can perform various NLP tasks, such as sentiment analysis, machine translation, and named entity recognition.\n> \n> **Multimodality:**\n> \n> * LLMs can be extended to handle multiple modalities, such as images, audio, and video, by using tokenization methods.\n> * This enables them to perform tasks such as image captioning, video summarization, and audio transcription.\n> \n> **Properties:**\n> \n> * **Scaling Laws:** The performance of LLMs scales with the size of their training data, the number of parameters, and the computational power used for training.\n> * **Emergent Abilities:** LLMs exhibit emergent abilities that are not explicitly programmed into them, such as in-context learning and solving complex reasoning problems.\n> * **Interpretation:** Researchers are exploring methods to interpret the inner workings of LLMs and understand how they process and generate language.\n> \n> **Wider Impact:**\n> \n> * LLMs have potential applications in various industries, including healthcare, education, and customer service.\n> * They also raise concerns about copyright infringement, algorithmic bias, and the spread of misinformation.\n> \n> Based on:\n>   https://en.wikipedia.org/wiki/Large_language_model",
            "text/plain": [
              "<IPython.core.display.Markdown object>"
            ]
          },
          "metadata": {},
          "output_type": "display_data"
        },
        {
          "data": {
            "text/markdown": "> **What are LLMs?**\n> \n> Large Language Models (LLMs) are a type of generative AI model that can be trained on large amounts of text data to understand and generate human-like language. They are used in a variety of applications, including:\n> \n> * **Text generation:** LLMs can generate text that is indistinguishable from human-written text. This can be used for a variety of purposes, such as writing articles, stories, and marketing copy.\n> * **Machine translation:** LLMs can be used to translate text from one language to another.\n> * **Question answering:** LLMs can be used to answer questions by searching through large amounts of text data.\n> * **Summarization:** LLMs can be used to summarize large amounts of text into shorter, more manageable summaries.\n> \n> LLMs are still under development, but they have the potential to revolutionize the way we interact with computers. They could make it possible for us to communicate with computers in a more natural way, and they could help us to access and understand information more easily.\n> \n> Based on:\n>   https://en.wikipedia.org/wiki/Prompt_engineering",
            "text/plain": [
              "<IPython.core.display.Markdown object>"
            ]
          },
          "metadata": {},
          "output_type": "display_data"
        },
        {
          "data": {
            "text/markdown": "> - Large language models (LLMs) are advanced AI models that can process and generate human-like text.\n> - LLMs are trained on massive datasets of text and code, which allows them to understand and respond to a wide range of natural language queries.\n> - LLMs are used in a variety of applications, including search engines, chatbots, and machine translation.\n> - Gemini is a family of LLMs developed by Google DeepMind.\n> - Gemini comprises three models: Gemini Ultra, Gemini Pro, and Gemini Nano.\n> - Gemini Ultra is designed for \"highly complex tasks\", Gemini Pro is designed for \"a wide range of tasks\", and Gemini Nano is designed for \"on-device tasks\".\n> - Gemini was launched on December 6, 2023.\n> - Gemini is available through Google Cloud's Vertex AI service.\n> - Gemini is trained on and powered by Google's Tensor Processing Units (TPUs).\n> - Gemini has outperformed GPT-4, Anthropic's Claude 2, Inflection AI's Inflection-2, Meta's LLaMA 2, and xAI's Grok 1 on a variety of industry benchmarks.\n> - Gemini Pro is made available to Google Cloud customers on AI Studio and Vertex AI on December 13, while Gemini Nano will be made available to Android developers as well.\n> \n> Based on:\n>   https://en.wikipedia.org/wiki/Gemini_(language_model)",
            "text/plain": [
              "<IPython.core.display.Markdown object>"
            ]
          },
          "metadata": {},
          "output_type": "display_data"
        }
      ],
      "source": [
        "from IPython.display import display\n",
        "\n",
        "for e in example:\n",
        "  display(to_markdown(e))"
      ]
    },
    {
      "cell_type": "markdown",
      "metadata": {
        "id": "SKcH1LICeg5Z"
      },
      "source": [
        "### 傳遞工具給該模型\n"
      ]
    },
    {
      "cell_type": "markdown",
      "metadata": {
        "id": "qQcxR7cjLjGM"
      },
      "source": [
        "若你傳遞函式清單給 `GenerativeModel` 的 `tools` 參數，\n",
        "它會從函式特徵中擷取架構，並輸入提示，然後將架構傳遞到 API 呼叫。\n",
        "對此，模型或許會回傳 `FunctionCall` 物件，要求呼叫函式。\n",
        "\n",
        "注意：這種方法僅處理的註解為 `AllowedTypes = int | float | str | dict | list['AllowedTypes']`\n",
        "\n",
        "`GenerativeModel` 會保留對函式本身的參照，以便它 _能_ 在稍後階段在本地執行函式。\n"
      ]
    },
    {
      "cell_type": "code",
      "execution_count": null,
      "metadata": {
        "id": "39kqTnBRLDeQ"
      },
      "outputs": [],
      "source": [
        "model = genai.GenerativeModel(\n",
        "    'gemini-pro',\n",
        "    tools=[wikipedia_search],\n",
        "    generation_config={'temperature': 0.6})"
      ]
    },
    {
      "cell_type": "markdown",
      "metadata": {
        "id": "VedPbpzlh6jX"
      },
      "source": [
        "## 產生支援性搜尋查詢\n"
      ]
    },
    {
      "cell_type": "markdown",
      "metadata": {
        "id": "5sLKZik7isBW"
      },
      "source": [
        "為了讓用戶原本的查詢有更多支援的搜尋查詢，你會請模型產生更多這樣的查詢。這將幫助引擎在綜合層級涵蓋所詢問的問題。\n"
      ]
    },
    {
      "cell_type": "code",
      "execution_count": null,
      "metadata": {
        "id": "Z-Ym3H9KIosY"
      },
      "outputs": [],
      "source": [
        "instructions = \"\"\"You have access to the Wikipedia API which you will be using\n",
        "to answer a user's query. Your job is to generate a list of search queries which\n",
        "might answer a user's question. Be creative by using various key-phrases from\n",
        "the user's query. To generate variety of queries, ask questions which are\n",
        "related to  the user's query that might help to find the answer. The more\n",
        "queries you generate the better are the odds of you finding the correct answer.\n",
        "Here is an example:\n",
        "\n",
        "user: Tell me about Cricket World cup 2023 winners.\n",
        "\n",
        "function_call: wikipedia_search(['What is the name of the team that\n",
        "won the Cricket World Cup 2023?', 'Who was the captain of the Cricket World Cup\n",
        "2023 winning team?', 'Which country hosted the Cricket World Cup 2023?', 'What\n",
        "was the venue of the Cricket World Cup 2023 final match?', 'Cricket World cup 2023',\n",
        "'Who lifted the Cricket World Cup 2023 trophy?'])\n",
        "\n",
        "The search function will return a list of article summaries, use these to\n",
        "answer the  user's question.\n",
        "\n",
        "Here is the user's query: {query}\n",
        "\"\"\""
      ]
    },
    {
      "cell_type": "markdown",
      "metadata": {
        "id": "3Wyn3lV-d5S_"
      },
      "source": [
        "為了產生較有創意且更加隨機問題的變化，你須將模型的溫度參數設定為較高。值的範圍可以從 [0.0,1.0]，包含。接近 1.0 的值會產生更多變化且富有創意的回應，而接近 0.0 的值通常會產生模型更直接的回應。\n"
      ]
    },
    {
      "cell_type": "markdown",
      "metadata": {
        "id": "TD1vU6FXhYO5"
      },
      "source": [
        "## 啟用自動函式呼叫並呼叫 API\n"
      ]
    },
    {
      "cell_type": "markdown",
      "metadata": {
        "id": "qyUSnXJ5hg6x"
      },
      "source": [
        "現在使用 `enable_automatic_function_calling=True` 開始新的聊天。ChatGPT 將會處理呼叫函式所需的來回操作，並傳回最終回應：\n"
      ]
    },
    {
      "cell_type": "code",
      "execution_count": null,
      "metadata": {
        "id": "ZNJqA60yKNpT"
      },
      "outputs": [
        {
          "name": "stdout",
          "output_type": "stream",
          "text": [
            "Searching for \"How do deep-sea creatures survive in the deep sea?\"\n",
            "Related search terms: ['Deep-sea fish', 'Deep-sea community', 'Deep sea']\n",
            "Fetching page: \"Deep-sea fish\"\n",
            "Information Source: https://en.wikipedia.org/wiki/Deep-sea_fish\n",
            "Fetching page: \"Deep-sea community\"\n",
            "Information Source: https://en.wikipedia.org/wiki/Deep-sea_community\n",
            "Fetching page: \"Deep sea\"\n",
            "Information Source: https://en.wikipedia.org/wiki/Deep_sea\n",
            "Searching for \"What adaptations have deep-sea creatures developed to survive in the deep sea?\"\n",
            "Related search terms: ['Deep-sea fish', 'Deep-sea community', 'Deep sea']\n",
            "Searching for \"What is the pressure at the bottom of the ocean?\"\n",
            "Related search terms: ['DSV Limiting Factor', 'Titan submersible implosion', 'Seabed']\n",
            "Fetching page: \"DSV Limiting Factor\"\n",
            "Information Source: https://en.wikipedia.org/wiki/DSV_Limiting_Factor\n",
            "Fetching page: \"Titan submersible implosion\"\n",
            "Information Source: https://en.wikipedia.org/wiki/Titan_submersible_implosion\n",
            "Fetching page: \"Seabed\"\n",
            "Information Source: https://en.wikipedia.org/wiki/Seabed\n",
            "Searching for \"How do deep-sea creatures cope with the lack of sunlight?\"\n",
            "Related search terms: ['Deep-sea community', 'Deep sea', 'Deep-sea fish']\n",
            "Searching for \"What is the food chain like in the deep sea?\"\n",
            "Related search terms: ['Deep-sea community', 'Marine food web', 'Deep sea mining']\n",
            "Fetching page: \"Marine food web\"\n",
            "Information Source: https://en.wikipedia.org/wiki/Marine_food_web\n",
            "Fetching page: \"Deep sea mining\"\n",
            "Information Source: https://en.wikipedia.org/wiki/Deep_sea_mining\n",
            "Information Sources:\n",
            "     https://en.wikipedia.org/wiki/Deep-sea_fish\n",
            "     https://en.wikipedia.org/wiki/Deep-sea_community\n",
            "     https://en.wikipedia.org/wiki/Deep_sea\n",
            "     https://en.wikipedia.org/wiki/DSV_Limiting_Factor\n",
            "     https://en.wikipedia.org/wiki/Titan_submersible_implosion\n",
            "     https://en.wikipedia.org/wiki/Seabed\n",
            "     https://en.wikipedia.org/wiki/Marine_food_web\n",
            "     https://en.wikipedia.org/wiki/Deep_sea_mining\n"
          ]
        }
      ],
      "source": [
        "model = genai.GenerativeModel(\n",
        "    'gemini-pro', tools=[wikipedia_search], generation_config={'temperature': 0.6})\n",
        "\n",
        "chat = model.start_chat(enable_automatic_function_calling=True)\n",
        "\n",
        "query = \"Explain how deep-sea life survives.\"\n",
        "\n",
        "res = chat.send_message(instructions.format(query=query))"
      ]
    },
    {
      "cell_type": "code",
      "execution_count": null,
      "metadata": {
        "id": "1l8KWb13M_lJ"
      },
      "outputs": [
        {
          "data": {
            "text/markdown": "> Deep-sea life survives in the extreme conditions of the deep sea by developing various adaptations, including:\n> \n> * **Pressure Resistance:** Deep-sea organisms have evolved to withstand the crushing pressure of the deep sea, which can reach up to 1,000 times the pressure at sea level. Their bodies have a high internal pressure to balance the external pressure and prevent them from being crushed.\n> \n> * **Low Light Adaptation:** Many deep-sea fish have evolved large and sensitive eyes to maximize light absorption in the dark depths. Some species have multiple Rh1 opsin genes, which enhance their ability to see in low light conditions.\n> \n> * **Bioluminescence:** Many deep-sea creatures produce their own light through bioluminescent organs to attract prey, communicate, or camouflage themselves.\n> \n> * **Neutral Buoyancy:** Deep-sea fish often have low tissue density and reduced skeletal weight to maintain neutral buoyancy in the water column. Some species have swim bladders to help them adjust their buoyancy.\n> \n> * **Sensing Adaptations:** To navigate and locate prey in the dark, deep-sea creatures rely on highly sensitive senses such as touch, smell, and electroreception.\n> \n> * **Slow Metabolism and Energy Conservation:** Deep-sea organisms have adapted to survive on limited food sources. They have slower metabolisms and specialized feeding behaviors, such as lying in wait for prey or using lures to attract it.",
            "text/plain": [
              "<IPython.core.display.Markdown object>"
            ]
          },
          "execution_count": 11,
          "metadata": {},
          "output_type": "execute_result"
        }
      ],
      "source": [
        "to_markdown(res.text)"
      ]
    },
    {
      "cell_type": "markdown",
      "metadata": {
        "id": "ua7DPlj7HZyO"
      },
      "source": [
        "檢查額外的引文：\n"
      ]
    },
    {
      "cell_type": "code",
      "execution_count": null,
      "metadata": {
        "id": "ASotq7EcHAeo"
      },
      "outputs": [
        {
          "data": {
            "application/vnd.google.colaboratory.intrinsic+json": {
              "type": "string"
            },
            "text/plain": [
              "'No citations found'"
            ]
          },
          "execution_count": 12,
          "metadata": {},
          "output_type": "execute_result"
        }
      ],
      "source": [
        "res.candidates[0].citation_metadata or 'No citations found'"
      ]
    },
    {
      "cell_type": "markdown",
      "metadata": {
        "id": "A0CfKMjYFSQm"
      },
      "source": [
        "看來那奏效了。你可以瀏覽聊天記錄，查看在函式呼叫期間發送和接收內容的詳細資料：\n"
      ]
    },
    {
      "cell_type": "code",
      "execution_count": null,
      "metadata": {
        "id": "_9h2b8saNnxh"
      },
      "outputs": [
        {
          "name": "stdout",
          "output_type": "stream",
          "text": [
            "user -> {\n",
            "  \"text\": \"You have access to the Wikipedia API which you will be using\\nto answer a user's query. Your job is to generate a list of search queries which\\nmight answer a user's question. Be creative by using various key-phrases from\\nthe user's query. To generate variety of queries, ask questions which are\\nrelated to  the user's query that might help to find the answer. The more\\nqueries you generate the better are the odds of you finding the correct answer.\\nHere is an example:\\n\\nuser: Tell me about Cricket World cup 2023 winners.\\n\\nfunction_call: wikipedia_search(['What is the name of the team that\\nwon the Cricket World Cup 2023?', 'Who was the captain of the Cricket World Cup\\n2023 winning team?', 'Which country hosted the Cricket World Cup 2023?', 'What\\nwas the venue of the Cricket World Cup 2023 final match?', 'Cricket World cup 2023',\\n'Who lifted the Cricket World Cup 2023 trophy?'])\\n\\nThe search function will return a list of article summaries, use these to\\nanswer the  user's question.\\n\\nHere is the user's query: Explain how deep-sea life survives.\\n\"\n",
            "}\n",
            "------------------------------------------------------------\n",
            "model -> {\n",
            "  \"function_call\": {\n",
            "    \"name\": \"wikipedia_search\",\n",
            "    \"args\": {\n",
            "      \"search_queries\": [\n",
            "        \"How do deep-sea creatures survive in the deep sea?\",\n",
            "        \"What adaptations have deep-sea creatures developed to survive in the deep sea?\",\n",
            "        \"What is the pressure at the bottom of the ocean?\",\n",
            "        \"How do deep-sea creatures cope with the lack of sunlight?\",\n",
            "        \"What is the food chain like in the deep sea?\"\n",
            "      ]\n",
            "    }\n",
            "  }\n",
            "}\n",
            "------------------------------------------------------------\n",
            "user -> {\n",
            "  \"function_response\": {\n",
            "    \"name\": \"wikipedia_search\",\n",
            "    \"response\": {\n",
            "      \"result\": [\n",
            "        \"Deep-sea creatures have evolved various adaptations to survive in the extreme conditions of the deep sea.\\n\\n* **Pressure Resistance:** Deep-sea organisms have adapted to withstand the crushing pressure of the deep sea, which can reach up to 1,000 times the pressure at sea level. Their bodies have a high internal pressure to balance the external pressure and prevent them from being crushed.\\n\\n* **Low Light Adaptation:** Many deep-sea fish have evolved large and sensitive eyes to maximize light absorption in the dark depths. Some species have multiple Rh1 opsin genes, which enhance their ability to see in low light conditions.\\n\\n* **Bioluminescence:** Many deep-sea creatures produce their own light through bioluminescent organs to attract prey, communicate, or camouflage themselves.\\n\\n* **Neutral Buoyancy:** Deep-sea fish often have low tissue density and reduced skeletal weight to maintain neutral buoyancy in the water column. Some species have swim bladders to help them adjust their buoyancy.\\n\\n* **Sensing Adaptations:** To navigate and locate prey in the dark, deep-sea creatures rely on highly sensitive senses such as touch, smell, and electroreception.\\n\\n* **Slow Metabolism and Energy Conservation:** Deep-sea organisms have adapted to survive on limited food sources. They have slower metabolisms and specialized feeding behaviors, such as lying in wait for prey or using lures to attract it.\\n\\nBased on:\\n  https://en.wikipedia.org/wiki/Deep-sea_fish\",\n",
            "        \"Deep-sea creatures have evolved adaptations to survive the extreme conditions of the deep sea, such as:\\n\\n* **Hyperbaricity:** Pressure increases by about one atmosphere every ten meters in the deep sea. Fish in these regions are usually small, with minimal skeletal structure and no swim bladders to cope with the pressure.\\n\\n* **Temperature:** Below the thermocline, the water mass of the deep ocean is cold and homogeneous. It decreases gradually from 5 or 6 \\u00b0C at 1,000 meters to a constant temperature below 3,000 to 4,000 meters.\\n\\n* **Salinity:** Salinity is relatively constant throughout the depths of the deep sea, except in regions such as the Mediterranean Sea, where evaporation causes high salinity, and in brine pools, which have higher salinity due to salt deposits.\\n\\n* **Energy sources:** Deep-sea creatures rely on various energy sources, including:\\n\\n    * **Marine snow:** Repackaged particles of organic matter that sink at a faster rate, providing food for organisms on the bottom.\\n    * **Whale falls:** Dead whales provide a significant amount of organic matter to the deep sea, supporting a variety of organisms in different stages of decomposition.\\n    * **Chemosynthesis:** Bacteria at hydrothermal vents and cold seeps use chemical energy to produce organic matter, providing a food source for vent-associated organisms.\\n\\nBased on:\\n  https://en.wikipedia.org/wiki/Deep-sea_community\",\n",
            "        \"**How deep-sea creatures survive in the deep sea:**\\n\\n1. **Low temperatures**: Deep-sea organisms have adapted to survive in cold temperatures by developing unique physiological and metabolic mechanisms.\\n\\n2. **Darkness**: Many deep-sea creatures have developed large eyes and sensitive photoreceptors to make the most of the limited light available. Some species also use bioluminescence to attract prey or communicate with each other.\\n\\n3. **High pressure**: Deep-sea organisms have evolved adaptations to withstand the extreme pressure of the deep sea environment. Their bodies and cells have structural and biochemical adaptations that allow them to maintain their integrity under high pressure.\\n\\n4. **Limited food availability**: Deep-sea creatures have adapted to survive with limited food sources. They may rely on scavenging, predation, or filter feeding to obtain nutrients.\\n\\n5. **Unique adaptations**: Deep-sea creatures have evolved a variety of adaptations, such as gelatinous flesh, bioluminescence, and enlarged sensory organs, to survive in the harsh conditions of the deep sea.\\n\\nBased on:\\n  https://en.wikipedia.org/wiki/Deep_sea\",\n",
            "        \"I'm sorry, but the provided text discusses deep-sea exploration and diving expeditions and does not contain any information about the pressure at the bottom of the ocean. Therefore, I cannot extract the requested data from the provided context.\\n\\nBased on:\\n  https://en.wikipedia.org/wiki/DSV_Limiting_Factor\",\n",
            "        \"Unfortunately, I'm unable to extract information about the pressure at the bottom of the ocean from the text you've provided.\\n\\nBased on:\\n  https://en.wikipedia.org/wiki/Titan_submersible_implosion\",\n",
            "        \"The pressure at the bottom of the ocean varies depending on the depth. The deeper the water, the greater the pressure. At the bottom of the Mariana Trench, the deepest point in the ocean, the pressure is over 1,000 times greater than the pressure at sea level. This extreme pressure makes it difficult for most organisms to survive in the deepest parts of the ocean.\\n\\nBased on:\\n  https://en.wikipedia.org/wiki/Seabed\",\n",
            "        \"**Food chain in the deep sea:**\\n\\nIn the deep sea, phytoplankton are the primary producers, followed by zooplankton, filter feeders, predatory vertebrates, and apex predators. This food chain is inverted compared to terrestrial environments, where primary producers (plants) have a larger biomass than consumers. \\n\\n**Importance of zooplankton:**\\nZooplankton form the second trophic level in the food chain and play a crucial role in marine ecosystems. They consume phytoplankton and are the primary food source for larger animals, such as fish, marine mammals, and seabirds.\\n\\n**Microbial loop:**\\nThe microbial loop is a process in which marine bacteria and archaea decompose organic matter and recycle nutrients back into the marine food web. This process helps maintain ocean productivity and supports higher trophic levels.\\n\\n**Cryptic interactions:**\\nCryptic interactions are hidden interactions within the marine food web that have been overlooked by traditional methods. These interactions, such as mixotrophy and auxotrophy, can have significant impacts on food web dynamics and model results.\\n\\n**Anthropogenic effects:**\\nHuman activities, such as overfishing and climate change, can disrupt marine food webs. Overfishing removes top predators, which can lead to trophic cascades and ecosystem imbalances. Climate change can alter ocean temperatures and acidification, which can negatively impact marine organisms and disrupt food web dynamics.\\n\\nBased on:\\n  https://en.wikipedia.org/wiki/Marine_food_web\",\n",
            "        \"The food chain in the deep sea is not directly mentioned in the given context.\\n\\nBased on:\\n  https://en.wikipedia.org/wiki/Deep_sea_mining\"\n",
            "      ]\n",
            "    }\n",
            "  }\n",
            "}\n",
            "------------------------------------------------------------\n",
            "model -> {\n",
            "  \"text\": \"Deep-sea life survives in the extreme conditions of the deep sea by developing various adaptations, including:\\n\\n* **Pressure Resistance:** Deep-sea organisms have evolved to withstand the crushing pressure of the deep sea, which can reach up to 1,000 times the pressure at sea level. Their bodies have a high internal pressure to balance the external pressure and prevent them from being crushed.\\n\\n* **Low Light Adaptation:** Many deep-sea fish have evolved large and sensitive eyes to maximize light absorption in the dark depths. Some species have multiple Rh1 opsin genes, which enhance their ability to see in low light conditions.\\n\\n* **Bioluminescence:** Many deep-sea creatures produce their own light through bioluminescent organs to attract prey, communicate, or camouflage themselves.\\n\\n* **Neutral Buoyancy:** Deep-sea fish often have low tissue density and reduced skeletal weight to maintain neutral buoyancy in the water column. Some species have swim bladders to help them adjust their buoyancy.\\n\\n* **Sensing Adaptations:** To navigate and locate prey in the dark, deep-sea creatures rely on highly sensitive senses such as touch, smell, and electroreception.\\n\\n* **Slow Metabolism and Energy Conservation:** Deep-sea organisms have adapted to survive on limited food sources. They have slower metabolisms and specialized feeding behaviors, such as lying in wait for prey or using lures to attract it.\"\n",
            "}\n",
            "------------------------------------------------------------\n"
          ]
        }
      ],
      "source": [
        "for content in chat.history:\n",
        "  part = content.parts[0]\n",
        "\n",
        "  print(f'{content.role} -> ', end='')\n",
        "  print(json.dumps(type(part).to_dict(part), indent=2))\n",
        "  print('---' * 20)\n"
      ]
    },
    {
      "cell_type": "markdown",
      "metadata": {
        "id": "WDWc9Fj9Ig6A"
      },
      "source": [
        "在聊天記錄中，你可以看到全部 4 個步驟：\n",
        "\n",
        "1. 使用者送出查詢。\n",
        "2. 模型使用 `glm.FunctionCall` 回覆，呼叫 `wikipedia_search`，並提供數個相關搜尋。\n",
        "3. 由於你在建立 `genai.ChatSession` 時啟用了 `enable_automatic_function_calling=True`，因此執行搜尋函式並將文章摘要清單傳回模型。\n",
        "4. 模型依照提示中的說明，根據摘要產生最後答案。\n"
      ]
    },
    {
      "cell_type": "markdown",
      "metadata": {
        "id": "PJP1EAgfnPUA"
      },
      "source": [
        "## [選填] 手動執行函式呼叫\n"
      ]
    },
    {
      "cell_type": "markdown",
      "metadata": {
        "id": "Sa5ke2ssKl7M"
      },
      "source": [
        "如果你想了解在背後發生的場景，此區段會手動執行`FunctionCall`來示範。\n"
      ]
    },
    {
      "cell_type": "code",
      "execution_count": null,
      "metadata": {
        "id": "6Q4p-zSP7ZBs"
      },
      "outputs": [],
      "source": [
        "import google.ai.generativelanguage as glm # for lower level code"
      ]
    },
    {
      "cell_type": "code",
      "execution_count": null,
      "metadata": {
        "id": "wavbHrL3K5vo"
      },
      "outputs": [],
      "source": [
        "chat = model.start_chat()"
      ]
    },
    {
      "cell_type": "code",
      "execution_count": null,
      "metadata": {
        "id": "ON4LTcmiLs2E"
      },
      "outputs": [],
      "source": [
        "result = chat.send_message(instructions.format(query=query))"
      ]
    },
    {
      "cell_type": "markdown",
      "metadata": {
        "id": "__JN3YuHe7fR"
      },
      "source": [
        "一開始模型回傳一個函式呼叫：\n"
      ]
    },
    {
      "cell_type": "code",
      "execution_count": null,
      "metadata": {
        "id": "Lgngdvcdi06F"
      },
      "outputs": [
        {
          "name": "stdout",
          "output_type": "stream",
          "text": [
            "{\n",
            "  \"name\": \"wikipedia_search\",\n",
            "  \"args\": {\n",
            "    \"search_queries\": [\n",
            "      \"How do deep-sea creatures survive the immense pressure of the deep sea?\",\n",
            "      \"What adaptations have deep-sea creatures evolved to withstand the extreme conditions of their environment?\",\n",
            "      \"How do deep-sea creatures generate their own light?\",\n",
            "      \"What is the role of bioluminescence in the deep sea?\",\n",
            "      \"How do deep-sea creatures find food in the darkness of the deep sea?\",\n",
            "      \"What are the unique challenges faced by deep-sea creatures?\",\n",
            "      \"How do deep-sea creatures reproduce in the extreme conditions of their environment?\"\n",
            "    ]\n",
            "  }\n",
            "}\n"
          ]
        }
      ],
      "source": [
        "fc = result.candidates[0].content.parts[0].function_call\n",
        "fc = type(fc).to_dict(fc)\n",
        "print(json.dumps(fc, indent=2))"
      ]
    },
    {
      "cell_type": "code",
      "execution_count": null,
      "metadata": {
        "id": "Bfp1Kqv7PE8N"
      },
      "outputs": [
        {
          "data": {
            "application/vnd.google.colaboratory.intrinsic+json": {
              "type": "string"
            },
            "text/plain": [
              "'wikipedia_search'"
            ]
          },
          "execution_count": 18,
          "metadata": {},
          "output_type": "execute_result"
        }
      ],
      "source": [
        "fc['name']"
      ]
    },
    {
      "cell_type": "markdown",
      "metadata": {
        "id": "xpD3axtDmfZb"
      },
      "source": [
        "使用產生的引數呼叫該函式以取得結果。\n"
      ]
    },
    {
      "cell_type": "code",
      "execution_count": null,
      "metadata": {
        "id": "Ek4g-CTAPSou"
      },
      "outputs": [
        {
          "name": "stdout",
          "output_type": "stream",
          "text": [
            "Searching for \"How do deep-sea creatures survive the immense pressure of the deep sea?\"\n",
            "Related search terms: ['Deep-sea community', 'Sea', 'Ocean']\n",
            "Fetching page: \"Deep-sea community\"\n",
            "Information Source: https://en.wikipedia.org/wiki/Deep-sea_community\n",
            "Fetching page: \"Sea\"\n",
            "Information Source: https://en.wikipedia.org/wiki/Sea\n",
            "Fetching page: \"Ocean\"\n",
            "Information Source: https://en.wikipedia.org/wiki/Ocean\n",
            "Searching for \"What adaptations have deep-sea creatures evolved to withstand the extreme conditions of their environment?\"\n",
            "Related search terms: ['Deep-sea fish', 'Astrobiology', 'Marine life']\n",
            "Fetching page: \"Deep-sea fish\"\n",
            "Information Source: https://en.wikipedia.org/wiki/Deep-sea_fish\n",
            "Fetching page: \"Astrobiology\"\n",
            "Information Source: https://en.wikipedia.org/wiki/Astrobiology\n",
            "Fetching page: \"Marine life\"\n",
            "Information Source: https://en.wikipedia.org/wiki/Marine_life\n",
            "Searching for \"How do deep-sea creatures generate their own light?\"\n",
            "Related search terms: ['Bioluminescence', 'The Deep (TV series)', 'Leviathan']\n",
            "Fetching page: \"Bioluminescence\"\n",
            "Information Source: https://en.wikipedia.org/wiki/Bioluminescence\n",
            "Fetching page: \"The Deep (TV series)\"\n",
            "Information Source: https://en.wikipedia.org/wiki/The_Deep_(TV_series)\n",
            "Fetching page: \"Leviathan\"\n",
            "Information Source: https://en.wikipedia.org/wiki/Leviathan\n",
            "Searching for \"What is the role of bioluminescence in the deep sea?\"\n",
            "Related search terms: ['Deep-sea fish', 'Deep sea', 'Bioluminescence']\n",
            "Fetching page: \"Deep sea\"\n",
            "Information Source: https://en.wikipedia.org/wiki/Deep_sea\n",
            "Searching for \"How do deep-sea creatures find food in the darkness of the deep sea?\"\n",
            "Related search terms: ['Deep-sea fish', 'Deep-sea community', 'Anglerfish']\n",
            "Fetching page: \"Anglerfish\"\n",
            "Information Source: https://en.wikipedia.org/wiki/Anglerfish\n",
            "Searching for \"What are the unique challenges faced by deep-sea creatures?\"\n",
            "Related search terms: ['Deep sea', 'List of legendary creatures by type', 'Marine biology']\n",
            "Fetching page: \"List of legendary creatures by type\"\n",
            "Information Source: https://en.wikipedia.org/wiki/List_of_legendary_creatures_by_type\n",
            "Fetching page: \"Marine biology\"\n",
            "Information Source: https://en.wikipedia.org/wiki/Marine_biology\n",
            "Searching for \"How do deep-sea creatures reproduce in the extreme conditions of their environment?\"\n",
            "Related search terms: ['Jellyfish', 'Marine life', 'Microorganism']\n",
            "Fetching page: \"Jellyfish\"\n",
            "Information Source: https://en.wikipedia.org/wiki/Jellyfish\n",
            "Fetching page: \"Microorganism\"\n",
            "Information Source: https://en.wikipedia.org/wiki/Microorganism\n",
            "Information Sources:\n",
            "     https://en.wikipedia.org/wiki/Deep-sea_community\n",
            "     https://en.wikipedia.org/wiki/Sea\n",
            "     https://en.wikipedia.org/wiki/Ocean\n",
            "     https://en.wikipedia.org/wiki/Deep-sea_fish\n",
            "     https://en.wikipedia.org/wiki/Astrobiology\n",
            "     https://en.wikipedia.org/wiki/Marine_life\n",
            "     https://en.wikipedia.org/wiki/Bioluminescence\n",
            "     https://en.wikipedia.org/wiki/The_Deep_(TV_series)\n",
            "     https://en.wikipedia.org/wiki/Leviathan\n",
            "     https://en.wikipedia.org/wiki/Deep_sea\n",
            "     https://en.wikipedia.org/wiki/Anglerfish\n",
            "     https://en.wikipedia.org/wiki/List_of_legendary_creatures_by_type\n",
            "     https://en.wikipedia.org/wiki/Marine_biology\n",
            "     https://en.wikipedia.org/wiki/Jellyfish\n",
            "     https://en.wikipedia.org/wiki/Microorganism\n"
          ]
        }
      ],
      "source": [
        "summaries = wikipedia_search(**fc['args'])"
      ]
    },
    {
      "cell_type": "markdown",
      "metadata": {
        "id": "kv4WGnG_gT3F"
      },
      "source": [
        "現在把 `FunctionResult` 傳送給模型。\n"
      ]
    },
    {
      "cell_type": "code",
      "execution_count": null,
      "metadata": {
        "id": "bcLuieHqj9PW"
      },
      "outputs": [
        {
          "data": {
            "text/markdown": "> Deep-sea creatures have evolved unique adaptations to survive the immense pressure of the deep sea. These adaptations include having flexible bodies, using hydrostatic pressure to their advantage, and having specialized proteins that protect their cells from damage.\n> \n> Deep-sea creatures also have a number of adaptations that help them find food in the darkness of the deep sea. These adaptations include having large eyes that are sensitive to low levels of light, and having long, sensitive tentacles that can detect prey.\n> \n> Some deep-sea creatures also have bioluminescent organs that they use to attract prey or communicate with each other.",
            "text/plain": [
              "<IPython.core.display.Markdown object>"
            ]
          },
          "execution_count": 20,
          "metadata": {},
          "output_type": "execute_result"
        }
      ],
      "source": [
        "response = chat.send_message(\n",
        "    glm.Content(\n",
        "      parts=[glm.Part(\n",
        "          function_response = glm.FunctionResponse(\n",
        "            name='wikipedia_search',\n",
        "            response={'result': summaries}\n",
        "          )\n",
        "      )]\n",
        "    )\n",
        ")\n",
        "\n",
        "to_markdown(response.text)"
      ]
    },
    {
      "cell_type": "markdown",
      "metadata": {
        "id": "L2Vfv8xpmuV1"
      },
      "source": [
        "## 重新排名搜尋結果\n"
      ]
    },
    {
      "cell_type": "markdown",
      "metadata": {
        "id": "cQ3JUJLeGGzA"
      },
      "source": [
        "協助函式來嵌入內容：\n"
      ]
    },
    {
      "cell_type": "code",
      "execution_count": null,
      "metadata": {
        "id": "mSkE7EynJBwF"
      },
      "outputs": [],
      "source": [
        "def get_embeddings(content: list[str]) -> np.ndarray:\n",
        "  embeddings = genai.embed_content('models/embedding-001', content, 'SEMANTIC_SIMILARITY')\n",
        "  embds = embeddings.get('embedding', None)\n",
        "  embds = np.array(embds).reshape(len(embds), -1)\n",
        "  return embds"
      ]
    },
    {
      "cell_type": "markdown",
      "metadata": {
        "id": "tip8ArqJf_ep"
      },
      "source": [
        "請參考[嵌入式指南](https://ai.google.dev/docs/embeddings_guide)取得更多有關嵌入式的資訊\n"
      ]
    },
    {
      "cell_type": "markdown",
      "metadata": {
        "id": "nSPyycFuFj-_"
      },
      "source": [
        "下一步是定義可用於計算兩個嵌入向量之間相似度分數的函式。這些分數將協助你決定哪個嵌入向量與使用者的查詢最相關。\n"
      ]
    },
    {
      "cell_type": "markdown",
      "metadata": {
        "id": "ltbB0vDsKQtI"
      },
      "source": [
        "現在你將實作餘弦相似度作為你的指標。這裡回傳的嵌入向量會是單位長度，因此它們的 L1 範數 (`np.linalg.norm()`) 會約等於 1。因此，計算餘弦相似度本質上與計算它們的點積分數相同。\n"
      ]
    },
    {
      "cell_type": "code",
      "execution_count": null,
      "metadata": {
        "id": "9iDFdzq_JWJW"
      },
      "outputs": [],
      "source": [
        "def dot_product(a: np.ndarray, b: np.ndarray):\n",
        "  return (a @ b.T)"
      ]
    },
    {
      "cell_type": "markdown",
      "metadata": {
        "id": "MrF_1c_M_Hw3"
      },
      "source": [
        "### 與使用者的查詢相似度\n",
        "\n",
        "現在是時候找到由維基百科 API 傳回的最相關搜尋結果。\n",
        "\n",
        "使用 Gemini API 來為使用者的查詢和搜尋結果取得嵌入碼。\n"
      ]
    },
    {
      "cell_type": "code",
      "execution_count": null,
      "metadata": {
        "id": "gK9ryjftGDNe"
      },
      "outputs": [],
      "source": [
        "search_res = get_embeddings(summaries)\n",
        "embedded_query = get_embeddings([query])"
      ]
    },
    {
      "cell_type": "markdown",
      "metadata": {
        "id": "2wwWq30uGRG3"
      },
      "source": [
        "計算相似度得分：\n"
      ]
    },
    {
      "cell_type": "code",
      "execution_count": null,
      "metadata": {
        "id": "jWlFNYIsGV0X"
      },
      "outputs": [],
      "source": [
        "sim_value = dot_product(search_res, embedded_query)"
      ]
    },
    {
      "cell_type": "markdown",
      "metadata": {
        "id": "bJW1pQQXG2w2"
      },
      "source": [
        "使用 `np.argmax` 選擇最佳候選。\n",
        "\n",
        "**使用者輸入：** 解釋深海生物如何生存。\n",
        "\n",
        "**回答：** \n"
      ]
    },
    {
      "cell_type": "code",
      "execution_count": null,
      "metadata": {
        "id": "8vDMDnCsG8Wn"
      },
      "outputs": [
        {
          "name": "stdout",
          "output_type": "stream",
          "text": [
            "Deep-sea creatures survive the immense pressure of the deep sea by evolving adaptations that allow them to withstand the extreme conditions. These adaptations include having flexible bodies, using hydrostatic pressure to their advantage, and having specialized proteins that protect their cells from damage.\n",
            "\n",
            "Based on:\n",
            "  https://en.wikipedia.org/wiki/Sea\n"
          ]
        }
      ],
      "source": [
        "print(summaries[np.argmax(sim_value)])"
      ]
    },
    {
      "cell_type": "markdown",
      "metadata": {
        "id": "Ozn6mIFvoyJU"
      },
      "source": [
        "### 與假設文件嵌入 (HyDE) 的相似性\n",
        "\n",
        "從 [Gao et al](https://arxiv.org/abs/2212.10496) 汲取靈感，此處的目標是使用 `gemini-pro` 的內部知識為用戶查詢產生範本答案。此假設答案將用作計算所有搜尋結果相關性的基準。\n"
      ]
    },
    {
      "cell_type": "code",
      "execution_count": null,
      "metadata": {
        "id": "J7m5KAkMREBH"
      },
      "outputs": [
        {
          "data": {
            "text/markdown": "> In the abyssal depths of the ocean, where sunlight fades into eternal darkness and pressure increases with each descending fathom, life adapts to the extreme with remarkable resilience.\n> \n> At the core of this survival lies a unique set of adaptations that optimize energy conservation and maximize resource utilization. Organisms here harness the power of [unique chemical reactions] and [specialized organs] to extract sustenance from the meager organic matter that drifts down from the sunlit surface.\n> \n> The frigid temperatures and high-pressure environment necessitate a [slowed metabolism] that dramatically reduces energy expenditure. Organisms have evolved [flexible structures] that withstand the crushing forces, and [specialized enzymes] that function optimally in the cold and darkness.\n> \n> Many deep-sea creatures have developed [bioluminescent capabilities], creating their own light to attract mates or lure prey. These glowing displays illuminate the otherwise pitch-black surroundings, facilitating communication and survival.\n> \n> Moreover, deep-sea life exhibits [symbiotic relationships] with other organisms. Some species form partnerships with [bacteria that provide nourishment], while others establish alliances with [larger predators that offer protection]. These codependencies foster survival in an environment where resources are scarce.\n> \n> With their exceptional adaptations, deep-sea creatures defy the odds, thriving in an environment that would crush most other life forms. Their resilience and ingenuity serve as a testament to the boundless wonders that lie hidden in the unfathomable depths of our oceans.",
            "text/plain": [
              "<IPython.core.display.Markdown object>"
            ]
          },
          "execution_count": 26,
          "metadata": {},
          "output_type": "execute_result"
        }
      ],
      "source": [
        "hypothetical_ans_model = genai.GenerativeModel('gemini-pro')\n",
        "res = hypothetical_ans_model.generate_content(f\"\"\"Generate a hypothetical answer\n",
        "to the user's query by using your own knowledge. Assume that you know everything\n",
        "about the said topic. Do not use factual information, instead use placeholders\n",
        "to complete your answer. Your answer should feel like it has been written by a human.\n",
        "\n",
        "query: {query}\"\"\")\n",
        "\n",
        "to_markdown(res.text)"
      ]
    },
    {
      "cell_type": "markdown",
      "metadata": {
        "id": "85f4MpLgrYbW"
      },
      "source": [
        "使用 Gemini API 為基線回答取得嵌入，並將它們與搜尋結果比較\n"
      ]
    },
    {
      "cell_type": "code",
      "execution_count": null,
      "metadata": {
        "id": "fSI6-5eYI3me"
      },
      "outputs": [],
      "source": [
        "hypothetical_ans = get_embeddings([res.text])"
      ]
    },
    {
      "cell_type": "markdown",
      "metadata": {
        "id": "WxYGEWbqrh44"
      },
      "source": [
        "計算相似度評分以對搜尋結果進行排名\n"
      ]
    },
    {
      "cell_type": "code",
      "execution_count": null,
      "metadata": {
        "id": "99sjvMtlJfL_"
      },
      "outputs": [],
      "source": [
        "sim_value = dot_product(search_res, hypothetical_ans)"
      ]
    },
    {
      "cell_type": "code",
      "execution_count": null,
      "metadata": {
        "id": "C32IhIapQFNa"
      },
      "outputs": [
        {
          "data": {
            "text/plain": [
              "array([[0.74144238],\n",
              "       [0.81955475],\n",
              "       [0.83515347],\n",
              "       [0.79930045],\n",
              "       [0.78609111],\n",
              "       [0.83174707],\n",
              "       [0.77690633],\n",
              "       [0.69279512],\n",
              "       [0.69031457],\n",
              "       [0.73286281],\n",
              "       [0.73241528],\n",
              "       [0.74342376],\n",
              "       [0.79973473],\n",
              "       [0.67441962],\n",
              "       [0.70701801]])"
            ]
          },
          "execution_count": 29,
          "metadata": {},
          "output_type": "execute_result"
        }
      ],
      "source": [
        "sim_value"
      ]
    },
    {
      "cell_type": "markdown",
      "metadata": {
        "id": "wJ7pklxursSk"
      },
      "source": [
        "使用 `np.argmax` 選擇最佳候選。\n",
        "\n",
        "**使用者輸入：** 解釋深海生物如何生存。\n",
        "\n",
        "**回答：** \n"
      ]
    },
    {
      "cell_type": "code",
      "execution_count": null,
      "metadata": {
        "id": "MzTfyU_mJ8-M"
      },
      "outputs": [
        {
          "data": {
            "text/markdown": "> Deep-sea creatures can endure the immense pressure in the deep sea due to a variety of adaptations. These adaptations include:\n> \n> * **Having a body that is made up mostly of water.** This reduces the amount of pressure that the creature's body experiences.\n> * **Having a thick, tough skin that is resistant to pressure.** This helps to protect the creature's body from the crushing pressure of the water.\n> * **Having a skeleton that is made of a material that is stronger than bone.** This helps to support the creature's body and prevent it from collapsing under pressure.\n> * **Having a circulatory system that is adapted to high pressure.** This helps to ensure that the creature can get the oxygen and nutrients it needs to survive.\n> * **Having a metabolism that is slowed down.** This helps to conserve energy and prevent the creature from overheating.\n> \n> These adaptations allow deep-sea creatures to survive in the extreme conditions of the deep sea.\n> \n> Based on:\n>   https://en.wikipedia.org/wiki/Ocean",
            "text/plain": [
              "<IPython.core.display.Markdown object>"
            ]
          },
          "execution_count": 30,
          "metadata": {},
          "output_type": "execute_result"
        }
      ],
      "source": [
        "to_markdown(summaries[np.argmax(sim_value)])"
      ]
    },
    {
      "cell_type": "markdown",
      "metadata": {
        "id": "UjDN2OUpsL6M"
      },
      "source": [
        "你現在已利用嵌入式建立搜尋重新排名引擎！\n"
      ]
    },
    {
      "cell_type": "markdown",
      "metadata": {
        "id": "AKH2vs2Lc1R1"
      },
      "source": [
        "## 後續步驟\n",
        "\n",
        "我希望你覺得這個範例有幫助！請在 [Gemini 指南](https://github.com/google-gemini/gemini-guide/) 中查看更多範例以瞭解更多。\n"
      ]
    }
  ],
  "metadata": {
    "colab": {
      "name": "Search_reranking_using_embeddings.ipynb",
      "toc_visible": true
    },
    "kernelspec": {
      "display_name": "Python 3",
      "name": "python3"
    }
  },
  "nbformat": 4,
  "nbformat_minor": 0
}