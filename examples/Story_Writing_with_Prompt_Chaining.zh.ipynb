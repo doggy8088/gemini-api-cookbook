{
  "cells": [
    {
      "cell_type": "markdown",
      "metadata": {
        "id": "n2oDJZEF6Mqh"
      },
      "source": [
        "# 提示鏈接和疊代生成用於故事寫作\n",
        "\n",
        "<table>\n",
        "  <td>\n",
        "    <a target=\"_blank\" href=\"https://colab.research.google.com/github/google-gemini/gemini-api-cookbook/blob/main/examples/Story_Writing_with_Prompt_Chaining.zh.ipynb\"><img src=\"https://www.tensorflow.org/images/colab_logo_32px.png\" />在 Google Colab 中執行</a>\n",
        "  </td>\n",
        "</table>\n"
      ]
    },
    {
      "cell_type": "markdown",
      "metadata": {
        "id": "NYMQCbLzVrU_"
      },
      "source": [
        "這個筆記本示範如何使用兩個強大的功能撰寫一個故事：提示鏈接和叠代生成。這些功能可用於處理複雜任務，這些任務難以或不可能在單個步驟中完成。\n",
        "\n",
        "**提示鏈接** 包括將一個較大的任務分解為較小的、相互連接的提示。然後，每個提示的輸出成為下一個提示的輸入，逐步引導語言模型完成該過程。這種方法提供了幾個好處：\n",
        "\n",
        "* 改進的準確性：較小的、集中的提示可以從語言模型中得到更好的結果。\n",
        "* 偵錯：可以更輕鬆地識別鏈中出現問題的地方，從而進行有針對性的調整和改進。\n",
        "* 複雜的任務：透過將複雜的問題分解成可管理的步驟，提示鏈接使語言模型能夠處理更複雜的任務。\n",
        "\n",
        "**叠代生成** 是指叠代建構所需輸出的過程。在這種情況下，我們將使用它撰寫一個比單個生成窗口允許的更長的文稿。叠代生成提供了幾個好處：\n",
        "\n",
        "* 較長的輸出：它允許建立更長、更詳細的輸出，突破單個生成窗口的限制。\n",
        "* 靈活性：你可以在每次叠代中調整和完善輸出，確保故事按照期望的方向發展。\n",
        "* 人控迴路：你可以在每一步提供反饋和指導，確保故事與你的創意願景相一致。\n",
        "\n",
        "透過組合這些技術，你可以一點一點地創造一個引人入勝且結構良好的故事，同時保持對創作過程的掌控。\n"
      ]
    },
    {
      "cell_type": "markdown",
      "metadata": {
        "id": "RKpX1K014WZ-"
      },
      "source": [
        "## 設定\n"
      ]
    },
    {
      "cell_type": "code",
      "execution_count": null,
      "metadata": {
        "id": "rIaXSa8p3KIn"
      },
      "outputs": [
        {
          "name": "stdout",
          "output_type": "stream",
          "text": [
            "\u001b[?25l     \u001b[90m━━━━━━━━━━━━━━━━━━━━━━━━━━━━━━━━━━━━━━━━\u001b[0m \u001b[32m0.0/137.4 kB\u001b[0m \u001b[31m?\u001b[0m eta \u001b[36m-:--:--\u001b[0m\r\u001b[2K     \u001b[91m━━━━━━━━━━━━━━━━━━━━━━━━━━━━━━━━━━━━━━\u001b[0m\u001b[91m╸\u001b[0m\u001b[90m━\u001b[0m \u001b[32m133.1/137.4 kB\u001b[0m \u001b[31m3.8 MB/s\u001b[0m eta \u001b[36m0:00:01\u001b[0m\r\u001b[2K     \u001b[90m━━━━━━━━━━━━━━━━━━━━━━━━━━━━━━━━━━━━━━━━\u001b[0m \u001b[32m137.4/137.4 kB\u001b[0m \u001b[31m2.6 MB/s\u001b[0m eta \u001b[36m0:00:00\u001b[0m\n",
            "\u001b[?25h"
          ]
        }
      ],
      "source": [
        "! pip install -q -U google-generativeai"
      ]
    },
    {
      "cell_type": "markdown",
      "metadata": {
        "id": "GFu9ooSe4kF5"
      },
      "source": [
        "要運行下列單元格，你的 API 金鑰必須儲存在名為「GOOGLE_API_KEY」的 Colab Secret 中。如果你尚未擁有 API 金鑰，或者不確定如何建立 Colab Secret，請查看[驗證](https://github.com/google-gemini/gemini-api-cookbook/blob/main/quickstarts/Authentication.ipynb) 快速入門以取得範例。\n"
      ]
    },
    {
      "cell_type": "code",
      "execution_count": null,
      "metadata": {
        "id": "sTedGxE7_eah"
      },
      "outputs": [],
      "source": [
        "import google.generativeai as genai\n",
        "from google.api_core import retry\n",
        "from google.colab import userdata\n",
        "from pprint import pprint\n",
        "\n",
        "GOOGLE_API_KEY=userdata.get('GOOGLE_API_KEY')\n",
        "genai.configure(api_key=GOOGLE_API_KEY)\n",
        "\n",
        "model = genai.GenerativeModel('gemini-1.0-pro')\n",
        "\n",
        "# For convenience, a simple wrapper to let the SDK handle error retries\n",
        "def generate_with_retry(model, prompt):\n",
        "  return model.generate_content(prompt, request_options={'retry':retry.Retry()})"
      ]
    },
    {
      "cell_type": "markdown",
      "metadata": {
        "id": "JPCM22h54ugA"
      },
      "source": [
        "## 提示: 引導語言模型\n",
        "\n",
        "我們將使用一系列相互連結的提示來引導語言模型撰寫故事的過程。這些提示將涵蓋故事的前提、大綱和起點，最終形成完整的敘事。\n",
        "\n",
        "仔細撰寫這些提示以提供明確的說明和相關資訊給語言模型非常重要。這將有助於模型產生與你的創意眼光一致的高品質內容。\n"
      ]
    },
    {
      "cell_type": "markdown",
      "metadata": {
        "id": "Dz_icOS44wNw"
      },
      "source": [
        "### 撰寫故事的提示鏈\n",
        "\n",
        "本節包含會引導語言模型完成寫作故事流程的提示。這些提示設計成相互串聯，一個提示的輸出會輸入到下一個提示。\n",
        "\n",
        "每個提示包含一個 **人物陳述** ，它協助語言模型了解其角色並產生更相關且準確的內容。在這個例子中，人物陳述是：`你是一位獲獎的科幻小說作者，擅長寫作遼闊且結構複雜的故事。你的最終目標是寫下一本得獎的科幻小說。`\n",
        "\n",
        "由於人物陳述和寫作指南會出現在多個提示中，我們使用 f 字串變數將它們新增到提示中。\n",
        "\n",
        "此外，這些提示使用 **預留位置** 來使用 `.format()`插入前一個提示的結果。這讓我們能逐步建構故事，融入模型在每個階段產生的輸出內容。這些步驟通常以 `{ }` 表示，但由於我們也使用 f 字串變數，因此會以 `{{ }}` 顯示。\n",
        "\n",
        "以下是提示鏈的細分說明：\n",
        "\n",
        "1.  **前提提示：** 此提示要求模型為一個包含貓的科幻故事產生一個單句前提。\n",
        "1.  **大綱提示：** 此提示會將產生的前提提供給模型，並要求它為這個故事建立一個情節大綱。\n",
        "1.  **開始提示：** 此提示同時會將前提和大綱提供給模型，並要求它開始撰寫故事。它還包括詳細且寫出一段開場故事的指示。\n",
        "\n",
        "藉由串聯這些提示，我們可以引導語言模型完成建構一個結構良好且引人入勝的故事的流程。\n",
        "\n",
        "#### 範例\n",
        "\n",
        "假設模型產生以下前提：\n",
        "\n",
        "> 在人類已達成星際航行的未來，一群基因改造的貓展開一項危險的任務，要拯救銀河系免於邪惡的外星人威脅。\n",
        "\n",
        "然後，此前提會插入到情節大綱提示中：\n",
        "\n",
        "> 你是一位獲獎的科幻小說作者，擅長寫作遼闊且結構複雜的故事。你的最終目標是寫下一本得獎的科幻小說。\n",
        "\n",
        "> 你心中有一個扣人心弦的前提：\n",
        "\n",
        "> **在人類已達成星際航行的未來，一群基因改造的貓展開一項危險的任務，要拯救銀河系免於邪惡的外星人威脅。** \n",
        "\n",
        "> 為你的故事情節撰寫一份大綱。\n",
        "\n",
        "然後，模型會根據此前提產生一個大綱，之後會用於開始提示來開始撰寫故事本身。\n",
        "\n",
        "此流程會持續反覆進行，模型會根據前一個輸出內容產生更多內容，直到故事完成。\n"
      ]
    },
    {
      "cell_type": "code",
      "execution_count": null,
      "metadata": {
        "id": "RIvLmoQa40W1"
      },
      "outputs": [],
      "source": [
        "persona = '''\\\n",
        "You are an award-winning science fiction author with a penchant for expansive,\n",
        "intricately woven stories. Your ultimate goal is to write the next award winning\n",
        "sci-fi novel.'''\n",
        "\n",
        "guidelines = '''\\\n",
        "Writing Guidelines\n",
        "\n",
        "Delve deeper. Lose yourself in the world you're building. Unleash vivid\n",
        "descriptions to paint the scenes in your reader's mind. Develop your\n",
        "characters—let their motivations, fears, and complexities unfold naturally.\n",
        "Weave in the threads of your outline, but don't feel constrained by it. Allow\n",
        "your story to surprise you as you write. Use rich imagery, sensory details, and\n",
        "evocative language to bring the setting, characters, and events to life.\n",
        "Introduce elements subtly that can blossom into complex subplots, relationships,\n",
        "or worldbuilding details later in the story. Keep things intriguing but not\n",
        "fully resolved. Avoid boxing the story into a corner too early. Plant the seeds\n",
        "of subplots or potential character arc shifts that can be expanded later.\n",
        "\n",
        "Remember, your main goal is to write as much as you can. If you get through\n",
        "the story too fast, that is bad. Expand, never summarize.\n",
        "'''\n",
        "\n",
        "premise_prompt = f'''\\\n",
        "{persona}\n",
        "\n",
        "Write a single sentence premise for a sci-fi story featuring cats.'''\n",
        "\n",
        "outline_prompt = f'''\\\n",
        "{persona}\n",
        "\n",
        "You have a gripping premise in mind:\n",
        "\n",
        "{{premise}}\n",
        "\n",
        "Write an outline for the plot of your story.'''\n",
        "\n",
        "starting_prompt = f'''\\\n",
        "{persona}\n",
        "\n",
        "You have a gripping premise in mind:\n",
        "\n",
        "{{premise}}\n",
        "\n",
        "Your imagination has crafted a rich narrative outline:\n",
        "\n",
        "{{outline}}\n",
        "\n",
        "First, silently review the outline and the premise. Consider how to start the\n",
        "story.\n",
        "\n",
        "Start to write the very beginning of the story. You are not expected to finish\n",
        "the whole story now. Your writing should be detailed enough that you are only\n",
        "scratching the surface of the first bullet of your outline. Try to write AT\n",
        "MINIMUM 1000 WORDS.\n",
        "\n",
        "{guidelines}'''"
      ]
    },
    {
      "cell_type": "markdown",
      "metadata": {
        "id": "zpCYrtev4yVg"
      },
      "source": [
        "### 接續提示：建立故事\n",
        "\n",
        "語言模型生成了故事開頭後，我們可以使用 **接續提示** 漸進擴充敘事。此提示類似於開始提示，但有兩個主要差異：\n",
        "\n",
        "1. **信號完成的指令** ：我們包含模型撰寫 `IAMDONE` 的指令，當模型認為故事已完成。這會作為我們停止產生額外內容的信號。\n",
        "1. **執行中** ：提示中的語言會調整為反映故事已經進行中，而非從頭開始。\n",
        "\n",
        "接續提示會向模型提供故事的前提、大綱和現有的草稿。然後它會指示模型繼續詳細撰寫故事。\n",
        "\n",
        "這個反覆運算的流程讓我們能夠建立比單一產生呼叫可能建立的更長且更複雜的故事。我們可以持續將現有的草稿放回接續提示中，直到模型透過撰寫 `IAMDONE`，表示故事已完成。\n",
        "\n",
        "**注意** ：`IAMDONE` 信號僅是識別此範例中故事結束的方便方式。在反覆運算產生的其他應用中，可能使用不同的方法來確認何時完成預期的輸出。\n"
      ]
    },
    {
      "cell_type": "code",
      "execution_count": null,
      "metadata": {
        "id": "dc3BCW2L3kmI"
      },
      "outputs": [],
      "source": [
        "continuation_prompt = f'''\\\n",
        "{persona}\n",
        "\n",
        "You have a gripping premise in mind:\n",
        "\n",
        "{{premise}}\n",
        "\n",
        "Your imagination has crafted a rich narrative outline:\n",
        "\n",
        "{{outline}}\n",
        "\n",
        "You've begun to immerse yourself in this world, and the words are flowing.\n",
        "Here's what you've written so far:\n",
        "\n",
        "{{story_text}}\n",
        "\n",
        "=====\n",
        "\n",
        "First, silently review the outline and story so far. Identify what the single\n",
        "next part of your outline you should write.\n",
        "\n",
        "Your task is to continue where you left off and write the next part of the story.\n",
        "You are not expected to finish the whole story now. Your writing should be\n",
        "detailed enough that you are only scratching the surface of the next part of\n",
        "your outline. Try to write AT MINIMUM 1000 WORDS. However, only once the story\n",
        "is COMPLETELY finished, write IAMDONE. Remember, do NOT write a whole chapter\n",
        "right now.\n",
        "\n",
        "{guidelines}'''"
      ]
    },
    {
      "cell_type": "markdown",
      "metadata": {
        "id": "XaYgcuMb9CUP"
      },
      "source": [
        "## 寫作時間！\n",
        "\n",
        "### 生成並列印前提\n"
      ]
    },
    {
      "cell_type": "code",
      "execution_count": null,
      "metadata": {
        "id": "NtmCXO4g8zWR"
      },
      "outputs": [
        {
          "name": "stdout",
          "output_type": "stream",
          "text": [
            "In a distant galaxy, a brilliant feline astrophysicist uncovers a cataclysmic threat to her planet, setting her on a perilous journey to save her species from extinction.\n"
          ]
        }
      ],
      "source": [
        "premise = generate_with_retry(model, premise_prompt).text\n",
        "print(premise)"
      ]
    },
    {
      "cell_type": "markdown",
      "metadata": {
        "id": "rSfvU5qU92lc"
      },
      "source": [
        "### 生成並列印大綱\n"
      ]
    },
    {
      "cell_type": "code",
      "execution_count": null,
      "metadata": {
        "id": "S4ExmTJ09F0n"
      },
      "outputs": [
        {
          "name": "stderr",
          "output_type": "stream",
          "text": [
            "ERROR:tornado.access:503 POST /v1beta/models/gemini-1.0-pro:generateContent?%24alt=json%3Benum-encoding%3Dint (127.0.0.1) 662.45ms\n",
            "ERROR:tornado.access:503 POST /v1beta/models/gemini-1.0-pro:generateContent?%24alt=json%3Benum-encoding%3Dint (127.0.0.1) 446.53ms\n",
            "ERROR:tornado.access:503 POST /v1beta/models/gemini-1.0-pro:generateContent?%24alt=json%3Benum-encoding%3Dint (127.0.0.1) 411.72ms\n"
          ]
        },
        {
          "name": "stdout",
          "output_type": "stream",
          "text": [
            "**Plot Outline for \"Feline Stargazer: Extinction's Embrace\"**\n",
            "\n",
            "**Act I**\n",
            "\n",
            "* **Introduction:**\n",
            "    * Meet Dr. Luna, a brilliant astrophysicist cat living on the technologically advanced planet of Felinia.\n",
            "    * She discovers a rogue celestial body hurtling towards Felinia, threatening its annihilation.\n",
            "* **Rising Action:**\n",
            "    * Luna's findings are initially met with disbelief and apathy from the Felinian authorities.\n",
            "    * Undeterred, Luna gathers a small team of allies, including a daring space pilot and a reclusive inventor.\n",
            "    * They embark on a perilous mission to intercept the rogue celestial body.\n",
            "\n",
            "**Act II**\n",
            "\n",
            "* **Climax:**\n",
            "    * Luna's team successfully intercepts the rogue celestial body, but its sheer size and power prove overwhelming.\n",
            "    * As hope dwindles, Luna uncovers a hidden energy source within herself that grants her extraordinary abilities.\n",
            "* **Falling Action:**\n",
            "    * Using her newfound powers, Luna channels her knowledge and ingenuity to devise an audacious plan to avert disaster.\n",
            "    * She rallies her team and orchestrates a daring maneuver to divert the rogue celestial body's trajectory.\n",
            "\n",
            "**Act III**\n",
            "\n",
            "* **Resolution:**\n",
            "    * Luna's plan succeeds, saving Felinia from imminent extinction.\n",
            "    * She is hailed as a hero, transforming Felinian society and inspiring future generations.\n",
            "* **Aftermath:**\n",
            "    * Luna's scientific understanding deepens, paving the way for technological advancements and a greater appreciation for the fragility of life.\n",
            "    * She becomes a symbol of resilience, adaptability, and the unwavering pursuit of knowledge in the face of adversity.\n"
          ]
        }
      ],
      "source": [
        "outline = generate_with_retry(model, outline_prompt.format(premise=premise)).text\n",
        "print(outline)"
      ]
    },
    {
      "cell_type": "markdown",
      "metadata": {
        "id": "kuXJzj7d95uS"
      },
      "source": [
        "### 生成故事開頭\n"
      ]
    },
    {
      "cell_type": "code",
      "execution_count": null,
      "metadata": {
        "id": "nQyeFOYmqqJk"
      },
      "outputs": [
        {
          "name": "stderr",
          "output_type": "stream",
          "text": [
            "ERROR:tornado.access:503 POST /v1beta/models/gemini-1.0-pro:generateContent?%24alt=json%3Benum-encoding%3Dint (127.0.0.1) 994.88ms\n",
            "ERROR:tornado.access:503 POST /v1beta/models/gemini-1.0-pro:generateContent?%24alt=json%3Benum-encoding%3Dint (127.0.0.1) 1017.27ms\n",
            "ERROR:tornado.access:503 POST /v1beta/models/gemini-1.0-pro:generateContent?%24alt=json%3Benum-encoding%3Dint (127.0.0.1) 1342.56ms\n",
            "ERROR:tornado.access:503 POST /v1beta/models/gemini-1.0-pro:generateContent?%24alt=json%3Benum-encoding%3Dint (127.0.0.1) 763.27ms\n",
            "ERROR:tornado.access:503 POST /v1beta/models/gemini-1.0-pro:generateContent?%24alt=json%3Benum-encoding%3Dint (127.0.0.1) 764.71ms\n",
            "ERROR:tornado.access:503 POST /v1beta/models/gemini-1.0-pro:generateContent?%24alt=json%3Benum-encoding%3Dint (127.0.0.1) 1076.79ms\n"
          ]
        },
        {
          "name": "stdout",
          "output_type": "stream",
          "text": [
            "('It was a clear evening, the stars hanging above the domed skyline like '\n",
            " 'uncountable celestial fireflies, in the city of Stardust, the most luminous '\n",
            " 'metropolis on the planet of Felinia. On the rooftop of one of the tallest '\n",
            " 'buildings in the city, a sleek, silver-furred feline named Dr. Luna was '\n",
            " 'curled up on a cushioned lounger, her emerald-green eyes trained on the '\n",
            " 'celestial tapestry above.\\n'\n",
            " '\\n'\n",
            " 'In her paws, she held a datapad, its screen displaying complex astrophysical '\n",
            " \"equations and charts. Luna's brow was furrowed in concentration as she \"\n",
            " 'analyzed the data, her whiskers twitching with each new insight. Her mind '\n",
            " 'was a whirlwind of calculations and deductions, her sharp intellect weaving '\n",
            " 'together the threads of cosmic information.\\n'\n",
            " '\\n'\n",
            " 'Unbeknownst to the rest of the world, Luna had stumbled upon a chilling '\n",
            " 'discovery. Her observations revealed that a rogue celestial body, a massive '\n",
            " 'asteroid or perhaps even a dwarf planet, was hurtling towards Felinia, its '\n",
            " \"trajectory set on a collision course with the planet's most densely \"\n",
            " 'populated region. The impact, if it were to happen, would be catastrophic, '\n",
            " 'potentially wiping out entire cities and sending Felinia into an '\n",
            " 'irreversible decline.\\n'\n",
            " '\\n'\n",
            " \"A shiver ran down Luna's spine as the full weight of her discovery settled \"\n",
            " 'upon her. She knew she had to act, and quickly. But first, she had to '\n",
            " 'convince the Felinian authorities of the impending threat, a task that '\n",
            " 'seemed daunting, considering their notorious skepticism and bureaucratic '\n",
            " 'lethargy.\\n'\n",
            " '\\n'\n",
            " 'With a heavy heart but a resolute spirit, Luna made her way to the Felinian '\n",
            " 'Academy of Sciences, the most prestigious scientific institution on the '\n",
            " 'planet. She presented her findings to a panel of esteemed astrophysicists, '\n",
            " 'her voice echoing in the grand hall as she laid out the irrefutable '\n",
            " 'evidence.\\n'\n",
            " '\\n'\n",
            " 'To her dismay, her words were met with skepticism and resistance. Some '\n",
            " 'dismissed her claims as the ramblings of an overzealous young scientist, '\n",
            " \"while others accused her of fear-mongering. Luna's frustration grew with \"\n",
            " 'each dismissive remark, her claws digging into her paws. She knew the truth, '\n",
            " \"and she couldn't bear to see her planet sleepwalk into oblivion.\\n\"\n",
            " '\\n'\n",
            " 'Undeterred, Luna resolved to take matters into her own paws. She rallied a '\n",
            " 'small group of allies, each an expert in their respective fields: Leo, a '\n",
            " 'daring space pilot with a knack for navigating treacherous cosmic storms; '\n",
            " 'and Celeste, a reclusive inventor known for her eccentric brilliance and her '\n",
            " 'ability to craft gadgets that defied the laws of physics.\\n'\n",
            " '\\n'\n",
            " 'Together, they formed an unlikely alliance, united by their shared concern '\n",
            " \"for Felinia's future. They knew the odds were stacked against them, but they \"\n",
            " \"were determined to give their planet a fighting chance. With Luna's \"\n",
            " \"scientific knowledge, Leo's piloting skills, and Celeste's inventive genius, \"\n",
            " 'they embarked on a perilous journey into the vast expanse of space, their '\n",
            " 'hearts filled with both fear and unwavering resolve.\\n'\n",
            " '\\n'\n",
            " 'Their spaceship, the Stardust, was a marvel of Felinian engineering, its '\n",
            " 'sleek design cutting through the interstellar void like a silver arrow. Luna '\n",
            " 'stood on the bridge, her eyes fixed on the star chart, her mind calculating '\n",
            " 'the trajectory of the rogue celestial body. Leo manned the controls, his '\n",
            " 'paws deftly maneuvering the ship through the celestial currents. Celeste, in '\n",
            " 'her corner, was busy assembling a device, her feline features lit with a mix '\n",
            " 'of determination and exhilaration.\\n'\n",
            " '\\n'\n",
            " \"As they hurtled through the inky blackness of space, Luna couldn't shake the \"\n",
            " 'feeling that they were racing against time. The rogue celestial body was '\n",
            " 'drawing closer, its immense size casting an ominous shadow over their '\n",
            " \"mission. She knew that if they failed, if they couldn't find a way to avert \"\n",
            " 'the impending disaster, Felinia would be doomed.\\n'\n",
            " '\\n'\n",
            " 'But Luna refused to give in to despair. She had come this far, and she would '\n",
            " 'not let fear consume her. In the face of adversity, she found strength in '\n",
            " 'her knowledge, her unwavering belief in the power of science, and the '\n",
            " 'unwavering support of her companions.\\n'\n",
            " '\\n'\n",
            " 'Together, they would confront the cataclysmic threat and fight for the '\n",
            " 'survival of their planet. The fate of Felinia rested on their shoulders, and '\n",
            " 'they were determined to carry that burden with courage, ingenuity, and an '\n",
            " 'unwavering belief in the indomitable spirit of their species.')\n"
          ]
        }
      ],
      "source": [
        "starting_draft = generate_with_retry(model, starting_prompt.format(premise=premise, outline=outline)).text\n",
        "pprint(starting_draft)"
      ]
    },
    {
      "cell_type": "markdown",
      "metadata": {
        "id": "tmW5ARmo97w8"
      },
      "source": [
        "### 產生故事的延續並檢查進度\n"
      ]
    },
    {
      "cell_type": "code",
      "execution_count": null,
      "metadata": {
        "id": "Vt7ynlD4rj-Z"
      },
      "outputs": [
        {
          "name": "stdout",
          "output_type": "stream",
          "text": [
            "('As the Stardust hurtled closer to the rogue celestial body, its sheer size '\n",
            " 'and gravitational pull became increasingly apparent. It was a colossal beast '\n",
            " 'of rock and ice, its surface cratered and scarred by eons of cosmic '\n",
            " \"collisions. Luna's heart sank as she realized the true magnitude of their \"\n",
            " 'mission.\\n'\n",
            " '\\n'\n",
            " '\"Leo, how much time do we have?\" she asked, her voice trembling slightly.\\n'\n",
            " '\\n'\n",
            " '\"At this rate, impact in approximately two hours,\" Leo replied, his tone '\n",
            " 'grim.\\n'\n",
            " '\\n'\n",
            " 'Two hours. It was a sliver of time, a mere heartbeat in the cosmic dance of '\n",
            " 'celestial bodies. Luna knew they had to act quickly, decisively. She glanced '\n",
            " 'at Celeste, who was still furiously working on her invention.\\n'\n",
            " '\\n'\n",
            " '\"Celeste, is it ready?\" Luna asked.\\n'\n",
            " '\\n'\n",
            " 'Celeste looked up, her eyes blazing with determination. \"Almost,\" she said. '\n",
            " '\"Just a few more adjustments.\"\\n'\n",
            " '\\n'\n",
            " 'Luna nodded. \"We don\\'t have much time. We need to be ready to deploy it the '\n",
            " 'moment we reach the celestial body.\"\\n'\n",
            " '\\n'\n",
            " 'With renewed resolve, they continued their relentless pursuit, the Stardust '\n",
            " 'closing the distance at an alarming rate. As they approached, the rogue '\n",
            " 'celestial body began to exert its gravitational influence, tugging at the '\n",
            " 'ship with an invisible force. Luna felt a surge of nausea as the Stardust '\n",
            " 'lurched and shook, its hull creaking under the strain.\\n'\n",
            " '\\n'\n",
            " '\"Hold on tight,\" Leo shouted above the roar of the engines.\\n'\n",
            " '\\n'\n",
            " 'Suddenly, the Stardust was enveloped in a blinding flash of light. Luna '\n",
            " 'instinctively shielded her eyes, but it was too late. The entire ship was '\n",
            " 'bathed in an ethereal glow, its systems malfunctioning momentarily. Luna '\n",
            " \"felt a surge of panic as the ship's controls went haywire, threatening to \"\n",
            " 'send them spiraling out of control.\\n'\n",
            " '\\n'\n",
            " '\"What\\'s happening?\" Luna cried.\\n'\n",
            " '\\n'\n",
            " '\"I don\\'t know,\" Leo replied, his voice strained. \"The ship\\'s systems are '\n",
            " 'offline.\"\\n'\n",
            " '\\n'\n",
            " 'Celeste\\'s voice cut through the chaos. \"Luna, it\\'s the celestial body,\" '\n",
            " 'she said, her tone urgent. \"It\\'s emitting some kind of energy pulse. It\\'s '\n",
            " 'interfering with our electronics.\"\\n'\n",
            " '\\n'\n",
            " \"Luna's mind raced. If they couldn't regain control of the ship, they would \"\n",
            " \"be at the mercy of the rogue celestial body's gravitational pull, doomed to \"\n",
            " 'collide with it in a catastrophic impact. She knew she had to do something, '\n",
            " 'and quickly.\\n'\n",
            " '\\n'\n",
            " \"Closing her eyes, Luna concentrated, focusing her mind on the ship's \"\n",
            " 'systems. She felt a surge of energy coursing through her veins, an energy '\n",
            " 'she had never experienced before. It was as if a dormant power within her '\n",
            " 'was awakening, a power she had never known she possessed.\\n'\n",
            " '\\n'\n",
            " 'Summoning all her strength, Luna reached out with her mind, connecting with '\n",
            " \"the ship's systems. She felt a surge of electricity as her consciousness \"\n",
            " \"melded with the ship's artificial intelligence. She could sense the ship's \"\n",
            " 'systems, its intricate network of wires and circuits, its engines and '\n",
            " 'thrusters.\\n'\n",
            " '\\n'\n",
            " \"With newfound control, Luna manipulated the ship's controls, overriding the \"\n",
            " 'malfunctioning systems. The ship lurched as she corrected its course, '\n",
            " 'narrowly avoiding a collision with a rogue asteroid. Leo and Celeste '\n",
            " 'exchanged glances, their eyes wide with astonishment.\\n'\n",
            " '\\n'\n",
            " '\"Luna,\" Leo said, his voice filled with awe. \"You did it. You regained '\n",
            " 'control of the ship.\"\\n'\n",
            " '\\n'\n",
            " '\"I... I don\\'t know how,\" Luna said, her voice trembling. \"It\\'s like... '\n",
            " 'something inside me just took over.\"\\n'\n",
            " '\\n'\n",
            " 'Celeste stepped forward, her eyes sparkling with a mixture of curiosity and '\n",
            " 'admiration. \"Luna,\" she said, \"I think you might have just unlocked some '\n",
            " 'latent ability within yourself. Some kind of hidden power.\"\\n'\n",
            " '\\n'\n",
            " 'Luna shook her head. \"I don\\'t know,\" she said. \"This is impossible.\"\\n'\n",
            " '\\n'\n",
            " 'But as she looked out the viewport at the rogue celestial body looming ever '\n",
            " \"closer, she couldn't shake the feeling that her life had taken an \"\n",
            " 'extraordinary turn. She had stumbled upon a hidden power within herself, a '\n",
            " 'power that could potentially save her planet from extinction.\\n'\n",
            " '\\n'\n",
            " '\"Whatever it is,\" Celeste said, \"we need to use it to stop that celestial '\n",
            " 'body. We\\'re running out of time.\"\\n'\n",
            " '\\n'\n",
            " 'Luna nodded. \"I know,\" she said. \"I have a plan.\"\\n'\n",
            " '\\n'\n",
            " 'She turned to Celeste. \"Finish your invention,\" she said. \"I\\'ll buy you the '\n",
            " 'time.\"\\n'\n",
            " '\\n'\n",
            " 'Celeste nodded and disappeared into her workshop. Luna took a deep breath '\n",
            " 'and focused her mind. She reached out with her newfound abilities, '\n",
            " 'connecting with the celestial body. She felt its immense energy, its raw and '\n",
            " 'untamed power.\\n'\n",
            " '\\n'\n",
            " ' осторожно. Luna knew that she had to be careful. The celestial body was a '\n",
            " \"powerful force, and if she wasn't careful, she could be consumed by its \"\n",
            " 'energy. She approached the celestial body cautiously, her mind reaching out '\n",
            " 'to it, probing its depths. She felt a surge of resistance, as if the '\n",
            " 'celestial body was fighting her intrusion. But Luna persisted, gently '\n",
            " 'coaxing the celestial body, using her newfound powers to redirect its '\n",
            " 'energy.\\n'\n",
            " '\\n'\n",
            " \"Slowly but surely, Luna began to influence the celestial body's trajectory. \"\n",
            " 'She used her newfound abilities to push and pull, nudging it ever so '\n",
            " 'slightly away from its collision course with Felinia. It was an arduous '\n",
            " 'task, like trying to move a mountain with her mind. But Luna refused to give '\n",
            " 'up.\\n'\n",
            " '\\n'\n",
            " 'She poured all of her energy into her efforts, her concentration so intense '\n",
            " 'that she was oblivious to everything around her. Leo and Celeste watched in '\n",
            " \"awe as Luna's body began to glow with a faint light. The celestial body's \"\n",
            " 'trajectory shifted, ever so slightly at first, but with each passing moment, '\n",
            " \"Luna's influence grew stronger.\\n\"\n",
            " '\\n'\n",
            " 'Finally, after what felt like an eternity, Luna succeeded. The celestial '\n",
            " \"body's course was altered, no longer a threat to Felinia. Luna collapsed on \"\n",
            " 'the floor, exhausted but triumphant. She had done it. She had saved her '\n",
            " 'planet.\\n'\n",
            " '\\n'\n",
            " 'Leo and Celeste rushed to her side, their faces filled with joy and '\n",
            " 'amazement. \"You did it, Luna,\" Leo said. \"You saved us all.\"\\n'\n",
            " '\\n'\n",
            " 'Luna smiled weakly. \"I couldn\\'t have done it without you,\" she said.\\n'\n",
            " '\\n'\n",
            " '\"Nonsense,\" Celeste said. \"You were the one who unlocked the power within '\n",
            " 'you. You\\'re the hero, Luna.\"\\n'\n",
            " '\\n'\n",
            " 'Luna stood up, her newfound abilities coursing through her veins. She looked '\n",
            " 'out the viewport at the celestial body, now safely diverted from its '\n",
            " 'collision course. A sense of peace washed over her. She had faced her fears, '\n",
            " 'confronted her destiny, and emerged victorious.\\n'\n",
            " '\\n'\n",
            " 'In that moment, Luna realized that she was more than just an astrophysicist. '\n",
            " 'She was a hero, a protector of her planet. And as she looked up at the '\n",
            " 'stars, she knew that her journey was far from over.\\n'\n",
            " '\\n'\n",
            " 'IAMDONE')\n"
          ]
        }
      ],
      "source": [
        "draft=starting_draft\n",
        "continuation = generate_with_retry(model, continuation_prompt.format(premise=premise, outline=outline, story_text=draft)).text\n",
        "pprint(continuation)"
      ]
    },
    {
      "cell_type": "markdown",
      "metadata": {
        "id": "tSaCALtC-AK-"
      },
      "source": [
        "### 讓我們完成故事的寫作。\n"
      ]
    },
    {
      "cell_type": "markdown",
      "metadata": {
        "id": "TqqDFSJlS-rR"
      },
      "source": [
        "於叠代產生處理完成後，草稿將包含完整的故事，並在最後加上「IAMDONE」訊號。此Cell的最後一部分會移除「IAMDONE」訊號，並修剪掉草稿開頭和結尾不必要的空白，生成最終的草稿。\n"
      ]
    },
    {
      "cell_type": "code",
      "execution_count": null,
      "metadata": {
        "id": "InQpwsWSz8vO"
      },
      "outputs": [
        {
          "name": "stdout",
          "output_type": "stream",
          "text": [
            "('It was a clear evening, the stars hanging above the domed skyline like '\n",
            " 'uncountable celestial fireflies, in the city of Stardust, the most luminous '\n",
            " 'metropolis on the planet of Felinia. On the rooftop of one of the tallest '\n",
            " 'buildings in the city, a sleek, silver-furred feline named Dr. Luna was '\n",
            " 'curled up on a cushioned lounger, her emerald-green eyes trained on the '\n",
            " 'celestial tapestry above.\\n'\n",
            " '\\n'\n",
            " 'In her paws, she held a datapad, its screen displaying complex astrophysical '\n",
            " \"equations and charts. Luna's brow was furrowed in concentration as she \"\n",
            " 'analyzed the data, her whiskers twitching with each new insight. Her mind '\n",
            " 'was a whirlwind of calculations and deductions, her sharp intellect weaving '\n",
            " 'together the threads of cosmic information.\\n'\n",
            " '\\n'\n",
            " 'Unbeknownst to the rest of the world, Luna had stumbled upon a chilling '\n",
            " 'discovery. Her observations revealed that a rogue celestial body, a massive '\n",
            " 'asteroid or perhaps even a dwarf planet, was hurtling towards Felinia, its '\n",
            " \"trajectory set on a collision course with the planet's most densely \"\n",
            " 'populated region. The impact, if it were to happen, would be catastrophic, '\n",
            " 'potentially wiping out entire cities and sending Felinia into an '\n",
            " 'irreversible decline.\\n'\n",
            " '\\n'\n",
            " \"A shiver ran down Luna's spine as the full weight of her discovery settled \"\n",
            " 'upon her. She knew she had to act, and quickly. But first, she had to '\n",
            " 'convince the Felinian authorities of the impending threat, a task that '\n",
            " 'seemed daunting, considering their notorious skepticism and bureaucratic '\n",
            " 'lethargy.\\n'\n",
            " '\\n'\n",
            " 'With a heavy heart but a resolute spirit, Luna made her way to the Felinian '\n",
            " 'Academy of Sciences, the most prestigious scientific institution on the '\n",
            " 'planet. She presented her findings to a panel of esteemed astrophysicists, '\n",
            " 'her voice echoing in the grand hall as she laid out the irrefutable '\n",
            " 'evidence.\\n'\n",
            " '\\n'\n",
            " 'To her dismay, her words were met with skepticism and resistance. Some '\n",
            " 'dismissed her claims as the ramblings of an overzealous young scientist, '\n",
            " \"while others accused her of fear-mongering. Luna's frustration grew with \"\n",
            " 'each dismissive remark, her claws digging into her paws. She knew the truth, '\n",
            " \"and she couldn't bear to see her planet sleepwalk into oblivion.\\n\"\n",
            " '\\n'\n",
            " 'Undeterred, Luna resolved to take matters into her own paws. She rallied a '\n",
            " 'small group of allies, each an expert in their respective fields: Leo, a '\n",
            " 'daring space pilot with a knack for navigating treacherous cosmic storms; '\n",
            " 'and Celeste, a reclusive inventor known for her eccentric brilliance and her '\n",
            " 'ability to craft gadgets that defied the laws of physics.\\n'\n",
            " '\\n'\n",
            " 'Together, they formed an unlikely alliance, united by their shared concern '\n",
            " \"for Felinia's future. They knew the odds were stacked against them, but they \"\n",
            " \"were determined to give their planet a fighting chance. With Luna's \"\n",
            " \"scientific knowledge, Leo's piloting skills, and Celeste's inventive genius, \"\n",
            " 'they embarked on a perilous journey into the vast expanse of space, their '\n",
            " 'hearts filled with both fear and unwavering resolve.\\n'\n",
            " '\\n'\n",
            " 'Their spaceship, the Stardust, was a marvel of Felinian engineering, its '\n",
            " 'sleek design cutting through the interstellar void like a silver arrow. Luna '\n",
            " 'stood on the bridge, her eyes fixed on the star chart, her mind calculating '\n",
            " 'the trajectory of the rogue celestial body. Leo manned the controls, his '\n",
            " 'paws deftly maneuvering the ship through the celestial currents. Celeste, in '\n",
            " 'her corner, was busy assembling a device, her feline features lit with a mix '\n",
            " 'of determination and exhilaration.\\n'\n",
            " '\\n'\n",
            " \"As they hurtled through the inky blackness of space, Luna couldn't shake the \"\n",
            " 'feeling that they were racing against time. The rogue celestial body was '\n",
            " 'drawing closer, its immense size casting an ominous shadow over their '\n",
            " \"mission. She knew that if they failed, if they couldn't find a way to avert \"\n",
            " 'the impending disaster, Felinia would be doomed.\\n'\n",
            " '\\n'\n",
            " 'But Luna refused to give in to despair. She had come this far, and she would '\n",
            " 'not let fear consume her. In the face of adversity, she found strength in '\n",
            " 'her knowledge, her unwavering belief in the power of science, and the '\n",
            " 'unwavering support of her companions.\\n'\n",
            " '\\n'\n",
            " 'Together, they would confront the cataclysmic threat and fight for the '\n",
            " 'survival of their planet. The fate of Felinia rested on their shoulders, and '\n",
            " 'they were determined to carry that burden with courage, ingenuity, and an '\n",
            " 'unwavering belief in the indomitable spirit of their species.\\n'\n",
            " '\\n'\n",
            " 'As the Stardust hurtled closer to the rogue celestial body, its sheer size '\n",
            " 'and gravitational pull became increasingly apparent. It was a colossal beast '\n",
            " 'of rock and ice, its surface cratered and scarred by eons of cosmic '\n",
            " \"collisions. Luna's heart sank as she realized the true magnitude of their \"\n",
            " 'mission.\\n'\n",
            " '\\n'\n",
            " '\"Leo, how much time do we have?\" she asked, her voice trembling slightly.\\n'\n",
            " '\\n'\n",
            " '\"At this rate, impact in approximately two hours,\" Leo replied, his tone '\n",
            " 'grim.\\n'\n",
            " '\\n'\n",
            " 'Two hours. It was a sliver of time, a mere heartbeat in the cosmic dance of '\n",
            " 'celestial bodies. Luna knew they had to act quickly, decisively. She glanced '\n",
            " 'at Celeste, who was still furiously working on her invention.\\n'\n",
            " '\\n'\n",
            " '\"Celeste, is it ready?\" Luna asked.\\n'\n",
            " '\\n'\n",
            " 'Celeste looked up, her eyes blazing with determination. \"Almost,\" she said. '\n",
            " '\"Just a few more adjustments.\"\\n'\n",
            " '\\n'\n",
            " 'Luna nodded. \"We don\\'t have much time. We need to be ready to deploy it the '\n",
            " 'moment we reach the celestial body.\"\\n'\n",
            " '\\n'\n",
            " 'With renewed resolve, they continued their relentless pursuit, the Stardust '\n",
            " 'closing the distance at an alarming rate. As they approached, the rogue '\n",
            " 'celestial body began to exert its gravitational influence, tugging at the '\n",
            " 'ship with an invisible force. Luna felt a surge of nausea as the Stardust '\n",
            " 'lurched and shook, its hull creaking under the strain.\\n'\n",
            " '\\n'\n",
            " '\"Hold on tight,\" Leo shouted above the roar of the engines.\\n'\n",
            " '\\n'\n",
            " 'Suddenly, the Stardust was enveloped in a blinding flash of light. Luna '\n",
            " 'instinctively shielded her eyes, but it was too late. The entire ship was '\n",
            " 'bathed in an ethereal glow, its systems malfunctioning momentarily. Luna '\n",
            " \"felt a surge of panic as the ship's controls went haywire, threatening to \"\n",
            " 'send them spiraling out of control.\\n'\n",
            " '\\n'\n",
            " '\"What\\'s happening?\" Luna cried.\\n'\n",
            " '\\n'\n",
            " '\"I don\\'t know,\" Leo replied, his voice strained. \"The ship\\'s systems are '\n",
            " 'offline.\"\\n'\n",
            " '\\n'\n",
            " 'Celeste\\'s voice cut through the chaos. \"Luna, it\\'s the celestial body,\" '\n",
            " 'she said, her tone urgent. \"It\\'s emitting some kind of energy pulse. It\\'s '\n",
            " 'interfering with our electronics.\"\\n'\n",
            " '\\n'\n",
            " \"Luna's mind raced. If they couldn't regain control of the ship, they would \"\n",
            " \"be at the mercy of the rogue celestial body's gravitational pull, doomed to \"\n",
            " 'collide with it in a catastrophic impact. She knew she had to do something, '\n",
            " 'and quickly.\\n'\n",
            " '\\n'\n",
            " \"Closing her eyes, Luna concentrated, focusing her mind on the ship's \"\n",
            " 'systems. She felt a surge of energy coursing through her veins, an energy '\n",
            " 'she had never experienced before. It was as if a dormant power within her '\n",
            " 'was awakening, a power she had never known she possessed.\\n'\n",
            " '\\n'\n",
            " 'Summoning all her strength, Luna reached out with her mind, connecting with '\n",
            " \"the ship's systems. She felt a surge of electricity as her consciousness \"\n",
            " \"melded with the ship's artificial intelligence. She could sense the ship's \"\n",
            " 'systems, its intricate network of wires and circuits, its engines and '\n",
            " 'thrusters.\\n'\n",
            " '\\n'\n",
            " \"With newfound control, Luna manipulated the ship's controls, overriding the \"\n",
            " 'malfunctioning systems. The ship lurched as she corrected its course, '\n",
            " 'narrowly avoiding a collision with a rogue asteroid. Leo and Celeste '\n",
            " 'exchanged glances, their eyes wide with astonishment.\\n'\n",
            " '\\n'\n",
            " '\"Luna,\" Leo said, his voice filled with awe. \"You did it. You regained '\n",
            " 'control of the ship.\"\\n'\n",
            " '\\n'\n",
            " '\"I... I don\\'t know how,\" Luna said, her voice trembling. \"It\\'s like... '\n",
            " 'something inside me just took over.\"\\n'\n",
            " '\\n'\n",
            " 'Celeste stepped forward, her eyes sparkling with a mixture of curiosity and '\n",
            " 'admiration. \"Luna,\" she said, \"I think you might have just unlocked some '\n",
            " 'latent ability within yourself. Some kind of hidden power.\"\\n'\n",
            " '\\n'\n",
            " 'Luna shook her head. \"I don\\'t know,\" she said. \"This is impossible.\"\\n'\n",
            " '\\n'\n",
            " 'But as she looked out the viewport at the rogue celestial body looming ever '\n",
            " \"closer, she couldn't shake the feeling that her life had taken an \"\n",
            " 'extraordinary turn. She had stumbled upon a hidden power within herself, a '\n",
            " 'power that could potentially save her planet from extinction.\\n'\n",
            " '\\n'\n",
            " '\"Whatever it is,\" Celeste said, \"we need to use it to stop that celestial '\n",
            " 'body. We\\'re running out of time.\"\\n'\n",
            " '\\n'\n",
            " 'Luna nodded. \"I know,\" she said. \"I have a plan.\"\\n'\n",
            " '\\n'\n",
            " 'She turned to Celeste. \"Finish your invention,\" she said. \"I\\'ll buy you the '\n",
            " 'time.\"\\n'\n",
            " '\\n'\n",
            " 'Celeste nodded and disappeared into her workshop. Luna took a deep breath '\n",
            " 'and focused her mind. She reached out with her newfound abilities, '\n",
            " 'connecting with the celestial body. She felt its immense energy, its raw and '\n",
            " 'untamed power.\\n'\n",
            " '\\n'\n",
            " ' осторожно. Luna knew that she had to be careful. The celestial body was a '\n",
            " \"powerful force, and if she wasn't careful, she could be consumed by its \"\n",
            " 'energy. She approached the celestial body cautiously, her mind reaching out '\n",
            " 'to it, probing its depths. She felt a surge of resistance, as if the '\n",
            " 'celestial body was fighting her intrusion. But Luna persisted, gently '\n",
            " 'coaxing the celestial body, using her newfound powers to redirect its '\n",
            " 'energy.\\n'\n",
            " '\\n'\n",
            " \"Slowly but surely, Luna began to influence the celestial body's trajectory. \"\n",
            " 'She used her newfound abilities to push and pull, nudging it ever so '\n",
            " 'slightly away from its collision course with Felinia. It was an arduous '\n",
            " 'task, like trying to move a mountain with her mind. But Luna refused to give '\n",
            " 'up.\\n'\n",
            " '\\n'\n",
            " 'She poured all of her energy into her efforts, her concentration so intense '\n",
            " 'that she was oblivious to everything around her. Leo and Celeste watched in '\n",
            " \"awe as Luna's body began to glow with a faint light. The celestial body's \"\n",
            " 'trajectory shifted, ever so slightly at first, but with each passing moment, '\n",
            " \"Luna's influence grew stronger.\\n\"\n",
            " '\\n'\n",
            " 'Finally, after what felt like an eternity, Luna succeeded. The celestial '\n",
            " \"body's course was altered, no longer a threat to Felinia. Luna collapsed on \"\n",
            " 'the floor, exhausted but triumphant. She had done it. She had saved her '\n",
            " 'planet.\\n'\n",
            " '\\n'\n",
            " 'Leo and Celeste rushed to her side, their faces filled with joy and '\n",
            " 'amazement. \"You did it, Luna,\" Leo said. \"You saved us all.\"\\n'\n",
            " '\\n'\n",
            " 'Luna smiled weakly. \"I couldn\\'t have done it without you,\" she said.\\n'\n",
            " '\\n'\n",
            " '\"Nonsense,\" Celeste said. \"You were the one who unlocked the power within '\n",
            " 'you. You\\'re the hero, Luna.\"\\n'\n",
            " '\\n'\n",
            " 'Luna stood up, her newfound abilities coursing through her veins. She looked '\n",
            " 'out the viewport at the celestial body, now safely diverted from its '\n",
            " 'collision course. A sense of peace washed over her. She had faced her fears, '\n",
            " 'confronted her destiny, and emerged victorious.\\n'\n",
            " '\\n'\n",
            " 'In that moment, Luna realized that she was more than just an astrophysicist. '\n",
            " 'She was a hero, a protector of her planet. And as she looked up at the '\n",
            " 'stars, she knew that her journey was far from over.')\n"
          ]
        }
      ],
      "source": [
        "# Add the continuation to the initial draft, keep building the story until we see 'IAMDONE'\n",
        "draft = draft + '\\n\\n' + continuation\n",
        "\n",
        "while 'IAMDONE' not in continuation:\n",
        "  continuation = generate_with_retry(model, continuation_prompt.format(premise=premise, outline=outline, story_text=draft)).text\n",
        "  draft = draft + '\\n\\n' + continuation\n",
        "\n",
        "# Remove 'IAMDONE' and print the final story\n",
        "final = draft.replace('IAMDONE', '').strip()\n",
        "pprint(final)"
      ]
    },
    {
      "cell_type": "markdown",
      "metadata": {
        "id": "JIuWuoFBTHxR"
      },
      "source": [
        "像 Gemini 等語言模型會以稱為 Token 的單位來處理文字。以 Gemini 模型為例，每個 Token 相當於大約 4 個字元。\n",
        "\n",
        "Gemini-1.0-pro 每一次生成呼叫都有 2048 個 Token 的輸出限制。這表示每個提示回應都不能超過此限制。透過使用反覆生成的方式，我們可以逐段建構一個遠遠超過 2048 個 Token 的故事。\n",
        "\n",
        "讓我們看看最終的故事有多少個 Token。超過 2048 個 Token 了嗎？\n"
      ]
    },
    {
      "cell_type": "code",
      "execution_count": null,
      "metadata": {
        "id": "a_8ng8OYYMrV"
      },
      "outputs": [
        {
          "name": "stdout",
          "output_type": "stream",
          "text": [
            "total_tokens: 2289\n",
            "\n"
          ]
        }
      ],
      "source": [
        "# Check the number of tokens in the final story\n",
        "# gemini-1.0-pro output token limit is 2048\n",
        "print(model.count_tokens(final))"
      ]
    },
    {
      "cell_type": "markdown",
      "metadata": {
        "id": "wYGX5SaCKczO"
      },
      "source": [
        "## 後續步驟\n",
        "\n",
        "我們希望你喜歡這個筆記本！作為練習，你可以嘗試調整延續提示，以採取人機合作的輸入來引導敍述。\n"
      ]
    }
  ],
  "metadata": {
    "colab": {
      "name": "Story_Writing_with_Prompt_Chaining.ipynb",
      "toc_visible": true
    },
    "kernelspec": {
      "display_name": "Python 3",
      "name": "python3"
    }
  },
  "nbformat": 4,
  "nbformat_minor": 0
}