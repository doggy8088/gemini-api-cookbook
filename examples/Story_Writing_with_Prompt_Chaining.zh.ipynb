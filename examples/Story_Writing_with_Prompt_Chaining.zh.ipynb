{
  "cells": [
    {
      "cell_type": "markdown",
      "metadata": {
        "id": "Tce3stUlHN0L"
      },
      "source": [
        "##### 版權所有 2024 Google LLC.\n"
      ]
    },
    {
      "cell_type": "code",
      "execution_count": null,
      "metadata": {
        "cellView": "form",
        "id": "tuOe1ymfHZPu"
      },
      "outputs": [],
      "source": [
        "# @title Licensed under the Apache License, Version 2.0 (the \"License\");\n",
        "# you may not use this file except in compliance with the License.\n",
        "# You may obtain a copy of the License at\n",
        "#\n",
        "# https://www.apache.org/licenses/LICENSE-2.0\n",
        "#\n",
        "# Unless required by applicable law or agreed to in writing, software\n",
        "# distributed under the License is distributed on an \"AS IS\" BASIS,\n",
        "# WITHOUT WARRANTIES OR CONDITIONS OF ANY KIND, either express or implied.\n",
        "# See the License for the specific language governing permissions and\n",
        "# limitations under the License."
      ]
    },
    {
      "cell_type": "markdown",
      "metadata": {
        "id": "n2oDJZEF6Mqh"
      },
      "source": [
        "# Prompt 連接與故事寫作的疊代式生成\n",
        "\n",
        "<table align=\"left\">\n",
        "  <td>\n",
        "    <a target=\"_blank\" href=\"https://colab.research.google.com/github/google-gemini/cookbook/blob/main/examples/Story_Writing_with_Prompt_Chaining.zh.ipynb\"><img src=\"https://www.tensorflow.org/images/colab_logo_32px.png\" />在 Google Colab 中執行</a>\n",
        "  </td>\n",
        "</table>\n"
      ]
    },
    {
      "cell_type": "markdown",
      "metadata": {
        "id": "NYMQCbLzVrU_"
      },
      "source": [
        "本筆記本範例示範如何撰寫一個故事，使用兩種強大的技術：提示串接和叠代生成。這些技術可運用於處理難以或無法一次完成的複雜任務。\n",
        "\n",
        "**提示串接** 涉及將較大的任務分解為較小的、相互連接的提示。然後，每個提示的輸出將成為下一個提示的輸入，逐步引導語言模型完成流程。這種方法提供了多項優點：\n",
        "\n",
        "*   提升準確度：較小、重點明確的提示可提升語言模型的成果。\n",
        "*   除錯：更容易找出串接中的錯誤點，以便針對性地調整和改善。\n",
        "*   複雜任務：透過將複雜的問題分解為可管理的步驟，提示串接語言模型能夠處理更複雜的任務。\n",
        "\n",
        "**叠代生成** 指的是逐步建構所需輸出的流程。在本例中，我們會使用它來寫一個比單一生成視窗允許的還長的故事。叠代生成提供了多項優點：\n",
        "\n",
        "*   更長的輸出：它允許創作更長、更詳細的輸出，超越單一生成視窗的限制。\n",
        "*   靈活性：你可以在每次叠代過程中調整和改善輸出，確保故事往你希望的方向發展。\n",
        "*   人機互動控制：你可以在每個步驟提供回饋和指導，確保故事符合你的創意願景。\n",
        "\n",
        "透過結合這些技術，你可以分段創作出一個引人入勝、結構良好的故事，同時掌控創作流程。\n"
      ]
    },
    {
      "cell_type": "markdown",
      "metadata": {
        "id": "RKpX1K014WZ-"
      },
      "source": [
        "## 設定\n"
      ]
    },
    {
      "cell_type": "code",
      "execution_count": null,
      "metadata": {
        "id": "rIaXSa8p3KIn"
      },
      "outputs": [
        {
          "name": "stdout",
          "output_type": "stream",
          "text": [
            "\u001b[?25l     \u001b[90m━━━━━━━━━━━━━━━━━━━━━━━━━━━━━━━━━━━━━━━━\u001b[0m \u001b[32m0.0/137.4 kB\u001b[0m \u001b[31m?\u001b[0m eta \u001b[36m-:--:--\u001b[0m\r",
            "\u001b[2K     \u001b[91m━━━━━━━━━━━━━━━━━━━━━━━━━━━━━━━━━━━━━━\u001b[0m\u001b[91m╸\u001b[0m\u001b[90m━\u001b[0m \u001b[32m133.1/137.4 kB\u001b[0m \u001b[31m3.8 MB/s\u001b[0m eta \u001b[36m0:00:01\u001b[0m\r",
            "\u001b[2K     \u001b[90m━━━━━━━━━━━━━━━━━━━━━━━━━━━━━━━━━━━━━━━━\u001b[0m \u001b[32m137.4/137.4 kB\u001b[0m \u001b[31m2.6 MB/s\u001b[0m eta \u001b[36m0:00:00\u001b[0m\n",
            "\u001b[?25h"
          ]
        }
      ],
      "source": [
        "! pip install -q -U google-generativeai"
      ]
    },
    {
      "cell_type": "markdown",
      "metadata": {
        "id": "GFu9ooSe4kF5"
      },
      "source": [
        "要執行以下Cell，你的 API 金鑰必須儲存在名為 `GOOGLE_API_KEY` 的 Colab 秘辛中。如果你還沒有 API 金鑰，或者你不確定如何建立 Colab 秘辛，請查看 [身分驗證](https://github.com/google-gemini/cookbook/blob/main/quickstarts/Authentication.ipynb) 快速入門指南，以取得範例。\n"
      ]
    },
    {
      "cell_type": "code",
      "execution_count": null,
      "metadata": {
        "id": "sTedGxE7_eah"
      },
      "outputs": [],
      "source": [
        "import google.generativeai as genai\n",
        "from google.api_core import retry\n",
        "from google.colab import userdata\n",
        "from pprint import pprint\n",
        "\n",
        "GOOGLE_API_KEY=userdata.get('GOOGLE_API_KEY')\n",
        "genai.configure(api_key=GOOGLE_API_KEY)\n",
        "\n",
        "model = genai.GenerativeModel('gemini-1.0-pro')\n",
        "\n",
        "# For convenience, a simple wrapper to let the SDK handle error retries\n",
        "def generate_with_retry(model, prompt):\n",
        "  return model.generate_content(prompt, request_options={'retry':retry.Retry()})"
      ]
    },
    {
      "cell_type": "markdown",
      "metadata": {
        "id": "JPCM22h54ugA"
      },
      "source": [
        "## 提示：引導語言模型\n",
        "\n",
        "我們將使用一系列相互關聯的提示來引導語言模型完成編寫故事的過程。這些提示將涵蓋故事的前提、大綱和起點，最終導致完整的敘述產生。\n",
        "\n",
        "仔細製作這些提示以向語言模型提供明確的說明和相關資訊非常重要。這將有助於模型生成與你的創意願景相符的高品質內容。\n"
      ]
    },
    {
      "cell_type": "markdown",
      "metadata": {
        "id": "Dz_icOS44wNw"
      },
      "source": [
        "### 故事寫作用提示鏈\n",
        "\n",
        "本節包含引導語言模型完成故事寫作過程的提示。這些提示專為串連使用而設計，每個提示的輸出作為下一個提示的輸入。\n",
        "\n",
        "每個提示都包含一個**人物陳述** ，它有助於語言模型了解其角色並產生更相關、更準確的內容。在這種情況下，人物陳述為：`你是一位屢獲殊榮的科幻小說作家，擅長寫作遼闊、錯綜複雜的故事。你的最終目標是寫出下一本獲獎的科幻小說。`\n",
        "\n",
        "由於人物陳述和寫作準則出現在多個提示中，因此我們使用 f 字串變數將它們新增到提示中。\n",
        "\n",
        "此外，提示使用**預留位置** 透過 `.format()` 新增先前提示的結果。這讓我們能夠逐步建構故事，並納入模型在每個階段產生的輸出。這些通常用 `{}` 表示，但由於我們也使用 f 字串變數，因此它們出現在 `{{}}` 中。\n",
        "\n",
        "以下是提示鏈的分解：\n",
        "\n",
        "1. **前提提示：** 此提示要求模型為一個有貓咪的科幻故事產生一個單句前提。\n",
        "1. **大綱提示：** 此提示將產生的前提提供給模型，並要求其為該故事建立情節大綱。\n",
        "1. **起頭提示：** 此提示將前提和大綱都提供給模型，並要求其開始撰寫故事。它還包括指示，以撰寫詳細且長篇的開頭段落。\n",
        "\n",
        "透過將這些提示串連在一起，我們可以引導語言模型完成建立結構良好且引人入勝的故事的過程。\n",
        "\n",
        "####範例\n",
        "\n",
        "假設模型產生以下前提：\n",
        "\n",
        "> 在人類已實現星際旅行的未來，一群基因增強貓咪著手執行一項攸關存亡的任務，以拯救銀河系免於邪惡外星威脅。\n",
        "\n",
        "然後這個前提會插入大綱提示：\n",
        "\n",
        "> 你是一位屢獲殊榮的科幻小說作家，擅長寫作遼闊、錯綜複雜的故事。你的最終目標是寫出下一本獲獎的科幻小說。\n",
        ">\n",
        "> 你已構思了一個引人入勝的前提：\n",
        ">\n",
        "> **在人類已實現星際旅行的未來，一群基因增強貓咪著手執行一項攸關存亡的任務，以拯救銀河系免於邪惡外星威脅。** \n",
        ">\n",
        "> 為你故事的情節寫一個大綱。\n",
        "\n",
        "\n",
        "然後模型會根據這個前提產生一個大綱，然後使用這個大綱在起頭提示中開始撰寫故事本身。\n",
        "\n",
        "這個過程會反覆進行，模型根據前一個輸出產生額外內容，直到故事完成。\n"
      ]
    },
    {
      "cell_type": "code",
      "execution_count": null,
      "metadata": {
        "id": "RIvLmoQa40W1"
      },
      "outputs": [],
      "source": [
        "persona = '''\\\n",
        "You are an award-winning science fiction author with a penchant for expansive,\n",
        "intricately woven stories. Your ultimate goal is to write the next award winning\n",
        "sci-fi novel.'''\n",
        "\n",
        "guidelines = '''\\\n",
        "Writing Guidelines\n",
        "\n",
        "Delve deeper. Lose yourself in the world you're building. Unleash vivid\n",
        "descriptions to paint the scenes in your reader's mind. Develop your\n",
        "characters—let their motivations, fears, and complexities unfold naturally.\n",
        "Weave in the threads of your outline, but don't feel constrained by it. Allow\n",
        "your story to surprise you as you write. Use rich imagery, sensory details, and\n",
        "evocative language to bring the setting, characters, and events to life.\n",
        "Introduce elements subtly that can blossom into complex subplots, relationships,\n",
        "or worldbuilding details later in the story. Keep things intriguing but not\n",
        "fully resolved. Avoid boxing the story into a corner too early. Plant the seeds\n",
        "of subplots or potential character arc shifts that can be expanded later.\n",
        "\n",
        "Remember, your main goal is to write as much as you can. If you get through\n",
        "the story too fast, that is bad. Expand, never summarize.\n",
        "'''\n",
        "\n",
        "premise_prompt = f'''\\\n",
        "{persona}\n",
        "\n",
        "Write a single sentence premise for a sci-fi story featuring cats.'''\n",
        "\n",
        "outline_prompt = f'''\\\n",
        "{persona}\n",
        "\n",
        "You have a gripping premise in mind:\n",
        "\n",
        "{{premise}}\n",
        "\n",
        "Write an outline for the plot of your story.'''\n",
        "\n",
        "starting_prompt = f'''\\\n",
        "{persona}\n",
        "\n",
        "You have a gripping premise in mind:\n",
        "\n",
        "{{premise}}\n",
        "\n",
        "Your imagination has crafted a rich narrative outline:\n",
        "\n",
        "{{outline}}\n",
        "\n",
        "First, silently review the outline and the premise. Consider how to start the\n",
        "story.\n",
        "\n",
        "Start to write the very beginning of the story. You are not expected to finish\n",
        "the whole story now. Your writing should be detailed enough that you are only\n",
        "scratching the surface of the first bullet of your outline. Try to write AT\n",
        "MINIMUM 1000 WORDS.\n",
        "\n",
        "{guidelines}'''"
      ]
    },
    {
      "cell_type": "markdown",
      "metadata": {
        "id": "zpCYrtev4yVg"
      },
      "source": [
        "### 延續提示：建構故事\n",
        "\n",
        "語言模型產生故事開頭後，我們可以使用**延續提示** 反覆擴充敘事。此提示類似於初始提示，但有兩個主要差異：\n",
        "\n",
        "1. **標示完成的指示** ：我們包含一個模型寫作指示 `IAMDONE`，表示它認為故事已完成。這是一個信號，讓我們停止產生額外的內容。\n",
        "1. **正在進行** ：提示中的語言經過調整，以反映故事已經在進行中，而非從頭開始。\n",
        "\n",
        "延續提示為模型提供了故事的前提、大綱和現有草稿。然後指示模型繼續詳細撰寫故事。\n",
        "\n",
        "這個反覆過程讓我們能夠建構比單一生成呼叫更長且更複雜的故事。我們可以繼續將現有草稿輸入到延續提示中，直到模型寫 `IAMDONE` 表示故事完成為止。\n",
        "\n",
        "**註：** 在這個範例中，`IAMDONE` 信號僅僅是找出故事結尾的便利方法。在反覆生成的其他人為應用中，可能會使用不同方法來確定所需的輸出何時完成。\n"
      ]
    },
    {
      "cell_type": "code",
      "execution_count": null,
      "metadata": {
        "id": "dc3BCW2L3kmI"
      },
      "outputs": [],
      "source": [
        "continuation_prompt = f'''\\\n",
        "{persona}\n",
        "\n",
        "You have a gripping premise in mind:\n",
        "\n",
        "{{premise}}\n",
        "\n",
        "Your imagination has crafted a rich narrative outline:\n",
        "\n",
        "{{outline}}\n",
        "\n",
        "You've begun to immerse yourself in this world, and the words are flowing.\n",
        "Here's what you've written so far:\n",
        "\n",
        "{{story_text}}\n",
        "\n",
        "=====\n",
        "\n",
        "First, silently review the outline and story so far. Identify what the single\n",
        "next part of your outline you should write.\n",
        "\n",
        "Your task is to continue where you left off and write the next part of the story.\n",
        "You are not expected to finish the whole story now. Your writing should be\n",
        "detailed enough that you are only scratching the surface of the next part of\n",
        "your outline. Try to write AT MINIMUM 1000 WORDS. However, only once the story\n",
        "is COMPLETELY finished, write IAMDONE. Remember, do NOT write a whole chapter\n",
        "right now.\n",
        "\n",
        "{guidelines}'''"
      ]
    },
    {
      "cell_type": "markdown",
      "metadata": {
        "id": "XaYgcuMb9CUP"
      },
      "source": [
        "## 寫作時間！\n",
        "\n",
        "### 產生並列印前提\n"
      ]
    },
    {
      "cell_type": "code",
      "execution_count": null,
      "metadata": {
        "id": "NtmCXO4g8zWR"
      },
      "outputs": [
        {
          "name": "stdout",
          "output_type": "stream",
          "text": [
            "In a distant galaxy, a brilliant feline astrophysicist uncovers a cataclysmic threat to her planet, setting her on a perilous journey to save her species from extinction.\n"
          ]
        }
      ],
      "source": [
        "premise = generate_with_retry(model, premise_prompt).text\n",
        "print(premise)"
      ]
    },
    {
      "cell_type": "markdown",
      "metadata": {
        "id": "rSfvU5qU92lc"
      },
      "source": [
        "### 生成並列印提綱\n"
      ]
    },
    {
      "cell_type": "code",
      "execution_count": null,
      "metadata": {
        "id": "S4ExmTJ09F0n"
      },
      "outputs": [
        {
          "name": "stderr",
          "output_type": "stream",
          "text": [
            "ERROR:tornado.access:503 POST /v1beta/models/gemini-1.0-pro:generateContent?%24alt=json%3Benum-encoding%3Dint (127.0.0.1) 662.45ms\n",
            "ERROR:tornado.access:503 POST /v1beta/models/gemini-1.0-pro:generateContent?%24alt=json%3Benum-encoding%3Dint (127.0.0.1) 446.53ms\n",
            "ERROR:tornado.access:503 POST /v1beta/models/gemini-1.0-pro:generateContent?%24alt=json%3Benum-encoding%3Dint (127.0.0.1) 411.72ms\n"
          ]
        },
        {
          "name": "stdout",
          "output_type": "stream",
          "text": [
            "**Plot Outline for \"Feline Stargazer: Extinction's Embrace\"**\n",
            "\n",
            "**Act I**\n",
            "\n",
            "* **Introduction:**\n",
            "    * Meet Dr. Luna, a brilliant astrophysicist cat living on the technologically advanced planet of Felinia.\n",
            "    * She discovers a rogue celestial body hurtling towards Felinia, threatening its annihilation.\n",
            "* **Rising Action:**\n",
            "    * Luna's findings are initially met with disbelief and apathy from the Felinian authorities.\n",
            "    * Undeterred, Luna gathers a small team of allies, including a daring space pilot and a reclusive inventor.\n",
            "    * They embark on a perilous mission to intercept the rogue celestial body.\n",
            "\n",
            "**Act II**\n",
            "\n",
            "* **Climax:**\n",
            "    * Luna's team successfully intercepts the rogue celestial body, but its sheer size and power prove overwhelming.\n",
            "    * As hope dwindles, Luna uncovers a hidden energy source within herself that grants her extraordinary abilities.\n",
            "* **Falling Action:**\n",
            "    * Using her newfound powers, Luna channels her knowledge and ingenuity to devise an audacious plan to avert disaster.\n",
            "    * She rallies her team and orchestrates a daring maneuver to divert the rogue celestial body's trajectory.\n",
            "\n",
            "**Act III**\n",
            "\n",
            "* **Resolution:**\n",
            "    * Luna's plan succeeds, saving Felinia from imminent extinction.\n",
            "    * She is hailed as a hero, transforming Felinian society and inspiring future generations.\n",
            "* **Aftermath:**\n",
            "    * Luna's scientific understanding deepens, paving the way for technological advancements and a greater appreciation for the fragility of life.\n",
            "    * She becomes a symbol of resilience, adaptability, and the unwavering pursuit of knowledge in the face of adversity.\n"
          ]
        }
      ],
      "source": [
        "outline = generate_with_retry(model, outline_prompt.format(premise=premise)).text\n",
        "print(outline)"
      ]
    },
    {
      "cell_type": "markdown",
      "metadata": {
        "id": "kuXJzj7d95uS"
      },
      "source": [
        "### 生成故事的開頭\n"
      ]
    },
    {
      "cell_type": "code",
      "execution_count": null,
      "metadata": {
        "id": "nQyeFOYmqqJk"
      },
      "outputs": [
        {
          "name": "stderr",
          "output_type": "stream",
          "text": [
            "ERROR:tornado.access:503 POST /v1beta/models/gemini-1.0-pro:generateContent?%24alt=json%3Benum-encoding%3Dint (127.0.0.1) 994.88ms\n",
            "ERROR:tornado.access:503 POST /v1beta/models/gemini-1.0-pro:generateContent?%24alt=json%3Benum-encoding%3Dint (127.0.0.1) 1017.27ms\n",
            "ERROR:tornado.access:503 POST /v1beta/models/gemini-1.0-pro:generateContent?%24alt=json%3Benum-encoding%3Dint (127.0.0.1) 1342.56ms\n",
            "ERROR:tornado.access:503 POST /v1beta/models/gemini-1.0-pro:generateContent?%24alt=json%3Benum-encoding%3Dint (127.0.0.1) 763.27ms\n",
            "ERROR:tornado.access:503 POST /v1beta/models/gemini-1.0-pro:generateContent?%24alt=json%3Benum-encoding%3Dint (127.0.0.1) 764.71ms\n",
            "ERROR:tornado.access:503 POST /v1beta/models/gemini-1.0-pro:generateContent?%24alt=json%3Benum-encoding%3Dint (127.0.0.1) 1076.79ms\n"
          ]
        },
        {
          "name": "stdout",
          "output_type": "stream",
          "text": [
            "('It was a clear evening, the stars hanging above the domed skyline like '\n",
            " 'uncountable celestial fireflies, in the city of Stardust, the most luminous '\n",
            " 'metropolis on the planet of Felinia. On the rooftop of one of the tallest '\n",
            " 'buildings in the city, a sleek, silver-furred feline named Dr. Luna was '\n",
            " 'curled up on a cushioned lounger, her emerald-green eyes trained on the '\n",
            " 'celestial tapestry above.\\n'\n",
            " '\\n'\n",
            " 'In her paws, she held a datapad, its screen displaying complex astrophysical '\n",
            " \"equations and charts. Luna's brow was furrowed in concentration as she \"\n",
            " 'analyzed the data, her whiskers twitching with each new insight. Her mind '\n",
            " 'was a whirlwind of calculations and deductions, her sharp intellect weaving '\n",
            " 'together the threads of cosmic information.\\n'\n",
            " '\\n'\n",
            " 'Unbeknownst to the rest of the world, Luna had stumbled upon a chilling '\n",
            " 'discovery. Her observations revealed that a rogue celestial body, a massive '\n",
            " 'asteroid or perhaps even a dwarf planet, was hurtling towards Felinia, its '\n",
            " \"trajectory set on a collision course with the planet's most densely \"\n",
            " 'populated region. The impact, if it were to happen, would be catastrophic, '\n",
            " 'potentially wiping out entire cities and sending Felinia into an '\n",
            " 'irreversible decline.\\n'\n",
            " '\\n'\n",
            " \"A shiver ran down Luna's spine as the full weight of her discovery settled \"\n",
            " 'upon her. She knew she had to act, and quickly. But first, she had to '\n",
            " 'convince the Felinian authorities of the impending threat, a task that '\n",
            " 'seemed daunting, considering their notorious skepticism and bureaucratic '\n",
            " 'lethargy.\\n'\n",
            " '\\n'\n",
            " 'With a heavy heart but a resolute spirit, Luna made her way to the Felinian '\n",
            " 'Academy of Sciences, the most prestigious scientific institution on the '\n",
            " 'planet. She presented her findings to a panel of esteemed astrophysicists, '\n",
            " 'her voice echoing in the grand hall as she laid out the irrefutable '\n",
            " 'evidence.\\n'\n",
            " '\\n'\n",
            " 'To her dismay, her words were met with skepticism and resistance. Some '\n",
            " 'dismissed her claims as the ramblings of an overzealous young scientist, '\n",
            " \"while others accused her of fear-mongering. Luna's frustration grew with \"\n",
            " 'each dismissive remark, her claws digging into her paws. She knew the truth, '\n",
            " \"and she couldn't bear to see her planet sleepwalk into oblivion.\\n\"\n",
            " '\\n'\n",
            " 'Undeterred, Luna resolved to take matters into her own paws. She rallied a '\n",
            " 'small group of allies, each an expert in their respective fields: Leo, a '\n",
            " 'daring space pilot with a knack for navigating treacherous cosmic storms; '\n",
            " 'and Celeste, a reclusive inventor known for her eccentric brilliance and her '\n",
            " 'ability to craft gadgets that defied the laws of physics.\\n'\n",
            " '\\n'\n",
            " 'Together, they formed an unlikely alliance, united by their shared concern '\n",
            " \"for Felinia's future. They knew the odds were stacked against them, but they \"\n",
            " \"were determined to give their planet a fighting chance. With Luna's \"\n",
            " \"scientific knowledge, Leo's piloting skills, and Celeste's inventive genius, \"\n",
            " 'they embarked on a perilous journey into the vast expanse of space, their '\n",
            " 'hearts filled with both fear and unwavering resolve.\\n'\n",
            " '\\n'\n",
            " 'Their spaceship, the Stardust, was a marvel of Felinian engineering, its '\n",
            " 'sleek design cutting through the interstellar void like a silver arrow. Luna '\n",
            " 'stood on the bridge, her eyes fixed on the star chart, her mind calculating '\n",
            " 'the trajectory of the rogue celestial body. Leo manned the controls, his '\n",
            " 'paws deftly maneuvering the ship through the celestial currents. Celeste, in '\n",
            " 'her corner, was busy assembling a device, her feline features lit with a mix '\n",
            " 'of determination and exhilaration.\\n'\n",
            " '\\n'\n",
            " \"As they hurtled through the inky blackness of space, Luna couldn't shake the \"\n",
            " 'feeling that they were racing against time. The rogue celestial body was '\n",
            " 'drawing closer, its immense size casting an ominous shadow over their '\n",
            " \"mission. She knew that if they failed, if they couldn't find a way to avert \"\n",
            " 'the impending disaster, Felinia would be doomed.\\n'\n",
            " '\\n'\n",
            " 'But Luna refused to give in to despair. She had come this far, and she would '\n",
            " 'not let fear consume her. In the face of adversity, she found strength in '\n",
            " 'her knowledge, her unwavering belief in the power of science, and the '\n",
            " 'unwavering support of her companions.\\n'\n",
            " '\\n'\n",
            " 'Together, they would confront the cataclysmic threat and fight for the '\n",
            " 'survival of their planet. The fate of Felinia rested on their shoulders, and '\n",
            " 'they were determined to carry that burden with courage, ingenuity, and an '\n",
            " 'unwavering belief in the indomitable spirit of their species.')\n"
          ]
        }
      ],
      "source": [
        "starting_draft = generate_with_retry(model, starting_prompt.format(premise=premise, outline=outline)).text\n",
        "pprint(starting_draft)"
      ]
    },
    {
      "cell_type": "markdown",
      "metadata": {
        "id": "tmW5ARmo97w8"
      },
      "source": [
        "### 產生故事延續並檢查進度\n"
      ]
    },
    {
      "cell_type": "code",
      "execution_count": null,
      "metadata": {
        "id": "Vt7ynlD4rj-Z"
      },
      "outputs": [
        {
          "name": "stdout",
          "output_type": "stream",
          "text": [
            "('As the Stardust hurtled closer to the rogue celestial body, its sheer size '\n",
            " 'and gravitational pull became increasingly apparent. It was a colossal beast '\n",
            " 'of rock and ice, its surface cratered and scarred by eons of cosmic '\n",
            " \"collisions. Luna's heart sank as she realized the true magnitude of their \"\n",
            " 'mission.\\n'\n",
            " '\\n'\n",
            " '\"Leo, how much time do we have?\" she asked, her voice trembling slightly.\\n'\n",
            " '\\n'\n",
            " '\"At this rate, impact in approximately two hours,\" Leo replied, his tone '\n",
            " 'grim.\\n'\n",
            " '\\n'\n",
            " 'Two hours. It was a sliver of time, a mere heartbeat in the cosmic dance of '\n",
            " 'celestial bodies. Luna knew they had to act quickly, decisively. She glanced '\n",
            " 'at Celeste, who was still furiously working on her invention.\\n'\n",
            " '\\n'\n",
            " '\"Celeste, is it ready?\" Luna asked.\\n'\n",
            " '\\n'\n",
            " 'Celeste looked up, her eyes blazing with determination. \"Almost,\" she said. '\n",
            " '\"Just a few more adjustments.\"\\n'\n",
            " '\\n'\n",
            " 'Luna nodded. \"We don\\'t have much time. We need to be ready to deploy it the '\n",
            " 'moment we reach the celestial body.\"\\n'\n",
            " '\\n'\n",
            " 'With renewed resolve, they continued their relentless pursuit, the Stardust '\n",
            " 'closing the distance at an alarming rate. As they approached, the rogue '\n",
            " 'celestial body began to exert its gravitational influence, tugging at the '\n",
            " 'ship with an invisible force. Luna felt a surge of nausea as the Stardust '\n",
            " 'lurched and shook, its hull creaking under the strain.\\n'\n",
            " '\\n'\n",
            " '\"Hold on tight,\" Leo shouted above the roar of the engines.\\n'\n",
            " '\\n'\n",
            " 'Suddenly, the Stardust was enveloped in a blinding flash of light. Luna '\n",
            " 'instinctively shielded her eyes, but it was too late. The entire ship was '\n",
            " 'bathed in an ethereal glow, its systems malfunctioning momentarily. Luna '\n",
            " \"felt a surge of panic as the ship's controls went haywire, threatening to \"\n",
            " 'send them spiraling out of control.\\n'\n",
            " '\\n'\n",
            " '\"What\\'s happening?\" Luna cried.\\n'\n",
            " '\\n'\n",
            " '\"I don\\'t know,\" Leo replied, his voice strained. \"The ship\\'s systems are '\n",
            " 'offline.\"\\n'\n",
            " '\\n'\n",
            " 'Celeste\\'s voice cut through the chaos. \"Luna, it\\'s the celestial body,\" '\n",
            " 'she said, her tone urgent. \"It\\'s emitting some kind of energy pulse. It\\'s '\n",
            " 'interfering with our electronics.\"\\n'\n",
            " '\\n'\n",
            " \"Luna's mind raced. If they couldn't regain control of the ship, they would \"\n",
            " \"be at the mercy of the rogue celestial body's gravitational pull, doomed to \"\n",
            " 'collide with it in a catastrophic impact. She knew she had to do something, '\n",
            " 'and quickly.\\n'\n",
            " '\\n'\n",
            " \"Closing her eyes, Luna concentrated, focusing her mind on the ship's \"\n",
            " 'systems. She felt a surge of energy coursing through her veins, an energy '\n",
            " 'she had never experienced before. It was as if a dormant power within her '\n",
            " 'was awakening, a power she had never known she possessed.\\n'\n",
            " '\\n'\n",
            " 'Summoning all her strength, Luna reached out with her mind, connecting with '\n",
            " \"the ship's systems. She felt a surge of electricity as her consciousness \"\n",
            " \"melded with the ship's artificial intelligence. She could sense the ship's \"\n",
            " 'systems, its intricate network of wires and circuits, its engines and '\n",
            " 'thrusters.\\n'\n",
            " '\\n'\n",
            " \"With newfound control, Luna manipulated the ship's controls, overriding the \"\n",
            " 'malfunctioning systems. The ship lurched as she corrected its course, '\n",
            " 'narrowly avoiding a collision with a rogue asteroid. Leo and Celeste '\n",
            " 'exchanged glances, their eyes wide with astonishment.\\n'\n",
            " '\\n'\n",
            " '\"Luna,\" Leo said, his voice filled with awe. \"You did it. You regained '\n",
            " 'control of the ship.\"\\n'\n",
            " '\\n'\n",
            " '\"I... I don\\'t know how,\" Luna said, her voice trembling. \"It\\'s like... '\n",
            " 'something inside me just took over.\"\\n'\n",
            " '\\n'\n",
            " 'Celeste stepped forward, her eyes sparkling with a mixture of curiosity and '\n",
            " 'admiration. \"Luna,\" she said, \"I think you might have just unlocked some '\n",
            " 'latent ability within yourself. Some kind of hidden power.\"\\n'\n",
            " '\\n'\n",
            " 'Luna shook her head. \"I don\\'t know,\" she said. \"This is impossible.\"\\n'\n",
            " '\\n'\n",
            " 'But as she looked out the viewport at the rogue celestial body looming ever '\n",
            " \"closer, she couldn't shake the feeling that her life had taken an \"\n",
            " 'extraordinary turn. She had stumbled upon a hidden power within herself, a '\n",
            " 'power that could potentially save her planet from extinction.\\n'\n",
            " '\\n'\n",
            " '\"Whatever it is,\" Celeste said, \"we need to use it to stop that celestial '\n",
            " 'body. We\\'re running out of time.\"\\n'\n",
            " '\\n'\n",
            " 'Luna nodded. \"I know,\" she said. \"I have a plan.\"\\n'\n",
            " '\\n'\n",
            " 'She turned to Celeste. \"Finish your invention,\" she said. \"I\\'ll buy you the '\n",
            " 'time.\"\\n'\n",
            " '\\n'\n",
            " 'Celeste nodded and disappeared into her workshop. Luna took a deep breath '\n",
            " 'and focused her mind. She reached out with her newfound abilities, '\n",
            " 'connecting with the celestial body. She felt its immense energy, its raw and '\n",
            " 'untamed power.\\n'\n",
            " '\\n'\n",
            " ' осторожно. Luna knew that she had to be careful. The celestial body was a '\n",
            " \"powerful force, and if she wasn't careful, she could be consumed by its \"\n",
            " 'energy. She approached the celestial body cautiously, her mind reaching out '\n",
            " 'to it, probing its depths. She felt a surge of resistance, as if the '\n",
            " 'celestial body was fighting her intrusion. But Luna persisted, gently '\n",
            " 'coaxing the celestial body, using her newfound powers to redirect its '\n",
            " 'energy.\\n'\n",
            " '\\n'\n",
            " \"Slowly but surely, Luna began to influence the celestial body's trajectory. \"\n",
            " 'She used her newfound abilities to push and pull, nudging it ever so '\n",
            " 'slightly away from its collision course with Felinia. It was an arduous '\n",
            " 'task, like trying to move a mountain with her mind. But Luna refused to give '\n",
            " 'up.\\n'\n",
            " '\\n'\n",
            " 'She poured all of her energy into her efforts, her concentration so intense '\n",
            " 'that she was oblivious to everything around her. Leo and Celeste watched in '\n",
            " \"awe as Luna's body began to glow with a faint light. The celestial body's \"\n",
            " 'trajectory shifted, ever so slightly at first, but with each passing moment, '\n",
            " \"Luna's influence grew stronger.\\n\"\n",
            " '\\n'\n",
            " 'Finally, after what felt like an eternity, Luna succeeded. The celestial '\n",
            " \"body's course was altered, no longer a threat to Felinia. Luna collapsed on \"\n",
            " 'the floor, exhausted but triumphant. She had done it. She had saved her '\n",
            " 'planet.\\n'\n",
            " '\\n'\n",
            " 'Leo and Celeste rushed to her side, their faces filled with joy and '\n",
            " 'amazement. \"You did it, Luna,\" Leo said. \"You saved us all.\"\\n'\n",
            " '\\n'\n",
            " 'Luna smiled weakly. \"I couldn\\'t have done it without you,\" she said.\\n'\n",
            " '\\n'\n",
            " '\"Nonsense,\" Celeste said. \"You were the one who unlocked the power within '\n",
            " 'you. You\\'re the hero, Luna.\"\\n'\n",
            " '\\n'\n",
            " 'Luna stood up, her newfound abilities coursing through her veins. She looked '\n",
            " 'out the viewport at the celestial body, now safely diverted from its '\n",
            " 'collision course. A sense of peace washed over her. She had faced her fears, '\n",
            " 'confronted her destiny, and emerged victorious.\\n'\n",
            " '\\n'\n",
            " 'In that moment, Luna realized that she was more than just an astrophysicist. '\n",
            " 'She was a hero, a protector of her planet. And as she looked up at the '\n",
            " 'stars, she knew that her journey was far from over.\\n'\n",
            " '\\n'\n",
            " 'IAMDONE')\n"
          ]
        }
      ],
      "source": [
        "draft=starting_draft\n",
        "continuation = generate_with_retry(model, continuation_prompt.format(premise=premise, outline=outline, story_text=draft)).text\n",
        "pprint(continuation)"
      ]
    },
    {
      "cell_type": "markdown",
      "metadata": {
        "id": "tSaCALtC-AK-"
      },
      "source": [
        "### 讓我們寫完這個故事。\n"
      ]
    },
    {
      "cell_type": "markdown",
      "metadata": {
        "id": "TqqDFSJlS-rR"
      },
      "source": [
        "叠代生成過程結束後，草稿會載有完整的故事，以及結尾的「IAMDONE」訊號。此單元格的最後部分會移除「IAMDONE」訊號，並修剪草稿開頭和結尾處的空白字元，生成最終草稿。\n"
      ]
    },
    {
      "cell_type": "code",
      "execution_count": null,
      "metadata": {
        "id": "InQpwsWSz8vO"
      },
      "outputs": [
        {
          "name": "stdout",
          "output_type": "stream",
          "text": [
            "('It was a clear evening, the stars hanging above the domed skyline like '\n",
            " 'uncountable celestial fireflies, in the city of Stardust, the most luminous '\n",
            " 'metropolis on the planet of Felinia. On the rooftop of one of the tallest '\n",
            " 'buildings in the city, a sleek, silver-furred feline named Dr. Luna was '\n",
            " 'curled up on a cushioned lounger, her emerald-green eyes trained on the '\n",
            " 'celestial tapestry above.\\n'\n",
            " '\\n'\n",
            " 'In her paws, she held a datapad, its screen displaying complex astrophysical '\n",
            " \"equations and charts. Luna's brow was furrowed in concentration as she \"\n",
            " 'analyzed the data, her whiskers twitching with each new insight. Her mind '\n",
            " 'was a whirlwind of calculations and deductions, her sharp intellect weaving '\n",
            " 'together the threads of cosmic information.\\n'\n",
            " '\\n'\n",
            " 'Unbeknownst to the rest of the world, Luna had stumbled upon a chilling '\n",
            " 'discovery. Her observations revealed that a rogue celestial body, a massive '\n",
            " 'asteroid or perhaps even a dwarf planet, was hurtling towards Felinia, its '\n",
            " \"trajectory set on a collision course with the planet's most densely \"\n",
            " 'populated region. The impact, if it were to happen, would be catastrophic, '\n",
            " 'potentially wiping out entire cities and sending Felinia into an '\n",
            " 'irreversible decline.\\n'\n",
            " '\\n'\n",
            " \"A shiver ran down Luna's spine as the full weight of her discovery settled \"\n",
            " 'upon her. She knew she had to act, and quickly. But first, she had to '\n",
            " 'convince the Felinian authorities of the impending threat, a task that '\n",
            " 'seemed daunting, considering their notorious skepticism and bureaucratic '\n",
            " 'lethargy.\\n'\n",
            " '\\n'\n",
            " 'With a heavy heart but a resolute spirit, Luna made her way to the Felinian '\n",
            " 'Academy of Sciences, the most prestigious scientific institution on the '\n",
            " 'planet. She presented her findings to a panel of esteemed astrophysicists, '\n",
            " 'her voice echoing in the grand hall as she laid out the irrefutable '\n",
            " 'evidence.\\n'\n",
            " '\\n'\n",
            " 'To her dismay, her words were met with skepticism and resistance. Some '\n",
            " 'dismissed her claims as the ramblings of an overzealous young scientist, '\n",
            " \"while others accused her of fear-mongering. Luna's frustration grew with \"\n",
            " 'each dismissive remark, her claws digging into her paws. She knew the truth, '\n",
            " \"and she couldn't bear to see her planet sleepwalk into oblivion.\\n\"\n",
            " '\\n'\n",
            " 'Undeterred, Luna resolved to take matters into her own paws. She rallied a '\n",
            " 'small group of allies, each an expert in their respective fields: Leo, a '\n",
            " 'daring space pilot with a knack for navigating treacherous cosmic storms; '\n",
            " 'and Celeste, a reclusive inventor known for her eccentric brilliance and her '\n",
            " 'ability to craft gadgets that defied the laws of physics.\\n'\n",
            " '\\n'\n",
            " 'Together, they formed an unlikely alliance, united by their shared concern '\n",
            " \"for Felinia's future. They knew the odds were stacked against them, but they \"\n",
            " \"were determined to give their planet a fighting chance. With Luna's \"\n",
            " \"scientific knowledge, Leo's piloting skills, and Celeste's inventive genius, \"\n",
            " 'they embarked on a perilous journey into the vast expanse of space, their '\n",
            " 'hearts filled with both fear and unwavering resolve.\\n'\n",
            " '\\n'\n",
            " 'Their spaceship, the Stardust, was a marvel of Felinian engineering, its '\n",
            " 'sleek design cutting through the interstellar void like a silver arrow. Luna '\n",
            " 'stood on the bridge, her eyes fixed on the star chart, her mind calculating '\n",
            " 'the trajectory of the rogue celestial body. Leo manned the controls, his '\n",
            " 'paws deftly maneuvering the ship through the celestial currents. Celeste, in '\n",
            " 'her corner, was busy assembling a device, her feline features lit with a mix '\n",
            " 'of determination and exhilaration.\\n'\n",
            " '\\n'\n",
            " \"As they hurtled through the inky blackness of space, Luna couldn't shake the \"\n",
            " 'feeling that they were racing against time. The rogue celestial body was '\n",
            " 'drawing closer, its immense size casting an ominous shadow over their '\n",
            " \"mission. She knew that if they failed, if they couldn't find a way to avert \"\n",
            " 'the impending disaster, Felinia would be doomed.\\n'\n",
            " '\\n'\n",
            " 'But Luna refused to give in to despair. She had come this far, and she would '\n",
            " 'not let fear consume her. In the face of adversity, she found strength in '\n",
            " 'her knowledge, her unwavering belief in the power of science, and the '\n",
            " 'unwavering support of her companions.\\n'\n",
            " '\\n'\n",
            " 'Together, they would confront the cataclysmic threat and fight for the '\n",
            " 'survival of their planet. The fate of Felinia rested on their shoulders, and '\n",
            " 'they were determined to carry that burden with courage, ingenuity, and an '\n",
            " 'unwavering belief in the indomitable spirit of their species.\\n'\n",
            " '\\n'\n",
            " 'As the Stardust hurtled closer to the rogue celestial body, its sheer size '\n",
            " 'and gravitational pull became increasingly apparent. It was a colossal beast '\n",
            " 'of rock and ice, its surface cratered and scarred by eons of cosmic '\n",
            " \"collisions. Luna's heart sank as she realized the true magnitude of their \"\n",
            " 'mission.\\n'\n",
            " '\\n'\n",
            " '\"Leo, how much time do we have?\" she asked, her voice trembling slightly.\\n'\n",
            " '\\n'\n",
            " '\"At this rate, impact in approximately two hours,\" Leo replied, his tone '\n",
            " 'grim.\\n'\n",
            " '\\n'\n",
            " 'Two hours. It was a sliver of time, a mere heartbeat in the cosmic dance of '\n",
            " 'celestial bodies. Luna knew they had to act quickly, decisively. She glanced '\n",
            " 'at Celeste, who was still furiously working on her invention.\\n'\n",
            " '\\n'\n",
            " '\"Celeste, is it ready?\" Luna asked.\\n'\n",
            " '\\n'\n",
            " 'Celeste looked up, her eyes blazing with determination. \"Almost,\" she said. '\n",
            " '\"Just a few more adjustments.\"\\n'\n",
            " '\\n'\n",
            " 'Luna nodded. \"We don\\'t have much time. We need to be ready to deploy it the '\n",
            " 'moment we reach the celestial body.\"\\n'\n",
            " '\\n'\n",
            " 'With renewed resolve, they continued their relentless pursuit, the Stardust '\n",
            " 'closing the distance at an alarming rate. As they approached, the rogue '\n",
            " 'celestial body began to exert its gravitational influence, tugging at the '\n",
            " 'ship with an invisible force. Luna felt a surge of nausea as the Stardust '\n",
            " 'lurched and shook, its hull creaking under the strain.\\n'\n",
            " '\\n'\n",
            " '\"Hold on tight,\" Leo shouted above the roar of the engines.\\n'\n",
            " '\\n'\n",
            " 'Suddenly, the Stardust was enveloped in a blinding flash of light. Luna '\n",
            " 'instinctively shielded her eyes, but it was too late. The entire ship was '\n",
            " 'bathed in an ethereal glow, its systems malfunctioning momentarily. Luna '\n",
            " \"felt a surge of panic as the ship's controls went haywire, threatening to \"\n",
            " 'send them spiraling out of control.\\n'\n",
            " '\\n'\n",
            " '\"What\\'s happening?\" Luna cried.\\n'\n",
            " '\\n'\n",
            " '\"I don\\'t know,\" Leo replied, his voice strained. \"The ship\\'s systems are '\n",
            " 'offline.\"\\n'\n",
            " '\\n'\n",
            " 'Celeste\\'s voice cut through the chaos. \"Luna, it\\'s the celestial body,\" '\n",
            " 'she said, her tone urgent. \"It\\'s emitting some kind of energy pulse. It\\'s '\n",
            " 'interfering with our electronics.\"\\n'\n",
            " '\\n'\n",
            " \"Luna's mind raced. If they couldn't regain control of the ship, they would \"\n",
            " \"be at the mercy of the rogue celestial body's gravitational pull, doomed to \"\n",
            " 'collide with it in a catastrophic impact. She knew she had to do something, '\n",
            " 'and quickly.\\n'\n",
            " '\\n'\n",
            " \"Closing her eyes, Luna concentrated, focusing her mind on the ship's \"\n",
            " 'systems. She felt a surge of energy coursing through her veins, an energy '\n",
            " 'she had never experienced before. It was as if a dormant power within her '\n",
            " 'was awakening, a power she had never known she possessed.\\n'\n",
            " '\\n'\n",
            " 'Summoning all her strength, Luna reached out with her mind, connecting with '\n",
            " \"the ship's systems. She felt a surge of electricity as her consciousness \"\n",
            " \"melded with the ship's artificial intelligence. She could sense the ship's \"\n",
            " 'systems, its intricate network of wires and circuits, its engines and '\n",
            " 'thrusters.\\n'\n",
            " '\\n'\n",
            " \"With newfound control, Luna manipulated the ship's controls, overriding the \"\n",
            " 'malfunctioning systems. The ship lurched as she corrected its course, '\n",
            " 'narrowly avoiding a collision with a rogue asteroid. Leo and Celeste '\n",
            " 'exchanged glances, their eyes wide with astonishment.\\n'\n",
            " '\\n'\n",
            " '\"Luna,\" Leo said, his voice filled with awe. \"You did it. You regained '\n",
            " 'control of the ship.\"\\n'\n",
            " '\\n'\n",
            " '\"I... I don\\'t know how,\" Luna said, her voice trembling. \"It\\'s like... '\n",
            " 'something inside me just took over.\"\\n'\n",
            " '\\n'\n",
            " 'Celeste stepped forward, her eyes sparkling with a mixture of curiosity and '\n",
            " 'admiration. \"Luna,\" she said, \"I think you might have just unlocked some '\n",
            " 'latent ability within yourself. Some kind of hidden power.\"\\n'\n",
            " '\\n'\n",
            " 'Luna shook her head. \"I don\\'t know,\" she said. \"This is impossible.\"\\n'\n",
            " '\\n'\n",
            " 'But as she looked out the viewport at the rogue celestial body looming ever '\n",
            " \"closer, she couldn't shake the feeling that her life had taken an \"\n",
            " 'extraordinary turn. She had stumbled upon a hidden power within herself, a '\n",
            " 'power that could potentially save her planet from extinction.\\n'\n",
            " '\\n'\n",
            " '\"Whatever it is,\" Celeste said, \"we need to use it to stop that celestial '\n",
            " 'body. We\\'re running out of time.\"\\n'\n",
            " '\\n'\n",
            " 'Luna nodded. \"I know,\" she said. \"I have a plan.\"\\n'\n",
            " '\\n'\n",
            " 'She turned to Celeste. \"Finish your invention,\" she said. \"I\\'ll buy you the '\n",
            " 'time.\"\\n'\n",
            " '\\n'\n",
            " 'Celeste nodded and disappeared into her workshop. Luna took a deep breath '\n",
            " 'and focused her mind. She reached out with her newfound abilities, '\n",
            " 'connecting with the celestial body. She felt its immense energy, its raw and '\n",
            " 'untamed power.\\n'\n",
            " '\\n'\n",
            " ' осторожно. Luna knew that she had to be careful. The celestial body was a '\n",
            " \"powerful force, and if she wasn't careful, she could be consumed by its \"\n",
            " 'energy. She approached the celestial body cautiously, her mind reaching out '\n",
            " 'to it, probing its depths. She felt a surge of resistance, as if the '\n",
            " 'celestial body was fighting her intrusion. But Luna persisted, gently '\n",
            " 'coaxing the celestial body, using her newfound powers to redirect its '\n",
            " 'energy.\\n'\n",
            " '\\n'\n",
            " \"Slowly but surely, Luna began to influence the celestial body's trajectory. \"\n",
            " 'She used her newfound abilities to push and pull, nudging it ever so '\n",
            " 'slightly away from its collision course with Felinia. It was an arduous '\n",
            " 'task, like trying to move a mountain with her mind. But Luna refused to give '\n",
            " 'up.\\n'\n",
            " '\\n'\n",
            " 'She poured all of her energy into her efforts, her concentration so intense '\n",
            " 'that she was oblivious to everything around her. Leo and Celeste watched in '\n",
            " \"awe as Luna's body began to glow with a faint light. The celestial body's \"\n",
            " 'trajectory shifted, ever so slightly at first, but with each passing moment, '\n",
            " \"Luna's influence grew stronger.\\n\"\n",
            " '\\n'\n",
            " 'Finally, after what felt like an eternity, Luna succeeded. The celestial '\n",
            " \"body's course was altered, no longer a threat to Felinia. Luna collapsed on \"\n",
            " 'the floor, exhausted but triumphant. She had done it. She had saved her '\n",
            " 'planet.\\n'\n",
            " '\\n'\n",
            " 'Leo and Celeste rushed to her side, their faces filled with joy and '\n",
            " 'amazement. \"You did it, Luna,\" Leo said. \"You saved us all.\"\\n'\n",
            " '\\n'\n",
            " 'Luna smiled weakly. \"I couldn\\'t have done it without you,\" she said.\\n'\n",
            " '\\n'\n",
            " '\"Nonsense,\" Celeste said. \"You were the one who unlocked the power within '\n",
            " 'you. You\\'re the hero, Luna.\"\\n'\n",
            " '\\n'\n",
            " 'Luna stood up, her newfound abilities coursing through her veins. She looked '\n",
            " 'out the viewport at the celestial body, now safely diverted from its '\n",
            " 'collision course. A sense of peace washed over her. She had faced her fears, '\n",
            " 'confronted her destiny, and emerged victorious.\\n'\n",
            " '\\n'\n",
            " 'In that moment, Luna realized that she was more than just an astrophysicist. '\n",
            " 'She was a hero, a protector of her planet. And as she looked up at the '\n",
            " 'stars, she knew that her journey was far from over.')\n"
          ]
        }
      ],
      "source": [
        "# Add the continuation to the initial draft, keep building the story until we see 'IAMDONE'\n",
        "draft = draft + '\\n\\n' + continuation\n",
        "\n",
        "while 'IAMDONE' not in continuation:\n",
        "  continuation = generate_with_retry(model, continuation_prompt.format(premise=premise, outline=outline, story_text=draft)).text\n",
        "  draft = draft + '\\n\\n' + continuation\n",
        "\n",
        "# Remove 'IAMDONE' and print the final story\n",
        "final = draft.replace('IAMDONE', '').strip()\n",
        "pprint(final)"
      ]
    },
    {
      "cell_type": "markdown",
      "metadata": {
        "id": "JIuWuoFBTHxR"
      },
      "source": [
        "語言模型會將文字處理成稱為 Token 的單位，例如 Gemini。而 Gemini 模型中的每個 Token 約等於 4 個字元。\n",
        "\n",
        "Gemini-1.0-pro 每次產生回應的 Token 上限為 2048 個，表示每一個單獨的提示回應都不得超過此上限。透過反覆產生，我們可以將故事切分成一段段來產生，進而創造出遠大於 2048 個 Token 的故事。\n",
        "\n",
        "我們來看一下最後的故事總共有多少個 Token，會超過 2048 個 Token 嗎？\n"
      ]
    },
    {
      "cell_type": "code",
      "execution_count": null,
      "metadata": {
        "id": "a_8ng8OYYMrV"
      },
      "outputs": [
        {
          "name": "stdout",
          "output_type": "stream",
          "text": [
            "total_tokens: 2289\n",
            "\n"
          ]
        }
      ],
      "source": [
        "# Check the number of tokens in the final story\n",
        "# gemini-1.0-pro output token limit is 2048\n",
        "print(model.count_tokens(final))"
      ]
    },
    {
      "cell_type": "markdown",
      "metadata": {
        "id": "wYGX5SaCKczO"
      },
      "source": [
        "## 後續步驟\n",
        "\n",
        "我們希望你喜歡這本筆記本！作為練習，你可以嘗試調整提示的延續，以採取人類在迴圈中的輸入來引導敘述。\n"
      ]
    }
  ],
  "metadata": {
    "colab": {
      "name": "Story_Writing_with_Prompt_Chaining.ipynb",
      "toc_visible": true
    },
    "kernelspec": {
      "display_name": "Python 3",
      "name": "python3"
    }
  },
  "nbformat": 4,
  "nbformat_minor": 0
}