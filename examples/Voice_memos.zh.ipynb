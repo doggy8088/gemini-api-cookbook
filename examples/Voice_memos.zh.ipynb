{
  "cells": [
    {
      "cell_type": "markdown",
      "metadata": {
        "id": "Tce3stUlHN0L"
      },
      "source": [
        "##### 版權所有 2024 Google LLC.\n"
      ]
    },
    {
      "cell_type": "code",
      "execution_count": null,
      "metadata": {
        "cellView": "form",
        "id": "tuOe1ymfHZPu"
      },
      "outputs": [],
      "source": [
        "#@title Licensed under the Apache License, Version 2.0 (the \"License\");\n",
        "# you may not use this file except in compliance with the License.\n",
        "# You may obtain a copy of the License at\n",
        "#\n",
        "# https://www.apache.org/licenses/LICENSE-2.0\n",
        "#\n",
        "# Unless required by applicable law or agreed to in writing, software\n",
        "# distributed under the License is distributed on an \"AS IS\" BASIS,\n",
        "# WITHOUT WARRANTIES OR CONDITIONS OF ANY KIND, either express or implied.\n",
        "# See the License for the specific language governing permissions and\n",
        "# limitations under the License."
      ]
    },
    {
      "cell_type": "markdown",
      "metadata": {
        "id": "084u8u0DpBlo"
      },
      "source": [
        "# 語音備忘錄\n"
      ]
    },
    {
      "cell_type": "markdown",
      "metadata": {
        "id": "wnQ_LVlzIeXo"
      },
      "source": [
        "<table align=\"left\">\n",
        "  <td>\n",
        "    <a target=\"_blank\" href=\"https://colab.research.google.com/github/doggy8088/gemini-api-cookbook/blob/zh-tw/examples/Voice_memos.zh.ipynb\"><img src=\"https://www.tensorflow.org/images/colab_logo_32px.png\" />在 Google Colab 中執行</a>\n",
        "  </td>\n",
        "</table>\n"
      ]
    },
    {
      "cell_type": "markdown",
      "metadata": {
        "id": "q7QvXQMrIhuZ"
      },
      "source": [
        "這個筆記本提供了一個如何同時處理聲音和文字檔案的快速範例中。你將使用 Gemini API 來協助你根據在手機上錄製的語音備忘錄和以前寫過的文章，為你的下一個部落格文章產生想法。\n"
      ]
    },
    {
      "cell_type": "code",
      "execution_count": null,
      "metadata": {
        "id": "qLuL9m7KhvxR"
      },
      "outputs": [
        {
          "name": "stdout",
          "output_type": "stream",
          "text": [
            "\u001b[2K     \u001b[90m━━━━━━━━━━━━━━━━━━━━━━━━━━━━━━━━━━━━━━━━\u001b[0m \u001b[32m150.7/150.7 kB\u001b[0m \u001b[31m2.1 MB/s\u001b[0m eta \u001b[36m0:00:00\u001b[0m\n",
            "\u001b[2K     \u001b[90m━━━━━━━━━━━━━━━━━━━━━━━━━━━━━━━━━━━━━━━━\u001b[0m \u001b[32m677.8/677.8 kB\u001b[0m \u001b[31m9.7 MB/s\u001b[0m eta \u001b[36m0:00:00\u001b[0m\n",
            "\u001b[?25h"
          ]
        }
      ],
      "source": [
        "!pip install -U -q google-generativeai"
      ]
    },
    {
      "cell_type": "code",
      "execution_count": null,
      "metadata": {
        "id": "ATIbQM0NHhkj"
      },
      "outputs": [],
      "source": [
        "import google.generativeai as genai"
      ]
    },
    {
      "cell_type": "markdown",
      "metadata": {
        "id": "l8g4hTRotheH"
      },
      "source": [
        "### 設定你的 API 金鑰\n",
        "\n",
        "如要執行以下單元格，你的 API 金鑰必須儲存在名為 `GOOGLE_API_KEY` 的 Colab Secret 中。如果你尚未擁有 API 金鑰，或不確定如何建立 Colab Secret，請參閱 [驗證](https://github.com/google-gemini/cookbook/blob/main/quickstarts/Authentication.ipynb)取得範例。\n"
      ]
    },
    {
      "cell_type": "code",
      "execution_count": null,
      "metadata": {
        "id": "d6lYXRcjthKV"
      },
      "outputs": [],
      "source": [
        "from google.colab import userdata\n",
        "GOOGLE_API_KEY=userdata.get('GOOGLE_API_KEY')\n",
        "genai.configure(api_key=GOOGLE_API_KEY)"
      ]
    },
    {
      "cell_type": "markdown",
      "metadata": {
        "id": "Mim5jZB6E1ag"
      },
      "source": [
        "安裝 PDF 處理工具。\n"
      ]
    },
    {
      "cell_type": "code",
      "execution_count": null,
      "metadata": {
        "id": "4YjBq1mCE2cX"
      },
      "outputs": [
        {
          "name": "stdout",
          "output_type": "stream",
          "text": [
            "Reading package lists... Done\n",
            "Building dependency tree... Done\n",
            "Reading state information... Done\n",
            "The following NEW packages will be installed:\n",
            "  poppler-utils\n",
            "0 upgraded, 1 newly installed, 0 to remove and 45 not upgraded.\n",
            "Need to get 186 kB of archives.\n",
            "After this operation, 696 kB of additional disk space will be used.\n",
            "Get:1 http://archive.ubuntu.com/ubuntu jammy-updates/main amd64 poppler-utils amd64 22.02.0-2ubuntu0.4 [186 kB]\n",
            "Fetched 186 kB in 1s (326 kB/s)\n",
            "Selecting previously unselected package poppler-utils.\n",
            "(Reading database ... 121918 files and directories currently installed.)\n",
            "Preparing to unpack .../poppler-utils_22.02.0-2ubuntu0.4_amd64.deb ...\n",
            "Unpacking poppler-utils (22.02.0-2ubuntu0.4) ...\n",
            "Setting up poppler-utils (22.02.0-2ubuntu0.4) ...\n",
            "Processing triggers for man-db (2.10.2-1) ...\n"
          ]
        }
      ],
      "source": [
        "!apt install poppler-utils"
      ]
    },
    {
      "cell_type": "markdown",
      "metadata": {
        "id": "MNvhBdoDFnTC"
      },
      "source": [
        "## 上傳你的聲音和文字檔案\n"
      ]
    },
    {
      "cell_type": "code",
      "execution_count": null,
      "metadata": {
        "id": "V4XeFdX1rxaE"
      },
      "outputs": [
        {
          "name": "stdout",
          "output_type": "stream",
          "text": [
            "--2024-05-14 20:33:10--  https://storage.googleapis.com/generativeai-downloads/data/Walking_thoughts_3.m4a\n",
            "Resolving storage.googleapis.com (storage.googleapis.com)... 108.177.98.207, 74.125.197.207, 74.125.135.207, ...\n",
            "Connecting to storage.googleapis.com (storage.googleapis.com)|108.177.98.207|:443... connected.\n",
            "HTTP request sent, awaiting response... 200 OK\n",
            "Length: 2060207 (2.0M) [audio/x-m4a]\n",
            "Saving to: ‘Walking_thoughts_3.m4a’\n",
            "\n",
            "\rWalking_thoughts_3.   0%[                    ]       0  --.-KB/s               \rWalking_thoughts_3. 100%[===================>]   1.96M  --.-KB/s    in 0.02s   \n",
            "\n",
            "2024-05-14 20:33:10 (119 MB/s) - ‘Walking_thoughts_3.m4a’ saved [2060207/2060207]\n",
            "\n",
            "--2024-05-14 20:33:10--  https://storage.googleapis.com/generativeai-downloads/data/A_Possible_Future_for_Online_Content.pdf\n",
            "Resolving storage.googleapis.com (storage.googleapis.com)... 108.177.98.207, 74.125.197.207, 74.125.135.207, ...\n",
            "Connecting to storage.googleapis.com (storage.googleapis.com)|108.177.98.207|:443... connected.\n",
            "HTTP request sent, awaiting response... 200 OK\n",
            "Length: 2798700 (2.7M) [application/pdf]\n",
            "Saving to: ‘A_Possible_Future_for_Online_Content.pdf’\n",
            "\n",
            "A_Possible_Future_f 100%[===================>]   2.67M  --.-KB/s    in 0.02s   \n",
            "\n",
            "2024-05-14 20:33:10 (132 MB/s) - ‘A_Possible_Future_for_Online_Content.pdf’ saved [2798700/2798700]\n",
            "\n",
            "--2024-05-14 20:33:11--  https://storage.googleapis.com/generativeai-downloads/data/Unanswered_Questions_and_Endless_Possibilities.pdf\n",
            "Resolving storage.googleapis.com (storage.googleapis.com)... 108.177.98.207, 74.125.197.207, 74.125.135.207, ...\n",
            "Connecting to storage.googleapis.com (storage.googleapis.com)|108.177.98.207|:443... connected.\n",
            "HTTP request sent, awaiting response... 200 OK\n",
            "Length: 4016102 (3.8M) [application/pdf]\n",
            "Saving to: ‘Unanswered_Questions_and_Endless_Possibilities.pdf’\n",
            "\n",
            "Unanswered_Question 100%[===================>]   3.83M  --.-KB/s    in 0.02s   \n",
            "\n",
            "2024-05-14 20:33:11 (165 MB/s) - ‘Unanswered_Questions_and_Endless_Possibilities.pdf’ saved [4016102/4016102]\n",
            "\n"
          ]
        }
      ],
      "source": [
        "!wget https://storage.googleapis.com/generativeai-downloads/data/Walking_thoughts_3.m4a\n",
        "!wget https://storage.googleapis.com/generativeai-downloads/data/A_Possible_Future_for_Online_Content.pdf\n",
        "!wget https://storage.googleapis.com/generativeai-downloads/data/Unanswered_Questions_and_Endless_Possibilities.pdf"
      ]
    },
    {
      "cell_type": "code",
      "execution_count": null,
      "metadata": {
        "id": "_HzrDdp2Q1Cu"
      },
      "outputs": [],
      "source": [
        "audio_file_name = \"Walking_thoughts_3.m4a\"\n",
        "audio_file = genai.upload_file(path=audio_file_name)"
      ]
    },
    {
      "cell_type": "markdown",
      "metadata": {
        "id": "MpAU9V3YEvXh"
      },
      "source": [
        "## 從 PDF 中提取文字\n"
      ]
    },
    {
      "cell_type": "code",
      "execution_count": null,
      "metadata": {
        "id": "NttNb-M_ExlK"
      },
      "outputs": [],
      "source": [
        "!pdftotext A_Possible_Future_for_Online_Content.pdf\n",
        "!pdftotext Unanswered_Questions_and_Endless_Possibilities.pdf"
      ]
    },
    {
      "cell_type": "code",
      "execution_count": null,
      "metadata": {
        "id": "LYA-OlD6Gw3v"
      },
      "outputs": [],
      "source": [
        "blog_file_name = \"A_Possible_Future_for_Online_Content.txt\"\n",
        "blog_file = genai.upload_file(path=blog_file_name)"
      ]
    },
    {
      "cell_type": "code",
      "execution_count": null,
      "metadata": {
        "id": "9Sf63anDG317"
      },
      "outputs": [],
      "source": [
        "blog_file_name2 = \"Unanswered_Questions_and_Endless_Possibilities.txt\"\n",
        "blog_file2 = genai.upload_file(path=blog_file_name2)"
      ]
    },
    {
      "cell_type": "markdown",
      "metadata": {
        "id": "EPPOECHzsIGJ"
      },
      "source": [
        "## 系統說明\n",
        "\n",
        "撰寫詳細的系統說明，以設定該模型。\n"
      ]
    },
    {
      "cell_type": "code",
      "execution_count": null,
      "metadata": {
        "id": "y5zh5WzwGiR5"
      },
      "outputs": [],
      "source": [
        "si=\"\"\"Objective: Transform raw thoughts and ideas into polished, engaging blog posts that capture a writers unique style and voice.\n",
        "Input:\n",
        "Example Blog Posts (1-5): A user will provide examples of blog posts that resonate with their desired style and tone. These will guide you in understanding the preferences for word choice, sentence structure, and overall voice.\n",
        "Audio Clips: A user will share a selection of brainstorming thoughts and key points through audio recordings. They will talk freely and openly, as if they were explaining their ideas to a friend.\n",
        "Output:\n",
        "Blog Post Draft: A well-structured first draft of the blog post, suitable for platforms like Substack or LinkedIn.\n",
        "The draft will include:\n",
        "Clear and engaging writing: you will strive to make the writing clear, concise, and interesting for the target audience.\n",
        "Tone and style alignment: The language and style will closely match the examples provided, ensuring consistency with the desired voice.\n",
        "Logical flow and structure: The draft will be organized with clear sections based on the content of the post.\n",
        "Target word count: Aim for 500-800 words, but this can be adjusted based on user preferences.\n",
        "Process:\n",
        "Style Analysis: Carefully analyze the example blog posts provided by the user to identify key elements of their preferred style, including:\n",
        "Vocabulary and word choice: Formal vs. informal, technical terms, slang, etc.\n",
        "Sentence structure and length: Short and impactful vs. longer and descriptive sentences.\n",
        "Tone and voice: Humorous, serious, informative, persuasive, etc.\n",
        "Audio Transcription and Comprehension: Your audio clips will be transcribed with high accuracy. you will analyze them to extract key ideas, arguments, and supporting points.\n",
        "Draft Generation: Using the insights from the audio and the style guidelines from the examples, you will generate a first draft of the blog post. This draft will include all relevant sections with supporting arguments or evidence, and a great ending that ties everything together and makes the reader want to invest in future readings.\n",
        "\"\"\""
      ]
    },
    {
      "cell_type": "markdown",
      "metadata": {
        "id": "CuEXqOnYzhM-"
      },
      "source": [
        "## 產生內容\n"
      ]
    },
    {
      "cell_type": "code",
      "execution_count": null,
      "metadata": {
        "id": "ZYVFqmLkl5nE"
      },
      "outputs": [
        {
          "name": "stdout",
          "output_type": "stream",
          "text": [
            "## The Right to Think: Reframing \"Throwaway Work\"\n",
            "\n",
            "Early in my career, I spent a lot of time working on visions, roadmaps, and ideas. Some of them never materialized, leading to large projects being scrapped or canceled. Even today, I encounter this, as do people on my team, and even entire companies! Priorities change, markets shift, there are countless reasons for it. But I remember feeling so frustrated, coming straight out of school with this ingrained idea that you're given an assignment, you do it, you get graded, and that's it.\n",
            "\n",
            "There was no concept of \"throwaway work\" in that academic setting. You were given a task, expected to produce, and then evaluated.  Entering the workforce, I struggled to reconcile this ingrained mentality with the reality that much of what I produced might not matter. Projects shifted, priorities changed, and things I poured time into could be discarded without a second thought. It felt like a monumental waste of time.\n",
            "\n",
            "It took a while to get over it, but I didn't truly appreciate the value of this \"throwaway work\" until joining my current team. We have this culture of \"right to think,\" and it suddenly changed my perspective. It wasn't simply about accepting that priorities change and work gets abandoned; it was about understanding that the act of creation, the content generated, is part of an ongoing process of improvement. \n",
            "\n",
            "This \"right to think\" mentality fosters a space where producing work, even work that might be discarded, is about honing your skills and growing. It encourages writing more, writing earlier, writing often, and writing without the pressure of creating a final product. It encourages experimentation, exploration, and iteration, knowing that the value lies in the process itself, not just the end result. \n",
            "\n",
            "This approach ties in nicely with iterative processes, \"doing by learning\", and embracing a mindset of continuous improvement. It's about reframing the idea of \"throwaway work\"  – there is no such thing in this model. Everything you produce contributes to your development, helping you hone your skills and become better over time.\n",
            "\n",
            "I now champion this \"right to think\" concept and believe it’s something we all should embrace. Reframing our perception of work – especially for those entering the workforce – to understand that every effort, even those leading to discarded projects, is part of a continuous learning journey, is crucial. It's not about wasted time, but rather time invested in growth and self-improvement. \n",
            "\n"
          ]
        }
      ],
      "source": [
        "prompt = \"Draft my next blog post based on my thoughts in this audio file and these two previous blog posts I wrote.\"\n",
        "\n",
        "model = genai.GenerativeModel(model_name=\"models/gemini-1.5-pro-latest\", system_instruction=si)\n",
        "\n",
        "response = model.generate_content([prompt, blog_file, blog_file2, audio_file],\n",
        "                                  request_options={\"timeout\": 600})\n",
        "print(response.text)"
      ]
    },
    {
      "cell_type": "markdown",
      "metadata": {
        "id": "K5oUCqb6IUnH"
      },
      "source": [
        "## 進一步瞭解\n",
        "\n",
        "* 透過 [File API](https://github.com/google-gemini/cookbook/blob/main/quickstarts/File_API.ipynb) 快速入門，進一步瞭解 File API。\n"
      ]
    }
  ],
  "metadata": {
    "colab": {
      "name": "Voice_memos.ipynb",
      "toc_visible": true
    },
    "kernelspec": {
      "display_name": "Python 3",
      "name": "python3"
    }
  },
  "nbformat": 4,
  "nbformat_minor": 0
}