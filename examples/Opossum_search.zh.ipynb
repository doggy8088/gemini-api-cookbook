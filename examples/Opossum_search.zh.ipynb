{
  "cells": [
    {
      "cell_type": "markdown",
      "metadata": {
        "id": "Tce3stUlHN0L"
      },
      "source": [
        "##### 版權所有 2024 Google LLC.\n"
      ]
    },
    {
      "cell_type": "code",
      "execution_count": null,
      "metadata": {
        "cellView": "form",
        "id": "tuOe1ymfHZPu"
      },
      "outputs": [],
      "source": [
        "# @title Licensed under the Apache License, Version 2.0 (the \"License\");\n",
        "# you may not use this file except in compliance with the License.\n",
        "# You may obtain a copy of the License at\n",
        "#\n",
        "# https://www.apache.org/licenses/LICENSE-2.0\n",
        "#\n",
        "# Unless required by applicable law or agreed to in writing, software\n",
        "# distributed under the License is distributed on an \"AS IS\" BASIS,\n",
        "# WITHOUT WARRANTIES OR CONDITIONS OF ANY KIND, either express or implied.\n",
        "# See the License for the specific language governing permissions and\n",
        "# limitations under the License."
      ]
    },
    {
      "cell_type": "markdown",
      "metadata": {
        "id": "7EtZRebrTCzD"
      },
      "source": [
        "# Opossum 查詢\n",
        "\n",
        "<table align=\"left\">\n",
        "  <td>\n",
        "    <a target=\"_blank\" href=\"https://colab.research.google.com/github/google-gemini/cookbook/blob/main/examples/Opossum_search.zh.ipynb\"><img src=\"https://www.tensorflow.org/images/colab_logo_32px.png\" />在 Google Colab 中執行</a>\n",
        "  </td>\n",
        "</table>\n"
      ]
    },
    {
      "cell_type": "markdown",
      "metadata": {
        "id": "mZsD3pqETKMV"
      },
      "source": [
        "此筆記包含使用 Gemini API 和 Gemini 1.5 Pro 產生程式碼的簡單範例。為了趣味，你可以提示模型建立一個名為「負鼠搜尋」的網頁應用程式，該應用程式會將「opossum」附加到查詢上來搜尋 Google。\n"
      ]
    },
    {
      "cell_type": "markdown",
      "metadata": {
        "id": "5kHESAVZcZQD"
      },
      "source": [
        "<img src=\"https://storage.googleapis.com/generativeai-downloads/images/opossum_search.jpg\" alt=\"An image of the opossum search web app running in a browser\" width=\"500\"/>\n",
        "\n",
        "> 上方的負鼠圖片來自於 [Wikimedia Commons](https://commons.wikimedia.org/wiki/File:Opossum_2.jpg)，並在 CC BY-SA 2.5 授權下共享。\n"
      ]
    },
    {
      "cell_type": "code",
      "execution_count": 11,
      "metadata": {
        "id": "UyZKDjRs-FN5"
      },
      "outputs": [],
      "source": [
        "!pip install -q -U google-generativeai"
      ]
    },
    {
      "cell_type": "code",
      "execution_count": 12,
      "metadata": {
        "id": "F0DZNupF-Lfj"
      },
      "outputs": [],
      "source": [
        "import google.generativeai as genai"
      ]
    },
    {
      "cell_type": "markdown",
      "metadata": {
        "id": "Dm7FFjBscek6"
      },
      "source": [
        "## 設定你的 API 金鑰\n",
        "\n",
        "要執行以下單元格，你的 API 金鑰必須儲存在名為 `GOOGLE_API_KEY` 的 Colab 密文中。如果你還沒有 API 金鑰，或者不確定如何建立 Colab 密文，請參閱 [驗證](https://github.com/google-gemini/gemini-api-cookbook/blob/main/quickstarts/Authentication.ipynb) 快速入門來查看範例。\n"
      ]
    },
    {
      "cell_type": "code",
      "execution_count": 13,
      "metadata": {
        "id": "IciW45ex-Lo9"
      },
      "outputs": [],
      "source": [
        "from google.colab import userdata\n",
        "GOOGLE_API_KEY=userdata.get('GOOGLE_API_KEY')\n",
        "genai.configure(api_key=GOOGLE_API_KEY)"
      ]
    },
    {
      "cell_type": "markdown",
      "metadata": {
        "id": "4V68II0ZeCjz"
      },
      "source": [
        "提示模型生成網頁應用程式。\n"
      ]
    },
    {
      "cell_type": "code",
      "execution_count": 14,
      "metadata": {
        "id": "mxYn5lUAfsUC"
      },
      "outputs": [],
      "source": [
        "instruction = \"\"\"You are a coding expert that specializes in creating web pages based on a user request.\n",
        "You create correct and simple code that is easy to understand.\n",
        "You implement all the functionality requested by the user.\n",
        "You ensure your code works properly, and you follow best practices for HTML programming.\"\"\""
      ]
    },
    {
      "cell_type": "code",
      "execution_count": 15,
      "metadata": {
        "id": "igrg_SxPfwQ6"
      },
      "outputs": [],
      "source": [
        "prompt = \"\"\"Create a web app called Opossum Search:\n",
        "1. Every time you make a search query, it should redirect you to a Google search\n",
        "with the same query, but with the word opossum before it.\n",
        "2. It should be visually similar to Google search.\n",
        "3. Instead of the google logo, it should have a picture of this opossum: https://upload.wikimedia.org/wikipedia/commons/thumb/2/27/Opossum_2.jpg/292px-Opossum_2.jpg.\n",
        "4. It should be a single HTML file, with no separate JS or CSS files.\n",
        "5. It should say Powered by opossum search in the footer.\n",
        "6. Do not use any unicode characters.\n",
        "Thank you!\"\"\""
      ]
    },
    {
      "cell_type": "code",
      "execution_count": 16,
      "metadata": {
        "id": "-qpqkgTurqYI"
      },
      "outputs": [
        {
          "name": "stdout",
          "output_type": "stream",
          "text": [
            "```html\n",
            "<!DOCTYPE html>\n",
            "<html lang=\"en\">\n",
            "<head>\n",
            "    <meta charset=\"UTF-8\">\n",
            "    <meta name=\"viewport\" content=\"width=device-width, initial-scale=1.0\">\n",
            "    <title>Opossum Search</title>\n",
            "    <style>\n",
            "        body {\n",
            "            font-family: Arial, sans-serif;\n",
            "            margin: 0;\n",
            "            padding: 0;\n",
            "        }\n",
            "        header {\n",
            "            display: flex;\n",
            "            justify-content: center;\n",
            "            align-items: center;\n",
            "            padding: 20px;\n",
            "        }\n",
            "        header img {\n",
            "            width: 272px;\n",
            "            height: auto;\n",
            "        }\n",
            "        form {\n",
            "            display: flex;\n",
            "            justify-content: center;\n",
            "            margin-top: 30px;\n",
            "        }\n",
            "        input[type=\"text\"] {\n",
            "            padding: 10px;\n",
            "            font-size: 16px;\n",
            "            border: 1px solid #ccc;\n",
            "            width: 500px;\n",
            "        }\n",
            "        input[type=\"submit\"] {\n",
            "            padding: 10px 20px;\n",
            "            background-color: #f8f9fa;\n",
            "            border: 1px solid #ccc;\n",
            "            cursor: pointer;\n",
            "        }\n",
            "        footer {\n",
            "            position: fixed;\n",
            "            bottom: 0;\n",
            "            width: 100%;\n",
            "            text-align: center;\n",
            "            padding: 10px;\n",
            "            background-color: #f8f9fa;\n",
            "            font-size: 12px;\n",
            "        }\n",
            "    </style>\n",
            "</head>\n",
            "<body>\n",
            "    <header>\n",
            "        <img src=\"https://upload.wikimedia.org/wikipedia/commons/thumb/2/27/Opossum_2.jpg/292px-Opossum_2.jpg\" alt=\"Opossum Logo\">\n",
            "    </header>\n",
            "    <form action=\"https://www.google.com/search\" method=\"get\">\n",
            "        <input type=\"text\" name=\"q\" placeholder=\"Search with Opossum...\">\n",
            "        <input type=\"submit\" value=\"Search\">\n",
            "    </form>\n",
            "    <footer>Powered by opossum search</footer>\n",
            "    <script>\n",
            "        const form = document.querySelector('form');\n",
            "        form.addEventListener('submit', function(event) {\n",
            "            event.preventDefault();\n",
            "            const query = document.querySelector('input[name=\"q\"]').value;\n",
            "            const newURL = `https://www.google.com/search?q=opossum ${query}`;\n",
            "            window.location.href = newURL;\n",
            "        });\n",
            "    </script>\n",
            "</body>\n",
            "</html>\n",
            "``` \n",
            "\n"
          ]
        }
      ],
      "source": [
        "model = genai.GenerativeModel(\"gemini-1.5-pro-latest\", system_instruction=instruction)\n",
        "response = model.generate_content(prompt)\n",
        "print(response.text)"
      ]
    },
    {
      "cell_type": "markdown",
      "metadata": {
        "id": "Im4fvOK5S3-A"
      },
      "source": [
        "## 執行輸出至本地端\n",
        "\n",
        "你可以按照以下方式啟動網路伺服器。\n",
        "\n",
        "* 將 HTML 輸出儲存至 名稱為 `search.html` 的檔案\n",
        "* 在你的終端機執行 `python3 -m http.server 8000`\n",
        "* 開啟你的網路瀏覽器，並將其指向 `http://localhost:8000/search.html`\n"
      ]
    },
    {
      "cell_type": "markdown",
      "metadata": {
        "id": "_wcKnJKIuBQg"
      },
      "source": [
        "## 在 IPython 中顯示輸出\n",
        "\n",
        "像所有 LLM 一樣，輸出並非總是正確的。你可以透過重新執行提示，或撰寫更進階的提示 (以及/或更好的系統指令)，來進行實驗。盡情享受！\n"
      ]
    },
    {
      "cell_type": "code",
      "execution_count": null,
      "metadata": {
        "id": "M6FS75_bi5kP"
      },
      "outputs": [],
      "source": [
        "import IPython\n",
        "code = response.text.split('```')[1][len('html'):]\n",
        "IPython.display.HTML(code)"
      ]
    }
  ],
  "metadata": {
    "colab": {
      "name": "Opossum_search.ipynb",
      "toc_visible": true
    },
    "kernelspec": {
      "display_name": "Python 3",
      "name": "python3"
    }
  },
  "nbformat": 4,
  "nbformat_minor": 0
}