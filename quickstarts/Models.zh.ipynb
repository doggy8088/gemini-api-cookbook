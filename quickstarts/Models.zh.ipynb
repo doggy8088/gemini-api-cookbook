{
  "cells": [
    {
      "cell_type": "markdown",
      "metadata": {
        "id": "Tce3stUlHN0L"
      },
      "source": [
        "##### 版權所有 2024 Google LLC.\n"
      ]
    },
    {
      "cell_type": "code",
      "execution_count": null,
      "metadata": {
        "cellView": "form",
        "id": "tuOe1ymfHZPu"
      },
      "outputs": [],
      "source": [
        "# @title Licensed under the Apache License, Version 2.0 (the \"License\");\n",
        "# you may not use this file except in compliance with the License.\n",
        "# You may obtain a copy of the License at\n",
        "#\n",
        "# https://www.apache.org/licenses/LICENSE-2.0\n",
        "#\n",
        "# Unless required by applicable law or agreed to in writing, software\n",
        "# distributed under the License is distributed on an \"AS IS\" BASIS,\n",
        "# WITHOUT WARRANTIES OR CONDITIONS OF ANY KIND, either express or implied.\n",
        "# See the License for the specific language governing permissions and\n",
        "# limitations under the License."
      ]
    },
    {
      "cell_type": "markdown",
      "metadata": {
        "id": "L5Lv3UtGCFH4"
      },
      "source": [
        "# Gemini API：列出模型\n"
      ]
    },
    {
      "cell_type": "markdown",
      "metadata": {
        "id": "nAJ9EGE2SoXm"
      },
      "source": [
        "<table align=\"left\">\n",
        "  <td>\n",
        "    <a target=\"_blank\" href=\"https://colab.research.google.com/github/doggy8088/gemini-api-cookbook/blob/zh-tw/quickstarts/Models.zh.ipynb\"><img src=\"https://www.tensorflow.org/images/colab_logo_32px.png\" />在 Google Colab 上執行</a>\n",
        "  </td>\n",
        "</table>\n"
      ]
    },
    {
      "cell_type": "markdown",
      "metadata": {
        "id": "Gh9D-DvWSuqq"
      },
      "source": [
        "此筆記本展示了如何在 Gemini API 中列示可供你使用的模型，以及如何找出模型的詳細資訊。\n"
      ]
    },
    {
      "cell_type": "code",
      "execution_count": null,
      "metadata": {
        "id": "i755jXzS5kLN"
      },
      "outputs": [],
      "source": [
        "!pip install -U -q google-generativeai"
      ]
    },
    {
      "cell_type": "code",
      "execution_count": null,
      "metadata": {
        "id": "49H9jQPO_TJ9"
      },
      "outputs": [],
      "source": [
        "import google.generativeai as genai"
      ]
    },
    {
      "cell_type": "markdown",
      "metadata": {
        "id": "4ol10W6Q_Y-s"
      },
      "source": [
        "## 設定你的 API 金鑰\n",
        "\n",
        "如需執行下列Cell，你的 API 金鑰必須儲存在名為 `GOOGLE_API_KEY` 的 Colab 密碼中。如果你尚未擁有 API 金鑰，或者你不確定如何建立 Colab 密碼，請參閱 [驗證](https://github.com/doggy8088/gemini-api-cookbook/blob/zh-tw/quickstarts/Authentication.zh.ipynb) 以取得範例。\n"
      ]
    },
    {
      "cell_type": "code",
      "execution_count": null,
      "metadata": {
        "id": "8PXsFZBQ_XA5"
      },
      "outputs": [],
      "source": [
        "from google.colab import userdata\n",
        "\n",
        "GOOGLE_API_KEY = userdata.get(\"GOOGLE_API_KEY\")\n",
        "genai.configure(api_key=GOOGLE_API_KEY)"
      ]
    },
    {
      "cell_type": "markdown",
      "metadata": {
        "id": "3Al4lFhNB22n"
      },
      "source": [
        "## 預覽範例\n",
        "\n",
        "使用 `list_models () ` 瞭解目前有哪些範例可用。這些範例支援 `generateContent`，這是提示的主要使用手法。\n"
      ]
    },
    {
      "cell_type": "code",
      "execution_count": null,
      "metadata": {
        "id": "3wE76b_gBn2k"
      },
      "outputs": [],
      "source": [
        "for m in genai.list_models():\n",
        "    if \"generateContent\" in m.supported_generation_methods:\n",
        "        print(m.name)"
      ]
    },
    {
      "cell_type": "markdown",
      "metadata": {
        "id": "tlguLt1yKET9"
      },
      "source": [
        "這些模型支援用於嵌入的 `embedContent`：\n"
      ]
    },
    {
      "cell_type": "code",
      "execution_count": null,
      "metadata": {
        "id": "lQmlIpr5JHqz"
      },
      "outputs": [],
      "source": [
        "for m in genai.list_models():\n",
        "    if \"embedContent\" in m.supported_generation_methods:\n",
        "        print(m.name)"
      ]
    },
    {
      "cell_type": "markdown",
      "metadata": {
        "id": "nFJAyDD9QVrC"
      },
      "source": [
        "## 查找有關模型的詳細資訊\n",
        "\n",
        "你可以在以下位置看到更多有關模型的詳細資訊，包括 `input_token_limit` 和 `output_token_limit`。\n"
      ]
    },
    {
      "cell_type": "code",
      "execution_count": null,
      "metadata": {
        "id": "BYYxVE4ZnoGy"
      },
      "outputs": [],
      "source": [
        "for m in genai.list_models():\n",
        "    if m.name == \"models/gemini-1.5-pro-latest\":\n",
        "        print(m)"
      ]
    },
    {
      "cell_type": "markdown",
      "metadata": {
        "id": "00a56cb21953"
      },
      "source": [
        "## 取得模型\n",
        "\n",
        "使用 `get_model()` 來擷取模型的特定詳細資料。你可以使用 `list_models()` 來遍歷所有可用的模型，但如果你已知道模型名稱，則可以使用 `get_model()` 來直接擷取模型。\n"
      ]
    },
    {
      "cell_type": "code",
      "execution_count": null,
      "metadata": {
        "id": "6786759016dc"
      },
      "outputs": [],
      "source": [
        "model_info = genai.get_model(\"models/aqa\")\n",
        "print(model_info)"
      ]
    },
    {
      "cell_type": "markdown",
      "metadata": {
        "id": "Tq7i5FAwCe1v"
      },
      "source": [
        "## 深入學習\n",
        "\n",
        "* 如要了解如何將模型應用於提示中，請參閱 [提示](https://github.com/doggy8088/gemini-api-cookbook/blob/zh-tw/quickstarts/Prompting.zh.ipynb) 快速入門。\n",
        "\n",
        "* 如要了解如何將模型應用於嵌入中，請參閱 [嵌入](https://github.com/doggy8088/gemini-api-cookbook/blob/zh-tw/quickstarts/Embeddings.zh.ipynb) 快速入門。\n",
        "\n",
        "* 如要深入了解模型，請參閱 [Gemini 模型](https://ai.google.dev/models/gemini) 說明文件。\n"
      ]
    }
  ],
  "metadata": {
    "colab": {
      "name": "Models.zh.ipynb",
      "toc_visible": true
    },
    "kernelspec": {
      "display_name": "Python 3",
      "name": "python3"
    }
  },
  "nbformat": 4,
  "nbformat_minor": 0
}