{
  "cells": [
    {
      "cell_type": "markdown",
      "metadata": {
        "id": "Tce3stUlHN0L"
      },
      "source": [
        "##### 版權所有 2024 Google LLC.\n"
      ]
    },
    {
      "cell_type": "code",
      "execution_count": null,
      "metadata": {
        "cellView": "form",
        "id": "tuOe1ymfHZPu"
      },
      "outputs": [],
      "source": [
        "# @title Licensed under the Apache License, Version 2.0 (the \"License\");\n",
        "# you may not use this file except in compliance with the License.\n",
        "# You may obtain a copy of the License at\n",
        "#\n",
        "# https://www.apache.org/licenses/LICENSE-2.0\n",
        "#\n",
        "# Unless required by applicable law or agreed to in writing, software\n",
        "# distributed under the License is distributed on an \"AS IS\" BASIS,\n",
        "# WITHOUT WARRANTIES OR CONDITIONS OF ANY KIND, either express or implied.\n",
        "# See the License for the specific language governing permissions and\n",
        "# limitations under the License."
      ]
    },
    {
      "cell_type": "markdown",
      "metadata": {
        "id": "yeadDkMiISin"
      },
      "source": [
        "# Gemini API: OAuth 快速入門\n"
      ]
    },
    {
      "cell_type": "markdown",
      "metadata": {
        "id": "lEXQ3OwKIa-O"
      },
      "source": [
        "<table class=\"tfo-notebook-buttons\" align=\"left\">\n",
        "  <td>\n",
        "    <a target=\"_blank\" href=\"https://colab.research.google.com/github/doggy8088/gemini-api-cookbook/blob/zh-tw/quickstarts/Authentication_with_OAuth.zh.ipynb\"><img src=\"https://www.tensorflow.org/images/colab_logo_32px.png\" />在 Google Colab 中執行</a>\n",
        "  </td>\n",
        "</table>\n"
      ]
    },
    {
      "cell_type": "markdown",
      "metadata": {
        "id": "df1767a3d1cc"
      },
      "source": [
        "Gemini API 的某些部分，例如模型微調和語義檢索，使用 OAuth 進行驗證。\n",
        "\n",
        "如果你是初學者，你應該從使用 [API 金鑰](https://github.com/google-gemini/cookbook/blob/main/quickstarts/Authentication.ipynb) 開始，並僅在需要這些功能時再回到此 OAuth 指南。\n",
        "\n",
        "為了幫助你開始使用 OAuth，此筆記本展示了一種簡化的方式，適用於測試環境。\n",
        "\n",
        "對於生產環境，在 [選擇適合你應用程式之存取資格證](https://developers.google.com/workspace/guides/create-credentials#choose_the_access_credential_that_is_right_for_you) 前，了解有關 [驗證和授信](https://developers.google.com/workspace/guides/auth-overview) 的資訊。\n"
      ]
    },
    {
      "cell_type": "markdown",
      "metadata": {
        "id": "GUZ1vR5VHhkH"
      },
      "source": [
        "## 執行條件\n",
        "\n",
        "若要運行這個快速入門，你需要：\n",
        "\n",
        "*   安裝在本地端的 [Google Cloud CLI](https://cloud.google.com/sdk/docs/install-sdk) 。\n",
        "*   [Google Cloud 專案](https://developers.google.com/workspace/guides/create-project) 。\n",
        "\n",
        "如果你在 Google AI Studio 中建立了 API 金鑰，則會為你建立 Google Cloud 專案。前往 [Google AI Studio](https://aistudio.google.com/app/apikey) 並記錄下 Google Cloud 專案名稱以使用該專案。\n"
      ]
    },
    {
      "cell_type": "markdown",
      "metadata": {
        "id": "6F4DgkaWH8HW"
      },
      "source": [
        "## 設定你的 Cloud 專案\n",
        "\n",
        "若要完成這份快速入門指南，你需要先設定 Cloud 專案。\n",
        "\n",
        "### 1. 啟用 API\n",
        "\n",
        "在使用 Google API 之前，你需要在 Google Cloud 專案中啟用它們。\n",
        "\n",
        "* 在 Google Cloud 主控台，[啟用](https://console.cloud.google.com/flows/enableapi?apiid=generativelanguage.googleapis.com) Google Generative Language API。如果你已在 AI 工作坊中建立 API 金鑰，則已為你完成這項工作。\n",
        "\n",
        "### 2. 設定 OAuth 同意畫面\n",
        "\n",
        "接著設定專案的 OAuth 同意畫面，並將你自己新增為測試使用者。如果你已為 Cloud 專案完成這項步驟，請跳到下一個章節。\n",
        "\n",
        "1. 在 Google Cloud 主控台，前往 [OAuth 同意畫面](https://console.cloud.google.com/apis/credentials/consent)，可在 **功能表** > **API 和服務** > **OAuth 同意畫面** 中找到它。\n",
        "\n",
        "2. 為應用程式選取 **外部** 使用者類型，然後按一下 **建立** 。\n",
        "\n",
        "3. 填寫應用程式註冊表 (你可以將大部分欄位留空)，然後按一下 **儲存並繼續** 。\n",
        "\n",
        "4. 目前你可以跳過新增範圍並按一下 **儲存並繼續** 。日後，當你為在 Google Workspace 組織外部使用的應用程式建立應用程式時，必須新增並驗證應用程式所需的授權範圍。\n",
        "\n",
        "5. 新增測試使用者：\n",
        "    1. 在 **測試使用者** 下，按一下 **新增使用者** 。\n",
        "    2. 輸入你的電子郵件地址和任何其他已授權測試使用者，然後按一下 **儲存並繼續** 。\n",
        "\n",
        "6. 檢閱你的應用程式註冊摘要。要進行變更，請按一下 **編輯** 。如果應用程式註冊看起來沒問題，請按一下 **返回儀表板** 。\n",
        "\n",
        "### 3. 授權桌面應用程式的憑證\n",
        "\n",
        "若要進行驗證並在應用程式中存取使用者資料，你需要建立一個或多個 OAuth 2.0 用戶端 ID。用戶端 ID 用於向 Google 的 OAuth 伺服器識別單一應用程式。如果應用程式在多個平台上執行，你必須為每個平台建立個別的用戶端 ID。\n",
        "\n",
        "1. 在 Google Cloud 主控台，前往 [憑證](https://console.cloud.google.com/apis/credentials/consent)，可在 **功能表** > **API 和服務** > **憑證** 中找到它。\n",
        "\n",
        "2. 按一下 **建立憑證** > **OAuth 用戶端 ID** 。\n",
        "3. 按一下 **應用程式類型** > **桌面應用程式** 。\n",
        "4. 在 **名稱** 欄位中，為憑證輸入名稱。這個名稱只會顯示在 Google Cloud 主控台。\n",
        "5. 按一下 **建立** 。將出現已建立的 OAuth 用戶端畫面，顯示你的新用戶端 ID 和用戶端密碼。\n",
        "6. 按一下 **確定** 。新建立的憑證會顯示在 **OAuth 2.0 用戶端 ID** 下。\n",
        "7. 按一下下載按鈕儲存 JSON 檔案。它會儲存為 `client_secret_<識別碼>.json`。\n"
      ]
    },
    {
      "cell_type": "markdown",
      "metadata": {
        "id": "kfSJNy1sS9NO"
      },
      "source": [
        "## 設定應用程式預設憑證\n",
        "\n",
        "在此快速入門中，你將使用 [應用程式預設憑證](https://cloud.google.com/docs/authentication/application-default-credentials) 進行驗證。\n"
      ]
    },
    {
      "cell_type": "markdown",
      "metadata": {
        "id": "dEoigYI9Jw_K"
      },
      "source": [
        "### 將客戶端金鑰加入 Colab 金鑰\n",
        "\n",
        "如果你需要在 Google Colab 中頻繁使用 OAuth 和 Gemini API，建議你將 `client_secret.json` 檔案的內容新增到 Colab 的 Secrets 管理員。\n",
        "\n",
        "1. 開啟你的 Google Colab 筆記本，並在左側面板中按一下 🔑 **Secrets** 標籤。\n",
        "2. 輸入名稱`CLIENT_SECRET`，建立新的金鑰。\n",
        "3. 在文字編輯器中開啟 `client_secret.json` 檔案，並將內容複製/貼上到 `CLIENT_SECRET` 的`Value` 輸入欄位中。\n",
        "4. 切換左側的按鈕，以允許筆記本取得金鑰存取權。\n",
        "\n",
        "現在，你可以程式化建立檔案，而不是每次都上傳。當你允許存取後，客戶端金鑰也會在所有 Google Colab 筆記本中提供。\n"
      ]
    },
    {
      "cell_type": "code",
      "execution_count": null,
      "metadata": {
        "id": "uRg4GMDQLPKl"
      },
      "outputs": [
        {
          "data": {
            "text/plain": [
              "413"
            ]
          },
          "execution_count": 1,
          "metadata": {},
          "output_type": "execute_result"
        }
      ],
      "source": [
        "from google.colab import userdata\n",
        "import pathlib\n",
        "pathlib.Path('client_secret.json').write_text(userdata.get('CLIENT_SECRET'))"
      ]
    },
    {
      "cell_type": "markdown",
      "metadata": {
        "id": "RQrh0ol3Oldc"
      },
      "source": [
        "### 設定應用程式預設憑證\n",
        "\n",
        "要將 `client_secret.json` 檔案轉換成可用的憑證，請將其位置傳遞給 `gcloud auth application-default login` 指令的 `--client-id-file` 引數。\n",
        "\n",
        "本教學課程中簡化的專案設定會觸發 **Google 尚未驗證這個應用程式** 對話方塊。這是正常的，請選擇 **繼續** 。\n",
        "\n",
        "對於每一個新的 Google Colab 筆記本或執行階段，你都需要執行這個步驟一次。\n",
        "\n",
        "**注意：** 仔細遵循下列指令列印的指示 (不要只按一下連結)。還要確保你本地的 `gcloud --version` 是 [最新版本](https://cloud.google.com/sdk/docs/release-notes)，以符合 Google Colab 預先安裝的版本。\n"
      ]
    },
    {
      "cell_type": "code",
      "execution_count": null,
      "metadata": {
        "id": "j0dBkV0QOonL"
      },
      "outputs": [],
      "source": [
        "!gcloud auth application-default login \\\n",
        "  --no-browser --client-id-file client_secret.json \\\n",
        "  --scopes https://www.googleapis.com/auth/cloud-platform,https://www.googleapis.com/auth/generative-language.tuning,https://www.googleapis.com/auth/generative-language.retriever\n"
      ]
    },
    {
      "cell_type": "markdown",
      "metadata": {
        "id": "TWTBztxTRYb5"
      },
      "source": [
        "你需要的特定 `scopes` 取決於你使用的 API。例如，查看 [`tunedModels.create`](https://ai.google.dev/api/rest/v1beta/tunedModels/create#authorization-scopes) 的 API 參考，你將看到：\n",
        "\n",
        "> 需要以下其中一個 OAuth 範圍：\n",
        ">\n",
        "> * `https://www.googleapis.com/auth/generative-language.tuning`\n",
        "\n",
        "此範例要求所有調整和語意檢索範圍，但最佳做法是使用最小的範圍集以確保安全性並提升使用者信心。\n"
      ]
    },
    {
      "cell_type": "markdown",
      "metadata": {
        "id": "FFPBKLapSCkM"
      },
      "source": [
        "## 使用帶有 OAuth 的 Python SDK\n",
        "\n",
        "Python SDK 將會自動查找並使用應用程式的預設憑據。\n"
      ]
    },
    {
      "cell_type": "code",
      "execution_count": null,
      "metadata": {
        "id": "9OEoeosRTv-5"
      },
      "outputs": [
        {
          "name": "stdout",
          "output_type": "stream",
          "text": [
            "\u001b[?25l     \u001b[90m━━━━━━━━━━━━━━━━━━━━━━━━━━━━━━━━━━━━━━━━\u001b[0m \u001b[32m0.0/137.4 kB\u001b[0m \u001b[31m?\u001b[0m eta \u001b[36m-:--:--\u001b[0m\r",
            "\u001b[2K     \u001b[91m━━━━━━━━━━━━━━━━━━━━━━━━━━━━━━━━━━━━━━\u001b[0m\u001b[91m╸\u001b[0m\u001b[90m━\u001b[0m \u001b[32m133.1/137.4 kB\u001b[0m \u001b[31m3.8 MB/s\u001b[0m eta \u001b[36m0:00:01\u001b[0m\r",
            "\u001b[2K     \u001b[90m━━━━━━━━━━━━━━━━━━━━━━━━━━━━━━━━━━━━━━━━\u001b[0m \u001b[32m137.4/137.4 kB\u001b[0m \u001b[31m2.7 MB/s\u001b[0m eta \u001b[36m0:00:00\u001b[0m\n",
            "\u001b[?25h"
          ]
        }
      ],
      "source": [
        "!pip install -U -q google-generativeai"
      ]
    },
    {
      "cell_type": "markdown",
      "metadata": {
        "id": "r8GgGmTrUCR2"
      },
      "source": [
        "讓我們做一個快速測試。請注意，你沒有使用 `genai.configure()` 設定 API 金鑰！\n"
      ]
    },
    {
      "cell_type": "code",
      "execution_count": null,
      "metadata": {
        "id": "TS9l5igubpHO"
      },
      "outputs": [],
      "source": [
        "import google.generativeai as genai\n",
        "\n",
        "print('Available base models:', [m.name for m in genai.list_models()])"
      ]
    },
    {
      "cell_type": "markdown",
      "metadata": {
        "id": "dzSRvbxnUmLo"
      },
      "source": [
        "# 附錄\n"
      ]
    },
    {
      "cell_type": "markdown",
      "metadata": {
        "id": "arP-ISIBUrdv"
      },
      "source": [
        "## 從 Colab 進行經過驗證的 REST 呼叫\n",
        "\n",
        "通常，建議在可行時使用 Python SDK 與 Gemini API 互動。此範例說明如何從 Python 進行 OAuth 經過驗證的 REST 呼叫，以進行偵錯或測試。假設你已從快速入門設定應用程式預設認證資訊。\n"
      ]
    },
    {
      "cell_type": "code",
      "execution_count": null,
      "metadata": {
        "id": "6V_vD8A2Wm28"
      },
      "outputs": [],
      "source": [
        "import requests\n",
        "\n",
        "access_token = !gcloud auth application-default print-access-token\n",
        "\n",
        "headers = {\n",
        "    'Content-Type': 'application/json',\n",
        "    'Authorization': f'Bearer {access_token[0]}',\n",
        "}\n",
        "\n",
        "response = requests.get('https://generativelanguage.googleapis.com/v1/models', headers=headers)\n",
        "response_json = response.json()\n",
        "\n",
        "# All the model names\n",
        "for model in response_json['models']:\n",
        "    print(model['name'])"
      ]
    },
    {
      "cell_type": "markdown",
      "metadata": {
        "id": "lisiHaB8Wwi9"
      },
      "source": [
        "### 分享調整過的模型\n",
        "\n",
        "某些 Beta 版 API 功能可能尚不受 Python SDK 支援。此範例說明如何從 Python 執行 REST 呼叫，以加入調整過的模型權限。\n"
      ]
    },
    {
      "cell_type": "code",
      "execution_count": null,
      "metadata": {
        "id": "ijMDsUj5o6RL"
      },
      "outputs": [],
      "source": [
        "import requests\n",
        "\n",
        "model_name = ''   # @param {type:\"string\"}\n",
        "emailAddress = '' # @param {type:\"string\"}\n",
        "\n",
        "\n",
        "access_token = !gcloud auth application-default print-access-token\n",
        "\n",
        "headers = {\n",
        "    'Content-Type': 'application/json',\n",
        "    'Authorization': f'Bearer {access_token[0]}',\n",
        "}\n",
        "\n",
        "body = {\n",
        "  'granteeType': 'USER',        # Or 'GROUP' or 'EVERYONE' https://ai.google.dev/api/rest/v1beta/tunedModels.permissions\n",
        "  'emailAddress': emailAddress, # Optional if 'granteeType': 'EVERYONE'\n",
        "  'role': 'READER'\n",
        "}\n",
        "\n",
        "response = requests.post(f'https://generativelanguage.googleapis.com/v1beta/tunedModels/{model_name}/permissions', json=body, headers=headers)\n",
        "print(response.json())\n"
      ]
    },
    {
      "cell_type": "markdown",
      "metadata": {
        "id": "HnKP_dX_Wnr7"
      },
      "source": [
        "## 使用服務帳戶進行身份驗證\n",
        "\n",
        "Google Cloud [服務帳戶](https://cloud.google.com/iam/docs/service-account-overview) 是不代表人類用戶的帳戶。當人類沒有直接參與其中時，它們提供了一種管理驗證和授權的方式，例如你的應用程式呼叫 Gemini API 來完成使用者要求，但未驗證身分為使用者。使用服務帳戶對 Gemini API 進行驗證的一個簡單方法是使用 [服務帳戶金鑰](https://cloud.google.com/docs/authentication/provide-credentials-adc#local-key)。\n",
        "\n",
        "本指南簡要說明如何在 Google Colab 中使用服務帳戶金鑰。\n",
        "\n",
        "**重要事項：** 服務帳戶金鑰可能是安全風險！如需更多資訊，請參閱 [管理服務帳戶金鑰的最佳實務](https://cloud.google.com/iam/docs/best-practices-for-managing-service-account-keys)。\n",
        "\n",
        "### 1. 建立服務帳戶\n",
        "\n",
        "按照說明建立 [服務帳戶](https://cloud.google.com/iam/docs/service-accounts-create#creating)。如果你手動執行此操作，**主控台** 說明是最簡單的。\n",
        "\n",
        "### 2. 建立服務帳戶金鑰\n",
        "\n",
        "按照說明建立 [服務帳戶金鑰](https://cloud.google.com/iam/docs/keys-create-delete#creating)。請注意已下載金鑰的名稱。\n",
        "\n",
        "### 3. 將服務帳戶金鑰新增到 Colab\n",
        "\n",
        " 1. 開啟你的 Google Colab 筆記本，然後按一下左側面板中的 🔑 **機密** 標籤。\n",
        " 2. 建立一個名稱為 `SERVICE_ACCOUNT_KEY` 的新機密。\n",
        " 3. 在文字編輯器中開啟服務帳戶金鑰檔案，然後將內容複製/貼到 `SERVICE_ACCOUNT_KEY` 的 `值` 輸入方塊中。 \n",
        " 4. 打開左側的按鈕，讓筆記本可以存取機密。\n",
        "\n",
        "### 4. 使用服務帳戶金鑰對 Python SDK 進行身份驗證\n"
      ]
    },
    {
      "cell_type": "code",
      "execution_count": null,
      "metadata": {
        "id": "f62ztB6mkRk5"
      },
      "outputs": [],
      "source": [
        "import google.generativeai as genai\n",
        "import pathlib\n",
        "from google.colab import userdata\n",
        "from google.oauth2 import service_account\n",
        "\n",
        "pathlib.Path('service_account_key.json').write_text(userdata.get('SERVICE_ACCOUNT_KEY'))\n",
        "\n",
        "credentials = service_account.Credentials.from_service_account_file('service_account_key.json')\n",
        "\n",
        "# Adjust scopes as needed\n",
        "scoped_credentials = credentials.with_scopes(\n",
        "    ['https://www.googleapis.com/auth/cloud-platform', 'https://www.googleapis.com/auth/generative-language.retriever'])\n",
        "\n",
        "genai.configure(credentials=scoped_credentials)\n",
        "\n",
        "print('Available base models:', [m.name for m in genai.list_models()])"
      ]
    }
  ],
  "metadata": {
    "colab": {
      "name": "Authentication_with_OAuth.ipynb",
      "toc_visible": true
    },
    "google": {
      "image_path": "/site-assets/images/share.png",
      "keywords": [
        "examples",
        "googleai",
        "samplecode",
        "python",
        "embed",
        "function"
      ]
    },
    "kernelspec": {
      "display_name": "Python 3",
      "name": "python3"
    }
  },
  "nbformat": 4,
  "nbformat_minor": 0
}