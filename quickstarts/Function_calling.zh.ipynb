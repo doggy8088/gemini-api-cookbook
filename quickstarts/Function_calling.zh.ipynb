{
  "cells": [
    {
      "cell_type": "markdown",
      "metadata": {
        "id": "yeadDkMiISin"
      },
      "source": [
        "# Gemini API: 使用 Python 呼叫函式\n"
      ]
    },
    {
      "cell_type": "markdown",
      "metadata": {
        "id": "lEXQ3OwKIa-O"
      },
      "source": [
        "<table align=\"left\">\n",
        "  <td>\n",
        "    <a target=\"_blank\" href=\"https://colab.research.google.com/github/google-gemini/gemini-api-cookbook/blob/main/quickstarts/Function_calling.zh.ipynb\"><img src=\"https://www.tensorflow.org/images/colab_logo_32px.png\" />在 Google Colab 中執行</a>\n",
        "  </td>\n",
        "</table>\n"
      ]
    },
    {
      "cell_type": "markdown",
      "metadata": {
        "id": "df1767a3d1cc"
      },
      "source": [
        "函式呼叫讓開發人員可以針對其程式碼中的函式建立描述，然後在要求中傳遞該描述給語言模型。模型產生的回應包含與描述相符的函式名稱和呼叫此函式所需的自變數。函式呼叫讓開發者可以使用函式當作生成式AI應用程式的工具，而且可以在單一要求中定義多個函式。\n",
        "\n",
        "本筆記本提供程式碼範例以協助你開始使用。\n"
      ]
    },
    {
      "cell_type": "code",
      "execution_count": null,
      "metadata": {
        "id": "9OEoeosRTv-5"
      },
      "outputs": [
        {
          "name": "stdout",
          "output_type": "stream",
          "text": [
            "\u001b[2K     \u001b[90m━━━━━━━━━━━━━━━━━━━━━━━━━━━━━━━━━━━━━━━━\u001b[0m \u001b[32m137.4/137.4 kB\u001b[0m \u001b[31m933.2 kB/s\u001b[0m eta \u001b[36m0:00:00\u001b[0m\n",
            "\u001b[?25h"
          ]
        }
      ],
      "source": [
        "!pip install -U -q google-generativeai # Install the Python SDK"
      ]
    },
    {
      "cell_type": "code",
      "execution_count": null,
      "metadata": {
        "id": "TS9l5igubpHO"
      },
      "outputs": [],
      "source": [
        "import google.generativeai as genai"
      ]
    },
    {
      "cell_type": "markdown",
      "metadata": {
        "id": "x-hHZfLZ7FfH"
      },
      "source": [
        "## 建立你的 API 金鑰\n",
        "\n",
        "要執行以下Cell，你的 API 金鑰必須儲存在名為 `GOOGLE_API_KEY` 的 Colab 密碼中。如果你還沒有 API 金鑰，或不確定如何建立 Colab 密碼，請參閱 [驗證](https://github.com/google-gemini/gemini-api-cookbook/blob/main/quickstarts/Authentication.ipynb) Quickstart 作為範例。\n"
      ]
    },
    {
      "cell_type": "code",
      "execution_count": null,
      "metadata": {
        "id": "ab9ASynfcIZn"
      },
      "outputs": [],
      "source": [
        "from google.colab import userdata\n",
        "GOOGLE_API_KEY=userdata.get('GOOGLE_API_KEY')\n",
        "genai.configure(api_key=GOOGLE_API_KEY)"
      ]
    },
    {
      "cell_type": "markdown",
      "metadata": {
        "id": "3f383614ec30"
      },
      "source": [
        "## 函式呼叫基礎\n"
      ]
    },
    {
      "cell_type": "markdown",
      "metadata": {
        "id": "b82c1aecb657"
      },
      "source": [
        "要使用函式呼叫，在建立 [`GenerativeModel`](https://ai.google.dev/api/python/google/generativeai/GenerativeModel) 時，將函式清單傳遞給 `tools` 參數。模型會使用函式名稱、Docstring、參數以及參數類型註解來判定是否需要函式以最佳的方式回答提示。\n",
        "\n",
        "> 重要事項：SDK 會將函式參數類型註解轉換成 API 所了解的格式 (`glm.FunctionDeclaration`)。API 只支援有限制的參數類型選項，而 Python SDK 的自動轉換只支援以下部分子集：`AllowedTypes = int | float | bool | str | list['AllowedTypes'] | dict`\n"
      ]
    },
    {
      "cell_type": "code",
      "execution_count": null,
      "metadata": {
        "id": "42b27b02d2f5"
      },
      "outputs": [
        {
          "data": {
            "text/plain": [
              "genai.GenerativeModel(\n",
              "    model_name='models/gemini-1.0-pro',\n",
              "    generation_config={},\n",
              "    safety_settings={},\n",
              "    tools=<google.generativeai.types.content_types.FunctionLibrary object at 0x7a99071b61d0>,\n",
              ")"
            ]
          },
          "execution_count": 5,
          "metadata": {},
          "output_type": "execute_result"
        }
      ],
      "source": [
        "def add(a:float, b:float):\n",
        "    \"\"\"returns a + b.\"\"\"\n",
        "    return a+b\n",
        "\n",
        "def subtract(a:float, b:float):\n",
        "    \"\"\"returns a - b.\"\"\"\n",
        "    return a-b\n",
        "\n",
        "def multiply(a:float, b:float):\n",
        "    \"\"\"returns a * b.\"\"\"\n",
        "    return a*b\n",
        "\n",
        "def divide(a:float, b:float):\n",
        "    \"\"\"returns a / b.\"\"\"\n",
        "    return a*b\n",
        "\n",
        "model = genai.GenerativeModel(model_name='gemini-1.0-pro',\n",
        "                              tools=[add, subtract, multiply, divide])\n",
        "\n",
        "model"
      ]
    },
    {
      "cell_type": "markdown",
      "metadata": {
        "id": "UzUgtaY99BTg"
      },
      "source": [
        "## 自動函式呼叫\n"
      ]
    },
    {
      "cell_type": "markdown",
      "metadata": {
        "id": "d5fd91032a1e"
      },
      "source": [
        "功能呼叫會自然融入 [多輪對話](https://ai.google.dev/api/python/google/generativeai/GenerativeModel#multi-turn) 中，因為它們捕捉使用者和模型之間的來回互動。Python SDK 的 [`ChatSession`](https://ai.google.dev/api/python/google/generativeai/ChatSession) 是聊天絕佳的介面，因為它會替你處理對話記錄，而使用參數 `enable_automatic_function_calling` 會進一步簡化功能呼叫：\n"
      ]
    },
    {
      "cell_type": "code",
      "execution_count": null,
      "metadata": {
        "id": "d3b91c855257"
      },
      "outputs": [],
      "source": [
        "chat = model.start_chat(enable_automatic_function_calling=True)"
      ]
    },
    {
      "cell_type": "markdown",
      "metadata": {
        "id": "1481a6159399"
      },
      "source": [
        "啟用自動函式呼叫後，如果模型要求，`ChatSession.send_message` 會自動呼叫你的函式。\n",
        "\n",
        "在下例中，結果看來只是一個包含正確答案的文字回應：\n"
      ]
    },
    {
      "cell_type": "code",
      "execution_count": null,
      "metadata": {
        "id": "81d8def3d865"
      },
      "outputs": [
        {
          "data": {
            "text/plain": [
              "'There are 2508 mittens in total.'"
            ]
          },
          "execution_count": 7,
          "metadata": {},
          "output_type": "execute_result"
        }
      ],
      "source": [
        "response = chat.send_message('I have 57 cats, each owns 44 mittens, how many mittens is that in total?')\n",
        "response.text"
      ]
    },
    {
      "cell_type": "code",
      "execution_count": null,
      "metadata": {
        "id": "951c0f83f72e"
      },
      "outputs": [
        {
          "data": {
            "text/plain": [
              "2508"
            ]
          },
          "execution_count": 8,
          "metadata": {},
          "output_type": "execute_result"
        }
      ],
      "source": [
        "57*44"
      ]
    },
    {
      "cell_type": "markdown",
      "metadata": {
        "id": "7731e35f2383"
      },
      "source": [
        "不過，透過檢視聊天紀錄，你可以看到對話的流程，以及如何將函式呼叫整合到其中。\n",
        "\n",
        "`ChatSession.history` 屬性會儲存使用者與 Gemini 模型之間對話的時序紀錄。對話中的每個回合都以 [`glm.Content`](https://ai.google.dev/api/python/google/ai/generativelanguage/Content) 物件表示，其中包含下列資訊：\n",
        "\n",
        "*   **角色** ：識別內容來自「使用者」還是「模型」。\n",
        "*   **部分** ： [`glm.Part`](https://ai.google.dev/api/python/google/ai/generativelanguage/Part) 物件清單，代表訊息的個別組成部分。透過純文字模型，這些部分可以是：\n",
        "    *   **文字** ：純文字訊息。\n",
        "    *   **函式呼叫** ([`glm.FunctionCall`](https://ai.google.dev/api/python/google/ai/generativelanguage/FunctionCall))：模型要求使用提供的引數執行特定函式的要求。\n",
        "    *   **函式回應** ([`glm.FunctionResponse`](https://ai.google.dev/api/python/google/ai/generativelanguage/FunctionResponse))：使用者在執行要求的函式後所回傳的結果。\n",
        "\n",
        "在前面有關連指手套計算的範例中，歷史記錄顯示下列順序：\n",
        "\n",
        "1.  **使用者** ：詢問有關總連指手套數量的問題。\n",
        "1.  **模型** ：判斷乘法函式是否有幫助，並向使用者送出 FunctionCall 要求。\n",
        "1.  **使用者** ： `ChatSession` 會自動執行該函式 (因為設定了 `enable_automatic_function_calling`)，並傳回一個包含計算結果的 `FunctionResponse`。\n",
        "1.  **模型** ：使用函式的輸出結果來構思最後的答案，並將其呈現為文字回應。\n"
      ]
    },
    {
      "cell_type": "code",
      "execution_count": null,
      "metadata": {
        "id": "9f7eff1e8e60"
      },
      "outputs": [
        {
          "name": "stdout",
          "output_type": "stream",
          "text": [
            "user -> [{'text': 'I have 57 cats, each owns 44 mittens, how many mittens is that in total?'}]\n",
            "--------------------------------------------------------------------------------\n",
            "model -> [{'function_call': {'name': 'multiply', 'args': {'a': 57.0, 'b': 44.0}}}]\n",
            "--------------------------------------------------------------------------------\n",
            "user -> [{'function_response': {'name': 'multiply', 'response': {'result': 2508.0}}}]\n",
            "--------------------------------------------------------------------------------\n",
            "model -> [{'text': 'There are 2508 mittens in total.'}]\n",
            "--------------------------------------------------------------------------------\n"
          ]
        }
      ],
      "source": [
        "for content in chat.history:\n",
        "    print(content.role, \"->\", [type(part).to_dict(part) for part in content.parts])\n",
        "    print('-'*80)"
      ]
    },
    {
      "cell_type": "markdown",
      "metadata": {
        "id": "2471fd72f05e"
      },
      "source": [
        "一般的狀態圖如下：\n",
        "\n",
        "<img src=\"https://ai.google.dev/images/tutorials/function_call_state_diagram.png\" alt=\"模型總是可以用文字或 FunctionCall 回應。如果模型傳送 FunctionCall，使用者必須用 FunctionResponse 回應\" width=50%>\n",
        "\n",
        "模型可以在回傳文字回應之前回應多個函式呼叫，而函式呼叫會在文字回應之前出現。\n"
      ]
    },
    {
      "cell_type": "markdown",
      "metadata": {
        "id": "eea8e3a0b89f"
      },
      "source": [
        "## 手動函式呼叫\n"
      ]
    },
    {
      "cell_type": "markdown",
      "metadata": {
        "id": "9610f3465a69"
      },
      "source": [
        "欲獲得更精準的控制，你可以親自處理模型的 [`glm.FunctionCall`](https://ai.google.dev/api/python/google/ai/generativelanguage/FunctionCall) 請求。這適用於以下情況：\n",
        "\n",
        "- 在預設 `enable_automatic_function_calling=False` 的 `ChatSession` 中使用。\n",
        "- 使用 `GenerativeModel.generate_content` (並自己管理聊天記錄)。\n"
      ]
    },
    {
      "cell_type": "markdown",
      "metadata": {
        "id": "34ffab0bf365"
      },
      "source": [
        "以下範例是 Python 中 [Function 呼叫單輪 curl 範例](https://ai.google.dev/docs/function_calling#function-calling-single-turn-curl-sample) 的大致相同版本。它使用回傳 (模擬) 電影播放時間資訊 (可能來自假設的 API) 的功能：\n"
      ]
    },
    {
      "cell_type": "code",
      "execution_count": null,
      "metadata": {
        "id": "46ba0fa3d09a"
      },
      "outputs": [],
      "source": [
        "def find_movies(description: str, location: str = ''):\n",
        "  \"\"\"find movie titles currently playing in theaters based on any description, genre, title words, etc.\n",
        "\n",
        "  Args:\n",
        "      description: Any kind of description including category or genre, title words, attributes, etc.\n",
        "      location: The city and state, e.g. San Francisco, CA or a zip code e.g. 95616\n",
        "  \"\"\"\n",
        "  return ['Barbie', 'Oppenheimer']\n",
        "\n",
        "def find_theaters(location: str, movie: str = ''):\n",
        "    \"\"\"Find theaters based on location and optionally movie title which are is currently playing in theaters.\n",
        "\n",
        "    Args:\n",
        "        location: The city and state, e.g. San Francisco, CA or a zip code e.g. 95616\n",
        "        movie: Any movie title\n",
        "    \"\"\"\n",
        "    return ['Googleplex 16', 'Android Theatre']\n",
        "\n",
        "def get_showtimes(location:str, movie:str, theater:str, date:str):\n",
        "    \"\"\"\n",
        "    Find the start times for movies playing in a specific theater.\n",
        "\n",
        "    Args:\n",
        "      location: The city and state, e.g. San Francisco, CA or a zip code e.g. 95616\n",
        "      movie: Any movie title\n",
        "      thearer: Name of the theater\n",
        "      date: Date for requested showtime\n",
        "    \"\"\"\n",
        "    return ['10:00', '11:00']"
      ]
    },
    {
      "cell_type": "markdown",
      "metadata": {
        "id": "Ck-hdu5N8VlR"
      },
      "source": [
        "使用字典以方便稍後按名稱查詢函式。你也可以使用它將函式陣列傳遞至 `GenerativeModel` 的 `tools` 參數。\n"
      ]
    },
    {
      "cell_type": "code",
      "execution_count": null,
      "metadata": {
        "id": "8i3SKdy18WHu"
      },
      "outputs": [],
      "source": [
        "functions = {\n",
        "    'find_movies': find_movies,\n",
        "    'find_theaters': find_theaters,\n",
        "    'get_showtimes': get_showtimes,\n",
        "}\n",
        "\n",
        "model = genai.GenerativeModel(model_name='gemini-1.0-pro',\n",
        "                              tools=functions.values())"
      ]
    },
    {
      "cell_type": "markdown",
      "metadata": {
        "id": "11631c6e2b10"
      },
      "source": [
        "於使用 `generate_content()` 提出問題後，模型便會要求執行 `function_call`：\n"
      ]
    },
    {
      "cell_type": "code",
      "execution_count": null,
      "metadata": {
        "id": "5e3b9c84d883"
      },
      "outputs": [
        {
          "data": {
            "text/plain": [
              "[function_call {\n",
              "  name: \"find_theaters\"\n",
              "  args {\n",
              "    fields {\n",
              "      key: \"location\"\n",
              "      value {\n",
              "        string_value: \"Mountain View, CA\"\n",
              "      }\n",
              "    }\n",
              "    fields {\n",
              "      key: \"movie\"\n",
              "      value {\n",
              "        string_value: \"Barbie\"\n",
              "      }\n",
              "    }\n",
              "  }\n",
              "}\n",
              "]"
            ]
          },
          "execution_count": 25,
          "metadata": {},
          "output_type": "execute_result"
        }
      ],
      "source": [
        "response = model.generate_content('Which theaters in Mountain View show the Barbie movie?')\n",
        "response.candidates[0].content.parts"
      ]
    },
    {
      "cell_type": "markdown",
      "metadata": {
        "id": "kuldoypuAC1i"
      },
      "source": [
        "由於這沒有使用具有自動功能呼叫的 `ChatSession`, 因此必須自己呼叫函式。\n",
        "\n",
        "執行此操作的一個非常簡單的方法是使用 `if` 語句：\n",
        "\n",
        "```python\n",
        "if function_call.name == 'find_theaters':\n",
        "  find_theaters(**function_call.args)\n",
        "elif ...\n",
        "```\n",
        "\n",
        "不過，由於我們之前建立了 `functions` 字典，因此我們可以將其簡化為：\n"
      ]
    },
    {
      "cell_type": "code",
      "execution_count": null,
      "metadata": {
        "id": "rjkZ8MA00Coc"
      },
      "outputs": [
        {
          "name": "stdout",
          "output_type": "stream",
          "text": [
            "['Googleplex 16', 'Android Theatre']\n"
          ]
        }
      ],
      "source": [
        "def call_function(function_call, functions):\n",
        "  function_name = function_call.name\n",
        "  function_args = function_call.args\n",
        "  return functions[function_name](**function_args)\n",
        "\n",
        "part = response.candidates[0].content.parts[0]\n",
        "\n",
        "# Check if it's a function call; in real use you'd need to also handle text\n",
        "# responses as you won't know what the model will respond with.\n",
        "if part.function_call:\n",
        "  result = call_function(part.function_call, functions)\n",
        "\n",
        "print(result)"
      ]
    },
    {
      "cell_type": "markdown",
      "metadata": {
        "id": "XLWrHOatBtRz"
      },
      "source": [
        "最後，將回應加上訊息歷程傳遞至下一個 `generate_content()` 呼叫，以從模型取得最終文字回應。\n"
      ]
    },
    {
      "cell_type": "code",
      "execution_count": null,
      "metadata": {
        "id": "gdb62GstAD_3"
      },
      "outputs": [
        {
          "name": "stdout",
          "output_type": "stream",
          "text": [
            "Theaters showing Barbie in Mountain View, CA are: Googleplex 16, Android Theatre\n"
          ]
        }
      ],
      "source": [
        "import google.ai.generativelanguage as glm\n",
        "from google.protobuf.struct_pb2 import Struct\n",
        "\n",
        "# Put the result in a protobuf Struct\n",
        "s = Struct()\n",
        "s.update({'result': result})\n",
        "\n",
        "# Update this after https://github.com/google/generative-ai-python/issues/243\n",
        "function_response = glm.Part(\n",
        "    function_response=glm.FunctionResponse(name='find_theaters', response=s))\n",
        "\n",
        "# Build the message history\n",
        "messages = [\n",
        "    {'role':'user',\n",
        "     'parts': ['Which theaters in Mountain View show the Barbie movie?.']},\n",
        "    {'role':'model',\n",
        "     'parts': response.candidates[0].content.parts},\n",
        "    {'role':'user',\n",
        "     'parts': [function_response]}\n",
        "]\n",
        "\n",
        "# Generate the next response\n",
        "response = model.generate_content(messages)\n",
        "print(response.text)"
      ]
    },
    {
      "cell_type": "markdown",
      "metadata": {
        "id": "e0a3173919ca"
      },
      "source": [
        "## 後續步驟\n"
      ]
    },
    {
      "cell_type": "markdown",
      "metadata": {
        "id": "7c2f31504490"
      },
      "source": [
        "有用的 API 參考：\n",
        "\n",
        "- [genai.GenerativeModel](https://ai.google.dev/api/python/google/generativeai/GenerativeModel) 類別\n",
        "  - 其 [GenerativeModel.generate_content](https://ai.google.dev/api/python/google/generativeai/GenerativeModel#generate_content) 方法在幕後建構一個 [glm.GenerateContentRequest](https://ai.google.dev/api/python/google/ai/generativelanguage/GenerateContentRequest)。\n",
        "    - 要求的 `.tools` 欄位包含一個清單，其中包含 1 [glm.Tool](https://ai.google.dev/api/python/google/ai/generativelanguage/Tool) 物件。\n",
        "    - 該工具的 `function_declarations` 屬性包含一個 [FunctionDeclarations](https://ai.google.dev/api/python/google/ai/generativelanguage/FunctionDeclaration) 物件清單。\n",
        "- [response](https://ai.google.dev/api/python/google/ai/generativelanguage/GenerateContentResponse) 可能會包含一個 [glm.FunctionCall](https://ai.google.dev/api/python/google/ai/generativelanguage/FunctionCall)，在 `response.candidates[0].contents.parts[0]` 中。\n",
        "- 如果設定 `enable_automatic_function_calling`，[genai.ChatSession](https://ai.google.dev/api/python/google/generativeai/ChatSession) 會執行呼叫，並傳回 [glm.FunctionResponse](https://ai.google.dev/api/python/google/ai/generativelanguage/FunctionResponse)。\n",
        "- 在回應 [FunctionCall](https://ai.google.dev/api/python/google/ai/generativelanguage/FunctionCall) 時，模型始終會預期會收到一個 [FunctionResponse](https://ai.google.dev/api/python/google/ai/generativelanguage/FunctionResponse)。\n",
        "- 如果你手動使用 [chat.send_message](https://ai.google.dev/api/python/google/generativeai/ChatSession#send_message) 或 [model.generate_content](https://ai.google.dev/api/python/google/generativeai/GenerativeModel#generate_content) 回覆，請記住 API 是無狀態的，你必須傳送整個對話歷程 (一個 [content](https://ai.google.dev/api/python/google/ai/generativelanguage/Content) 物件清單)，而不能只傳送包含 `FunctionResponse` 的最後一個對話。\n"
      ]
    }
  ],
  "metadata": {
    "colab": {
      "name": "Function_calling.ipynb",
      "toc_visible": true
    },
    "google": {
      "image_path": "/site-assets/images/share.png",
      "keywords": [
        "examples",
        "googleai",
        "samplecode",
        "python",
        "embed",
        "function"
      ]
    },
    "kernelspec": {
      "display_name": "Python 3",
      "name": "python3"
    }
  },
  "nbformat": 4,
  "nbformat_minor": 0
}