{
  "cells": [
    {
      "cell_type": "markdown",
      "metadata": {
        "id": "Tce3stUlHN0L"
      },
      "source": [
        "##### 版權所有 2024 Google LLC.\n"
      ]
    },
    {
      "cell_type": "code",
      "execution_count": null,
      "metadata": {
        "cellView": "form",
        "id": "tuOe1ymfHZPu"
      },
      "outputs": [],
      "source": [
        "# @title Licensed under the Apache License, Version 2.0 (the \"License\");\n",
        "# you may not use this file except in compliance with the License.\n",
        "# You may obtain a copy of the License at\n",
        "#\n",
        "# https://www.apache.org/licenses/LICENSE-2.0\n",
        "#\n",
        "# Unless required by applicable law or agreed to in writing, software\n",
        "# distributed under the License is distributed on an \"AS IS\" BASIS,\n",
        "# WITHOUT WARRANTIES OR CONDITIONS OF ANY KIND, either express or implied.\n",
        "# See the License for the specific language governing permissions and\n",
        "# limitations under the License."
      ]
    },
    {
      "cell_type": "markdown",
      "metadata": {
        "id": "084u8u0DpBlo"
      },
      "source": [
        "# Gemini API：提示影片版\n"
      ]
    },
    {
      "cell_type": "markdown",
      "metadata": {
        "id": "wnQ_LVlzIeXo"
      },
      "source": [
        "<table align=\"left\">\n",
        "  <td>\n",
        "    <a target=\"_blank\" href=\"https://colab.research.google.com/github/doggy8088/gemini-api-cookbook/blob/zh-tw/quickstarts/Video.zh.ipynb\"><img src=\"https://www.tensorflow.org/images/colab_logo_32px.png\" />Run in Google Colab</a>\n",
        "  </td>\n",
        "</table>\n"
      ]
    },
    {
      "cell_type": "markdown",
      "metadata": {
        "id": "q7QvXQMrIhuZ"
      },
      "source": [
        "這個筆記本提供了關於如何使用影片檔案提示 Gemini 1.5 Pro 的快速範例。這個範例將使用 [Big Buck Bunny](https://peach.blender.org/about/) 的短片。\n"
      ]
    },
    {
      "cell_type": "code",
      "execution_count": null,
      "metadata": {
        "id": "TwpXMTnpsoHC"
      },
      "outputs": [],
      "source": [
        "!pip install -U google-generativeai"
      ]
    },
    {
      "cell_type": "code",
      "execution_count": null,
      "metadata": {
        "id": "ATIbQM0NHhkj"
      },
      "outputs": [],
      "source": [
        "import google.generativeai as genai"
      ]
    },
    {
      "cell_type": "markdown",
      "metadata": {
        "id": "ngyzKAu3Nw5k"
      },
      "source": [
        "### 驗證概述\n",
        "\n",
        "**重要事項：** 檔案 API 使用 API 金鑰進行驗證與存取。上傳的檔案會與 API 金鑰的雲端專案產生關聯。與其他使用 API 金鑰的 Gemini API 不同，你的 API 金鑰也會授予存取你已上傳至檔案 API 的資料的權限，因此請務必格外小心，保護你的 API 金鑰安全。有關保護 API 金鑰的最佳做法，請參閱 Google 的 [文件](https://support.google.com/googleapi/answer/6310037)。\n"
      ]
    },
    {
      "cell_type": "markdown",
      "metadata": {
        "id": "l8g4hTRotheH"
      },
      "source": [
        "### 設定你的 API 金鑰\n",
        "\n",
        "如要執行以下單元格，你的 API 金鑰必須儲存在名為 `GOOGLE_API_KEY` 的 Colab Secret 中。如果你尚未擁有 API 金鑰，或不確定如何建立 Colab Secret，請參閱 [驗證](https://github.com/google-gemini/cookbook/blob/main/quickstarts/Authentication.ipynb)取得範例。\n"
      ]
    },
    {
      "cell_type": "code",
      "execution_count": null,
      "metadata": {
        "id": "d6lYXRcjthKV"
      },
      "outputs": [],
      "source": [
        "from google.colab import userdata\n",
        "GOOGLE_API_KEY=userdata.get('GOOGLE_API_KEY')\n",
        "genai.configure(api_key=GOOGLE_API_KEY)"
      ]
    },
    {
      "cell_type": "markdown",
      "metadata": {
        "id": "MNvhBdoDFnTC"
      },
      "source": [
        "## 將影片上傳至檔案 API\n",
        "\n",
        "Gemini API 直接接受影片檔案格式。檔案 API 接受大小在 2 GB 以下的檔案，每個專案最多可儲存 20 GB 的檔案。檔案會保留 2 天，且無法透過 API 下載。在此範例中，你將使用影片「Big Buck Bunny」。\n",
        "\n",
        "> 「Big Buck Bunny」為 (c) 2008 年，Blender Foundation / www.bigbuckbunny.org 所有，並在 [創用 CC 姓名標示 3.0](http://creativecommons.org/licenses/by/3.0/) 授權下，[取得授權](https://peach.blender.org/about/)。\n",
        "\n",
        "注意：你也可以 [上傳自己的檔案](https://github.com/google-gemini/cookbook/tree/main/examples/Upload_files.ipynb) 來使用。\n"
      ]
    },
    {
      "cell_type": "code",
      "execution_count": 22,
      "metadata": {
        "id": "V4XeFdX1rxaE"
      },
      "outputs": [
        {
          "name": "stdout",
          "output_type": "stream",
          "text": [
            "--2024-05-14 14:10:23--  https://download.blender.org/peach/bigbuckbunny_movies/BigBuckBunny_320x180.mp4\n",
            "Resolving download.blender.org (download.blender.org)... 104.22.65.163, 104.22.64.163, 172.67.14.163, ...\n",
            "Connecting to download.blender.org (download.blender.org)|104.22.65.163|:443... connected.\n",
            "HTTP request sent, awaiting response... 200 OK\n",
            "Length: 64657027 (62M) [video/mp4]\n",
            "Saving to: ‘BigBuckBunny_320x180.mp4.2’\n",
            "\n",
            "BigBuckBunny_320x18 100%[===================>]  61.66M  39.0MB/s    in 1.6s    \n",
            "\n",
            "2024-05-14 14:10:25 (39.0 MB/s) - ‘BigBuckBunny_320x180.mp4.2’ saved [64657027/64657027]\n",
            "\n"
          ]
        }
      ],
      "source": [
        "!wget https://download.blender.org/peach/bigbuckbunny_movies/BigBuckBunny_320x180.mp4"
      ]
    },
    {
      "cell_type": "code",
      "execution_count": 23,
      "metadata": {
        "id": "_HzrDdp2Q1Cu"
      },
      "outputs": [
        {
          "name": "stdout",
          "output_type": "stream",
          "text": [
            "Uploading file...\n",
            "Completed upload: https://generativelanguage.googleapis.com/v1beta/files/2kefwb3adzuv\n"
          ]
        }
      ],
      "source": [
        "video_file_name = \"BigBuckBunny_320x180.mp4\"\n",
        "\n",
        "print(f\"Uploading file...\")\n",
        "video_file = genai.upload_file(path=video_file_name)\n",
        "print(f\"Completed upload: {video_file.uri}\")"
      ]
    },
    {
      "cell_type": "markdown",
      "metadata": {
        "id": "oOZmTUb4FWOa"
      },
      "source": [
        "## 取得檔案\n",
        "\n",
        "上傳檔案後，你可以透過呼叫「files.get」來確認 API 已成功收到檔案。\n",
        "\n",
        "「files.get」讓你可以看到上傳到 File API 的檔案，這些檔案與你的 API 金鑰所屬的 Cloud 專案相關聯。只有「名稱」(和其延伸屬性「URI」) 是唯一的。\n"
      ]
    },
    {
      "cell_type": "code",
      "execution_count": 24,
      "metadata": {
        "id": "SHMVCWHkFhJW"
      },
      "outputs": [
        {
          "name": "stdout",
          "output_type": "stream",
          "text": [
            "Waiting for video to be processed.\n",
            "Waiting for video to be processed.\n",
            "Waiting for video to be processed.\n",
            "Video processing complete: https://generativelanguage.googleapis.com/v1beta/files/2kefwb3adzuv\n"
          ]
        }
      ],
      "source": [
        "import time\n",
        "\n",
        "while video_file.state.name == \"PROCESSING\":\n",
        "    print('Waiting for video to be processed.')\n",
        "    time.sleep(10)\n",
        "    video_file = genai.get_file(video_file.name)\n",
        "\n",
        "if video_file.state.name == \"FAILED\":\n",
        "  raise ValueError(video_file.state.name)\n",
        "print(f'Video processing complete: ' + video_file.uri)"
      ]
    },
    {
      "cell_type": "markdown",
      "metadata": {
        "id": "EPPOECHzsIGJ"
      },
      "source": [
        "## 自動產生內容\n",
        "\n",
        "影片上傳後，你可以建立參考檔案 API URI 的 `GenerateContent` 要求。\n"
      ]
    },
    {
      "cell_type": "code",
      "execution_count": null,
      "metadata": {
        "id": "rKkc5bH5ct18"
      },
      "outputs": [
        {
          "name": "stdout",
          "output_type": "stream",
          "text": [
            "Making LLM inference request...\n",
            "The video begins with a panoramic view of a lush green field. A cloud with hues of pink and yellow glides across the sky as the camera pans to focus on a stream flowing through the field. The title card \"Big Buck Bunny\" appears next.\n",
            "\n",
            "A large white rabbit, the protagonist, emerges from its burrow and stretches. It takes in the beautiful day, smelling flowers and enjoying the sunshine. The rabbit sees a red apple on the ground and excitedly picks it up. It walks towards a group of smaller animals: a chinchilla, a fox, and a squirrel, who are also enjoying the day. The rabbit wants to share the apple but the squirrel throws it away. The rabbit gets sad and starts to eat grass.\n",
            "\n",
            "Seeing the rabbit's sadness, the squirrel comes up with a plan to tease it. The squirrel throws an apple at the rabbit's head. The rabbit gets angry and chases after the squirrel. They run around the tree, with the chinchilla and fox looking on. The squirrel then throws a spiky ball at the rabbit, further infuriating it. The rabbit chases the squirrel again, eventually catching it. He seems about to punish the squirrel, but instead, he gives it a friendly hug.\n",
            "\n",
            "The squirrel doesn't learn its lesson and starts to tease the rabbit again by throwing its food. This time, the rabbit decides to use its ingenuity to teach the squirrel a lesson. It builds a bow and arrow, shoots the squirrel's flying machine down, and then traps the squirrel in a net made from vines.\n",
            "\n",
            "The video ends with a list of the film's credits, showing the names of the individuals and teams who worked on the production. The squirrel then flies across the credits. \n",
            "\n"
          ]
        }
      ],
      "source": [
        "# Create the prompt.\n",
        "prompt = \"Describe this video.\"\n",
        "\n",
        "# Set the model to Gemini 1.5 Pro.\n",
        "model = genai.GenerativeModel(model_name=\"models/gemini-1.5-pro-latest\")\n",
        "\n",
        "# Make the LLM request.\n",
        "print(\"Making LLM inference request...\")\n",
        "response = model.generate_content([prompt, video_file],\n",
        "                                  request_options={\"timeout\": 600})\n",
        "print(response.text)"
      ]
    },
    {
      "cell_type": "markdown",
      "metadata": {
        "id": "IrPDYdQSKTg4"
      },
      "source": [
        "## 刪除檔案\n",
        "\n",
        "檔案會在 2 天後自動刪除，或是你可以用 `files.delete()` 手動刪除檔案。\n"
      ]
    },
    {
      "cell_type": "code",
      "execution_count": null,
      "metadata": {
        "id": "ggoi6wibct18"
      },
      "outputs": [
        {
          "name": "stdout",
          "output_type": "stream",
          "text": [
            "Deleted file https://generativelanguage.googleapis.com/v1beta/files/2kefwb3adzuv\n"
          ]
        }
      ],
      "source": [
        "genai.delete_file(video_file.name)\n",
        "print(f'Deleted file {video_file.uri}')"
      ]
    },
    {
      "cell_type": "markdown",
      "metadata": {
        "id": "K5oUCqb6IUnH"
      },
      "source": [
        "## 進一步了解\n",
        "\n",
        "使用檔案 API，你可以上傳種類繁多的多模態 MIME 類型，包括圖片、聲音和影片格式。 檔案 API 可處理可用於使用 [`model.generateContent`](https://ai.google.dev/api/rest/v1/models/generateContent) 或 [`model.streamGenerateContent`](https://ai.google.dev/api/rest/v1/models/streamGenerateContent) 產生內容的輸入。\n",
        "\n",
        "檔案 API 接受大小小於 2 GB 的檔案，每個專案可以儲存的檔案總量上限為 20 GB。 檔案會保留 2 天，而且無法從 API 下載。\n",
        "\n",
        "* 透過入門文件了解 [檔案 API](https://github.com/google-gemini/cookbook/blob/main/quickstarts/File_API.ipynb)。\n",
        "\n",
        "* 在文件了解更進一步的 [媒體檔案提示](https://ai.google.dev/tutorials/prompting_with_media)資訊，包括支援的格式和長度上限。\n"
      ]
    }
  ],
  "metadata": {
    "colab": {
      "name": "Video.ipynb",
      "toc_visible": true
    },
    "kernelspec": {
      "display_name": "Python 3",
      "name": "python3"
    }
  },
  "nbformat": 4,
  "nbformat_minor": 0
}