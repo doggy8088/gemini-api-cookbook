{
  "cells": [
    {
      "cell_type": "markdown",
      "metadata": {
        "id": "cDzZKCF4ea5n"
      },
      "source": [
        "##### 版權所有 2024 Google LLC.\n"
      ]
    },
    {
      "cell_type": "code",
      "execution_count": null,
      "metadata": {
        "cellView": "form",
        "id": "cxsdQaqTeihY"
      },
      "outputs": [],
      "source": [
        "#@title Licensed under the Apache License, Version 2.0 (the \"License\");\n",
        "# you may not use this file except in compliance with the License.\n",
        "# You may obtain a copy of the License at\n",
        "#\n",
        "# https://www.apache.org/licenses/LICENSE-2.0\n",
        "#\n",
        "# Unless required by applicable law or agreed to in writing, software\n",
        "# distributed under the License is distributed on an \"AS IS\" BASIS,\n",
        "# WITHOUT WARRANTIES OR CONDITIONS OF ANY KIND, either express or implied.\n",
        "# See the License for the specific language governing permissions and\n",
        "# limitations under the License."
      ]
    },
    {
      "cell_type": "markdown",
      "metadata": {
        "id": "FjjEC1DHenXF"
      },
      "source": [
        "# Gemini Flash 簡介\n"
      ]
    },
    {
      "cell_type": "markdown",
      "metadata": {
        "id": "HQQSrHovfBan"
      },
      "source": [
        "<table align=\"left\">\n",
        "  <td>\n",
        "    <a target=\"_blank\" href=\"https://colab.research.google.com/github/google-gemini/cookbook/blob/main/quickstarts/Gemini_Flash_Introduction.zh.ipynb\"><img src=\"https://www.tensorflow.org/images/colab_logo_32px.png\" />在 Google Colab 中執行</a>\n",
        "  </td>\n",
        "</table>\n"
      ]
    },
    {
      "cell_type": "markdown",
      "metadata": {
        "id": "1LEBXIg0fq83"
      },
      "source": [
        "Gemini 1.5 Flash 是 Gemini 生態系統中的新模型，為現有的 Gemini 1.0 Pro 開發人員和使用者提供更好的品質和更低的延遲。\n",
        "\n",
        "由於功能與當前可用的 Gemini 模型相當，它簡化了你的測試和匯入。\n",
        "\n",
        "在此筆記本中，你將嘗試不同的場景 (包括文字、聊天和多模態範例)，其中唯一的必要變更就是變更你想要與之互動的模型，所有程式碼都相同。\n"
      ]
    },
    {
      "cell_type": "markdown",
      "metadata": {
        "id": "ZxjOSybzhS5F"
      },
      "source": [
        "## 安裝最新版本的 Gemini SDK\n"
      ]
    },
    {
      "cell_type": "code",
      "execution_count": null,
      "metadata": {
        "id": "7WIjD40XBMEM"
      },
      "outputs": [],
      "source": [
        "!pip install -q -U google-generativeai # Install the Python SDK"
      ]
    },
    {
      "cell_type": "markdown",
      "metadata": {
        "id": "0DUxJvIwhWQI"
      },
      "source": [
        "## 匯入 Gemini python SDK\n"
      ]
    },
    {
      "cell_type": "code",
      "execution_count": null,
      "metadata": {
        "id": "kmyjiZKSBYej"
      },
      "outputs": [],
      "source": [
        "import google.generativeai as genai"
      ]
    },
    {
      "cell_type": "markdown",
      "metadata": {
        "id": "xvJsVuNQhcED"
      },
      "source": [
        "## 設定你的 API 權杖\n",
        "\n",
        "要執行以下Cell，你的 API 權杖必須儲存在名為 `GOOGLE_API_KEY` 的 Colab 密碼中。如果你還沒有 API 權杖，或者你不確定如何建立 Colab 密碼，請參閱 [驗證](https://github.com/google-gemini/cookbook/blob/main/quickstarts/Authentication.ipynb) 快速入門作為範例。\n"
      ]
    },
    {
      "cell_type": "code",
      "execution_count": null,
      "metadata": {
        "id": "g3SXoJCLBpFs"
      },
      "outputs": [],
      "source": [
        "from google.colab import userdata\n",
        "\n",
        "GOOGLE_API_KEY=userdata.get('GOOGLE_API_KEY')\n",
        "genai.configure(api_key=GOOGLE_API_KEY)"
      ]
    },
    {
      "cell_type": "markdown",
      "metadata": {
        "id": "pWLzoSm3xs5V"
      },
      "source": [
        "## 處理文字情境\n",
        "\n",
        "在此筆記本的第一個情境中，你將只處理文字情境。你將以文字格式發送直接要求至 Gemini API，並處理結果。其中包括了解每個模型的資訊 (包括輸入和輸出限制)，以及使用機制來計算你的要求的 token。\n",
        "\n",
        "首先，從下方的清單方塊選擇你想使用哪個模型版本進行實驗 - 可用模型如下：\n",
        "\n",
        "- `models/gemini-1.5-flash-latest`\n",
        "- `models/gemini-1.5-pro-latest`\n",
        "- `models/gemini-1.0-pro-latest`\n"
      ]
    },
    {
      "cell_type": "code",
      "execution_count": null,
      "metadata": {
        "id": "giFvfXMeUnyR"
      },
      "outputs": [],
      "source": [
        "version = 'models/gemini-1.5-flash-latest' # @param [\"models/gemini-1.5-flash-latest\", \"models/gemini-1.5-pro-latest\", \"models/gemini-1.0-pro-latest\"]\n",
        "model = genai.GenerativeModel(version)"
      ]
    },
    {
      "cell_type": "markdown",
      "metadata": {
        "id": "W4CuxUizinbs"
      },
      "source": [
        "使用 `model.get_model()` 方法，你可以探索有關模型的詳細資訊，例如 `input_token_limit` 和 `output_token_limit`：\n"
      ]
    },
    {
      "cell_type": "code",
      "execution_count": null,
      "metadata": {
        "id": "PAimDgd5ugKn"
      },
      "outputs": [],
      "source": [
        "model_info = genai.get_model(version)\n",
        "print(f'{version} - input limit: {model_info.input_token_limit}, output limit: {model_info.output_token_limit}')"
      ]
    },
    {
      "cell_type": "markdown",
      "metadata": {
        "id": "u7GRPvW7jh7s"
      },
      "source": [
        "你也可以使用 `model.count_tokens()` 方法計算輸入的 Token 數量：\n"
      ]
    },
    {
      "cell_type": "code",
      "execution_count": null,
      "metadata": {
        "id": "yscBZrjPu1zL"
      },
      "outputs": [],
      "source": [
        "prompt = \"What is artificial intelligence?\"\n",
        "model.count_tokens(prompt)"
      ]
    },
    {
      "cell_type": "markdown",
      "metadata": {
        "id": "6vgBNqUajsQ2"
      },
      "source": [
        "接下來，你可以將你的請求提示訊息傳送給 Gemini API - 不用在意你選擇哪個模型版本，相同的請求程式碼將會在這裡使用:\n"
      ]
    },
    {
      "cell_type": "code",
      "execution_count": null,
      "metadata": {
        "id": "W1RWCdNPtTzd"
      },
      "outputs": [],
      "source": [
        "response = model.generate_content(prompt)\n",
        "print(response.text)"
      ]
    },
    {
      "cell_type": "markdown",
      "metadata": {
        "id": "iEREbartxmXx"
      },
      "source": [
        "## 與聊天場景協力作業\n",
        "\n",
        "下一步的實驗是使用聊天。同樣地，第一步是選擇你想使用的模型。至於範例文字，你可以選取上述其中一種：\n",
        "- `models/gemini-1.5-flash-latest`\n",
        "- `models/gemini-1.5-pro-latest`\n",
        "- `models/gemini-1.0-pro-latest`\n"
      ]
    },
    {
      "cell_type": "code",
      "execution_count": null,
      "metadata": {
        "id": "E5WcsAIGvznk"
      },
      "outputs": [],
      "source": [
        "version = 'models/gemini-1.5-flash-latest' # @param [\"models/gemini-1.5-flash-latest\", \"models/gemini-1.5-pro-latest\", \"models/gemini-1.0-pro-latest\"]\n",
        "model = genai.GenerativeModel(version)\n",
        "chat = model.start_chat(history=[])"
      ]
    },
    {
      "cell_type": "markdown",
      "metadata": {
        "id": "3hnEUnrik0D1"
      },
      "source": [
        "使用 `model.get_model()` 方法，你可以探索有關模型的詳細資訊，例如 `input_token_limit` 和 `output_token_limit`：\n"
      ]
    },
    {
      "cell_type": "code",
      "execution_count": null,
      "metadata": {
        "id": "NX3xgV2NYggV"
      },
      "outputs": [],
      "source": [
        "model_info = genai.get_model(version)\n",
        "print(f'{version} - input limit: {model_info.input_token_limit}, output limit: {model_info.output_token_limit}')"
      ]
    },
    {
      "cell_type": "markdown",
      "metadata": {
        "id": "T_RfgpAPk58V"
      },
      "source": [
        "你也可以使用 `model.count_tokens()` 方法來計算你實驗的 Token：\n"
      ]
    },
    {
      "cell_type": "code",
      "execution_count": null,
      "metadata": {
        "id": "y8Megh7SYm-7"
      },
      "outputs": [],
      "source": [
        "prompt = \"How can I start learning artificial intelligence?\"\n",
        "model.count_tokens(prompt)"
      ]
    },
    {
      "cell_type": "markdown",
      "metadata": {
        "id": "ZIZyFu5tk-oW"
      },
      "source": [
        "然後你可以將你的要求提示寄送給 Gemini API - 無論選擇哪種模型版本，這裡都使用相同的請求程式碼：\n"
      ]
    },
    {
      "cell_type": "code",
      "execution_count": null,
      "metadata": {
        "id": "rzUMuKSXvzhN"
      },
      "outputs": [],
      "source": [
        "response = chat.send_message(\"How can I start learning artificial intelligence?\")\n",
        "print(response.text)"
      ]
    },
    {
      "cell_type": "markdown",
      "metadata": {
        "id": "IB_88tt_lCmR"
      },
      "source": [
        "你可以對提示執行 token 計數，也可以使用相同 `model.count_tokens()` 方法對聊天記錄執行 token 計數：\n"
      ]
    },
    {
      "cell_type": "code",
      "execution_count": null,
      "metadata": {
        "id": "vrVI9zvqvzfI"
      },
      "outputs": [],
      "source": [
        "model.count_tokens(chat.history)"
      ]
    },
    {
      "cell_type": "markdown",
      "metadata": {
        "id": "vu8blCSpapTF"
      },
      "source": [
        "## 應用於多模態場景\n",
        "\n",
        "然後最後你可以嘗試一個多模態實驗 - 或者，換句話說，在同一個請求提示中傳送不同的資料模式 (例如文字和影像)。\n",
        "\n",
        "你必須先選擇你想用於實驗的模型版本，從底下的清單方塊中選取 - 可用的模型包括：\n",
        "\n",
        "- `models/gemini-1.5-flash-latest`\n",
        "- `models/gemini-1.5-pro-latest`\n",
        "- `models/gemini-pro-vision`\n"
      ]
    },
    {
      "cell_type": "code",
      "execution_count": null,
      "metadata": {
        "id": "LfuCWtHetcuA"
      },
      "outputs": [],
      "source": [
        "version = 'models/gemini-1.5-flash-latest' # @param [\"models/gemini-1.5-flash-latest\", \"models/gemini-1.5-pro-latest\", \"models/gemini-pro-vision\"]\n",
        "model = genai.GenerativeModel(version)"
      ]
    },
    {
      "cell_type": "markdown",
      "metadata": {
        "id": "ZYlc6EZhmR4W"
      },
      "source": [
        "使用 `model.get_model()` 方法，你可以探索有關模型的詳細資訊，例如 `input_token_limit` 和 `output_token_limit`：\n"
      ]
    },
    {
      "cell_type": "code",
      "execution_count": null,
      "metadata": {
        "id": "YOQVyY7XavyR"
      },
      "outputs": [],
      "source": [
        "model_info = genai.get_model(version)\n",
        "print(f'{version} - input limit: {model_info.input_token_limit}, output limit: {model_info.output_token_limit}')"
      ]
    },
    {
      "cell_type": "markdown",
      "metadata": {
        "id": "aeug2Lk3mXV5"
      },
      "source": [
        "現在你將挑選一張要使用在多模態提示上的測試圖片。你將在此使用一個樣品可頌圖片：\n"
      ]
    },
    {
      "cell_type": "code",
      "execution_count": null,
      "metadata": {
        "id": "Ur7rfzAbbIcQ"
      },
      "outputs": [],
      "source": [
        "import PIL\n",
        "from IPython.display import display, Image\n",
        "\n",
        "!curl -s -o image.jpg \"https://storage.googleapis.com/generativeai-downloads/images/croissant.jpg\"\n",
        "img = PIL.Image.open('image.jpg')\n",
        "display(Image('image.jpg', width=300))"
      ]
    },
    {
      "cell_type": "markdown",
      "metadata": {
        "id": "nOnmWlsimfGR"
      },
      "source": [
        "如同你對文本和對話提示所做的那樣，你也可以對圖片執行 Token 統計。在此，你將首先顯示圖片解析度 (使用 `img.size`)，然後使用 `model.cout_tokens()` 方法顯示圖片所代表的 Token 數量：\n"
      ]
    },
    {
      "cell_type": "code",
      "execution_count": null,
      "metadata": {
        "id": "HXMvnNALbmWP"
      },
      "outputs": [],
      "source": [
        "print(img.size)\n",
        "print(model.count_tokens(img))"
      ]
    },
    {
      "cell_type": "markdown",
      "metadata": {
        "id": "D3ziijDAm6VE"
      },
      "source": [
        "現在是定義要與你的測試圖像一同發送的文字提示的時候了 – 在這種情況下，你將發送一個從圖像中提取一些資訊的請求，例如圖像中有什麼，圖像中的物品與哪個國家有關以及該物品的搭配方式最合適。\n"
      ]
    },
    {
      "cell_type": "code",
      "execution_count": null,
      "metadata": {
        "id": "mGh0OwvYlLEW"
      },
      "outputs": [],
      "source": [
        "prompt = \"\"\"\n",
        "Describe this image, including which country is famous for having this food and what is the best pairing for it.\n",
        "\"\"\""
      ]
    },
    {
      "cell_type": "code",
      "execution_count": null,
      "metadata": {
        "id": "N2Inb0TRny4X"
      },
      "outputs": [],
      "source": [
        "response = model.generate_content([prompt, img])\n",
        "print(response.text)"
      ]
    },
    {
      "cell_type": "markdown",
      "metadata": {
        "id": "sDrDAo1xnu9u"
      },
      "source": [
        "## 進一步了解\n",
        "\n",
        "* 如要了解如何使用模型提示，請參閱[提示](https://github.com/google-gemini/cookbook/blob/main/quickstarts/Prompting.ipynb) 快速入門。\n",
        "\n",
        "* [count_tokens](https://ai.google.dev/api/python/google/generativeai/GenerativeModel#count_tokens) Python API 參考和[計數 token](https://github.com/google-gemini/cookbook/blob/main/quickstarts/Counting_Tokens.ipynb) 快速入門。\n",
        "\n",
        "* 如要取得關於模型的詳細資訊，請參閱[Gemini 模型](https://ai.google.dev/models/gemini) 文件。\n"
      ]
    }
  ],
  "metadata": {
    "colab": {
      "name": "Gemini_Flash_Introduction.ipynb",
      "toc_visible": true
    },
    "kernelspec": {
      "display_name": "Python 3",
      "name": "python3"
    }
  },
  "nbformat": 4,
  "nbformat_minor": 0
}