{
  "cells": [
    {
      "cell_type": "markdown",
      "metadata": {
        "id": "yeadDkMiISin"
      },
      "source": [
        "# Gemini API: 安全快速指南\n"
      ]
    },
    {
      "cell_type": "markdown",
      "metadata": {
        "id": "lEXQ3OwKIa-O"
      },
      "source": [
        "<table align=\"left\">\n",
        "  <td>\n",
        "    <a target=\"_blank\" href=\"https://colab.research.google.com/github/google-gemini/gemini-api-cookbook/blob/main/quickstarts/Safety.zh.ipynb\"><img src=\"https://www.tensorflow.org/images/colab_logo_32px.png\" />在 Google Colab 中執行</a>\n",
        "  </td>\n",
        "</table>\n"
      ]
    },
    {
      "cell_type": "markdown",
      "metadata": {
        "id": "uOxMUKTxR-_j"
      },
      "source": [
        "Gemini API 具有可調整的安全設定。本筆記本將逐步指導你如何使用這些設定。你將會撰寫一個遭到封鎖的提示，找出原因，然後調整篩選器以解鎖提示。\n",
        "\n",
        "安全性是一個重要的主題，你可以前往本筆記本結尾處的連結了解更多資訊。本文著重於程式碼。\n"
      ]
    },
    {
      "cell_type": "code",
      "execution_count": null,
      "metadata": {
        "id": "9OEoeosRTv-5"
      },
      "outputs": [],
      "source": [
        "!pip install -q -U google-generativeai # Install the Python SDK"
      ]
    },
    {
      "cell_type": "code",
      "execution_count": null,
      "metadata": {
        "id": "TS9l5igubpHO"
      },
      "outputs": [],
      "source": [
        "import google.generativeai as genai"
      ]
    },
    {
      "cell_type": "markdown",
      "metadata": {
        "id": "gHYFrFPjSGNq"
      },
      "source": [
        "## 建立你的 API 金鑰\n",
        "\n",
        "要執行以下Cell，你的 API 金鑰必須儲存在名為 `GOOGLE_API_KEY` 的 Colab 密碼中。如果你還沒有 API 金鑰，或不確定如何建立 Colab 密碼，請參閱 [驗證](https://github.com/google-gemini/gemini-api-cookbook/blob/main/quickstarts/Authentication.ipynb) Quickstart 作為範例。\n"
      ]
    },
    {
      "cell_type": "code",
      "execution_count": null,
      "metadata": {
        "id": "ab9ASynfcIZn"
      },
      "outputs": [],
      "source": [
        "from google.colab import userdata\n",
        "GOOGLE_API_KEY=userdata.get('GOOGLE_API_KEY')\n",
        "genai.configure(api_key=GOOGLE_API_KEY)"
      ]
    },
    {
      "cell_type": "markdown",
      "metadata": {
        "id": "LZfoK3I3hu6V"
      },
      "source": [
        "## 提示回饋\n",
        "\n",
        "[Model.generate_content](https://ai.google.dev/api/python/google/generativeai/GenerativeModel#generate_content) 方法回傳的結果為 [genai.GenerateContentResponse](https://ai.google.dev/api/python/google/generativeai/types/GenerateContentResponse)。\n"
      ]
    },
    {
      "cell_type": "code",
      "execution_count": null,
      "metadata": {
        "id": "2bcfnGEviwTI"
      },
      "outputs": [],
      "source": [
        "model = genai.GenerativeModel('gemini-1.0-pro')\n",
        "\n",
        "unsafe_prompt =   # Put your unsafe prompt here\n",
        "response = model.generate_content(unsafe_prompt)"
      ]
    },
    {
      "cell_type": "markdown",
      "metadata": {
        "id": "WR_2A_sxk8sK"
      },
      "source": [
        "此回應物件以兩種方式提供安全性回饋：\n",
        "\n",
        "* `prompt_feedback.safety_ratings` 屬性包含輸入提示的安全評級清單。\n",
        "\n",
        "* 如果你的提示遭封鎖，`prompt_feedback.block_reason` 欄位會說明原因。\n"
      ]
    },
    {
      "cell_type": "code",
      "execution_count": null,
      "metadata": {
        "id": "8887de812dc0"
      },
      "outputs": [],
      "source": [
        "bool(response.prompt_feedback.block_reason)"
      ]
    },
    {
      "cell_type": "code",
      "execution_count": null,
      "metadata": {
        "id": "he-OfzBbhACQ"
      },
      "outputs": [],
      "source": [
        "response.prompt_feedback.safety_ratings"
      ]
    },
    {
      "cell_type": "markdown",
      "metadata": {
        "id": "72b4a8808bb9"
      },
      "source": [
        "如果提示被安全評分封鎖，你將不會在回應中獲得任何候選人：\n"
      ]
    },
    {
      "cell_type": "code",
      "execution_count": null,
      "metadata": {
        "id": "f20d9269325d"
      },
      "outputs": [],
      "source": [
        "response.candidates"
      ]
    },
    {
      "cell_type": "markdown",
      "metadata": {
        "id": "4672af98ac57"
      },
      "source": [
        "### 安全設定\n"
      ]
    },
    {
      "cell_type": "markdown",
      "metadata": {
        "id": "2a6229f6d3a1"
      },
      "source": [
        "調整安全設定，提示就不會再被封鎖。Gemini API 有四種可設定的安全設定。\n"
      ]
    },
    {
      "cell_type": "code",
      "execution_count": null,
      "metadata": {
        "id": "338fb9a6af78"
      },
      "outputs": [],
      "source": [
        "response = model.generate_content(\n",
        "    unsafe_prompt,\n",
        "    safety_settings={\n",
        "        'HATE': 'BLOCK_NONE',\n",
        "        'HARASSMENT': 'BLOCK_NONE',\n",
        "        'SEXUAL' : 'BLOCK_NONE',\n",
        "        'DANGEROUS' : 'BLOCK_NONE'\n",
        "    })"
      ]
    },
    {
      "cell_type": "markdown",
      "metadata": {
        "id": "86c560e0a641"
      },
      "source": [
        "有了新的設定，「blocked_reason」不再設定。\n"
      ]
    },
    {
      "cell_type": "code",
      "execution_count": null,
      "metadata": {
        "id": "0c2847c49262"
      },
      "outputs": [],
      "source": [
        "bool(response.prompt_feedback.block_reason)"
      ]
    },
    {
      "cell_type": "markdown",
      "metadata": {
        "id": "47298a4eef40"
      },
      "source": [
        "並回傳一個候選回覆。\n"
      ]
    },
    {
      "cell_type": "code",
      "execution_count": null,
      "metadata": {
        "id": "028febe8df68"
      },
      "outputs": [],
      "source": [
        "len(response.candidates)"
      ]
    },
    {
      "cell_type": "markdown",
      "metadata": {
        "id": "ujVlQoC43N3B"
      },
      "source": [
        "你可查看 `response.text` 以取得回應。\n"
      ]
    },
    {
      "cell_type": "code",
      "execution_count": null,
      "metadata": {
        "id": "de8ee74634af"
      },
      "outputs": [],
      "source": [
        "response.text"
      ]
    },
    {
      "cell_type": "markdown",
      "metadata": {
        "id": "3d401c247957"
      },
      "source": [
        "### 候選人評分\n"
      ]
    },
    {
      "cell_type": "markdown",
      "metadata": {
        "id": "3d306960dffb"
      },
      "source": [
        "對於沒有被封鎖的提示，回應物件會包含一個 `候選` 物件清單 (現在只有 1 個)。每個候選都包含一個完成原因：\n"
      ]
    },
    {
      "cell_type": "code",
      "execution_count": null,
      "metadata": {
        "id": "e49b53f69a2c"
      },
      "outputs": [],
      "source": [
        "candidate = response.candidates[0]\n",
        "candidate.finish_reason"
      ]
    },
    {
      "cell_type": "markdown",
      "metadata": {
        "id": "badddf10089b"
      },
      "source": [
        "`FinishReason.STOP` 指示模型在正常情況下完成其輸出。\n",
        "\n",
        "`FinishReason.SAFETY` 指示候選者的 `safety_ratings` 超過請求的 `safety_settings` 閾值。\n"
      ]
    },
    {
      "cell_type": "code",
      "execution_count": null,
      "metadata": {
        "id": "2b60d9f96af0"
      },
      "outputs": [],
      "source": [
        "candidate.safety_ratings"
      ]
    },
    {
      "cell_type": "markdown",
      "metadata": {
        "id": "n1UdbxVt3ysY"
      },
      "source": [
        "## 進階學習\n",
        "\n",
        "透過下列有關 [安全準則](https://ai.google.dev/docs/safety_guidance) 和 [安全設定](https://ai.google.dev/docs/safety_setting_gemini) 的文章瞭解更多。\n",
        "\n",
        "## 有用的 API 參考\n",
        "\n",
        "4 個可設定的 Gemini API 安全設定：\n",
        "\n",
        "* `HARM_CATEGORY_DANGEROUS`\n",
        "*`HARM_CATEGORY_HARASSMENT`\n",
        "* `HARM_CATEGORY_SEXUALLY_EXPLICIT`\n",
        "* `HARM_CATEGORY_DANGEROUS`\n",
        "\n",
        "注意：雖然 API [參考](https://ai.google.dev/api/python/google/ai/generativelanguage/HarmCategory) 包含其他，但其餘用於舊版模型。\n",
        "\n",
        "* 你可以使用完整名稱或別名 (例如上述 Python 程式碼中所使用的 `DANGEROUS`) 來參考安全設定。\n",
        "\n",
        "安全性設定可在 [genai.GenerativeModel](https://ai.google.dev/api/python/google/generativeai/GenerativeModel) 建構函式中設定。\n",
        "\n",
        "* 它們也可以在每個 [GenerativeModel.generate_content](https://ai.google.dev/api/python/google/generativeai/GenerativeModel#generate_content) 或 [ChatSession.send_message](https://ai.google.dev/api/python/google/generativeai/ChatSession?hl=en#send_message) 請求中傳遞。\n",
        "\n",
        "- [genai.GenerateContentResponse](https://ai.google.dev/api/python/google/ai/generativelanguage/GenerateContentResponse) 會傳回 [Prompt](https://ai.google.dev/api/python/google/ai/generativelanguage/Prompt) 的 [安全評級](https://ai.google.dev/api/python/google/ai/generativelanguage/SafetyRating)，並在 `safety_ratings` 屬性中傳回每個 [候選項目](https://ai.google.dev/api/python/google/ai/generativelanguage/Candidate) 的安全評級。\n",
        "\n",
        "- [glm.SafetySetting](https://ai.google.dev/api/python/google/ai/generativelanguage/SafetySetting) 包含：[glm.HarmCategory](https://ai.google.dev/api/python/google/ai/generativelanguage/HarmCategory) 和 [glm.HarmBlockThreshold](https://ai.google.dev/api/python/google/generativeai/types/HarmBlockThreshold)\n",
        "\n",
        "- [glm.SafetyRating](https://ai.google.dev/api/python/google/ai/generativelanguage/SafetyRating) 包含 [HarmCategory](https://ai.google.dev/api/python/google/ai/generativelanguage/HarmCategory) 和 [HarmProbability](https://ai.google.dev/api/python/google/generativeai/types/HarmProbability)\n",
        "\n",
        "[glm.HarmCategory](https://ai.google.dev/api/python/google/ai/generativelanguage/HarmCategory) 枚舉同時包含 PaLM 和 Gemini 模型的類別。\n",
        "\n",
        "- 在指定枚舉值時，SDK 將接受枚舉值本身，或它們的整數或字串表示。\n",
        "\n",
        "- SDK 也會接受縮寫字串表示：`[\"HARM_CATEGORY_DANGEROUS_CONTENT\", \"DANGEROUS_CONTENT\", \"DANGEROUS\"]` 全都合法。字串不分大小寫。\n"
      ]
    }
  ],
  "metadata": {
    "colab": {
      "toc_visible": true,
      "provenance": []
    },
    "google": {
      "image_path": "/static/site-assets/images/docs/logo-python.svg",
      "keywords": [
        "examples",
        "gemini",
        "beginner",
        "googleai",
        "quickstart",
        "python",
        "text",
        "chat",
        "vision",
        "embed"
      ]
    },
    "kernelspec": {
      "display_name": "Python 3",
      "name": "python3"
    }
  },
  "nbformat": 4,
  "nbformat_minor": 0
}