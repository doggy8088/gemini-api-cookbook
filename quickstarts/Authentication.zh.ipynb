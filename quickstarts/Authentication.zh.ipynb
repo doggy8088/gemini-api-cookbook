{
  "cells": [
    {
      "cell_type": "markdown",
      "metadata": {
        "id": "yeadDkMiISin"
      },
      "source": [
        "# Gemini API：快捷驗證\n"
      ]
    },
    {
      "cell_type": "markdown",
      "metadata": {
        "id": "lEXQ3OwKIa-O"
      },
      "source": [
        "<table align=\"left\">\n",
        "  <td>\n",
        "    <a target=\"_blank\" href=\"https://colab.research.google.com/github/doggy8088/gemini-api-cookbook/blob/main/quickstarts/Authentication.zh.ipynb\"><img src=\"https://www.tensorflow.org/images/colab_logo_32px.png\" />在 Google Colab 中執行</a>\n",
        "  </td>\n",
        "</table>\n"
      ]
    },
    {
      "cell_type": "markdown",
      "metadata": {
        "id": "df1767a3d1cc"
      },
      "source": [
        "Gemini API 使用 API 金鑰進行驗證。本筆記本會引導你建立一個 API 金鑰，並將其與 Python SDK 或類似 `curl` 的命令列工具一起使用。\n"
      ]
    },
    {
      "cell_type": "markdown",
      "metadata": {
        "id": "mhFKmRmxi5B-"
      },
      "source": [
        "## 建立 API 金鑰\n",
        "\n",
        "你可以使用 Google AI Studio 在單擊下 [建立](https://aistudio.google.com/app/apikey) 你的 API 金鑰。\n",
        "\n",
        "請記得將你的 API 金鑰視為密碼。請勿意外地將它儲存在你稍後提交到 GitHub 的筆記本或原始檔中。此筆記本展示了你可以安全儲存 API 金鑰的兩種方式。\n",
        "\n",
        "* 如果你是使用 Google Colab，我們建議你將你的金鑰儲存在 Colab Secrets 中。\n",
        "\n",
        "* 如果你是使用不同的開發環境 (或在你的終端機中透過 `cURL` 呼叫 Gemini API)，我們建議你將你的金鑰儲存在環境變數中。\n",
        "\n",
        "我們從 Colab Secrets 開始。\n"
      ]
    },
    {
      "cell_type": "markdown",
      "metadata": {
        "id": "dEoigYI9Jw_K"
      },
      "source": [
        "## 將你的金鑰加入 Colab Secrets\n",
        "\n",
        "將你的 API 金鑰加入 Colab Secrets 管理員以安全地儲存它。\n",
        "\n",
        "1. 開啟你的 Google Colab 筆記型電腦，並在左面板中按一下 🔑 **Secrets** 標籤。\n",
        "   \n",
        "   <img src=\"https://storage.googleapis.com/generativeai-downloads/images/secrets.jpg\" alt=\"Secrets 標籤位於左面板中\" width=50%>\n",
        "\n",
        "2. 建立一個名稱為 `GOOGLE_API_KEY` 的新秘密。\n",
        "3. 將你的 API 金鑰複製/貼上至 `GOOGLE_API_KEY` 的 `Value` 輸入方框中。\n",
        "4. 切換左邊的按鈕，以允許筆記型電腦取得秘密的存取權。\n"
      ]
    },
    {
      "cell_type": "markdown",
      "metadata": {
        "id": "jRY1eioF4gUB"
      },
      "source": [
        "## 安裝 Python SDK\n"
      ]
    },
    {
      "cell_type": "code",
      "execution_count": null,
      "metadata": {
        "id": "xuiLSV7amy3P"
      },
      "outputs": [],
      "source": [
        "!pip install -U -q google-generativeai"
      ]
    },
    {
      "cell_type": "markdown",
      "metadata": {
        "id": "3dw8ygh74mVc"
      },
      "source": [
        "## 使用 API 金鑰設定 SDK\n",
        "\n",
        "你會以 API 金鑰呼叫 `genai.configure`，但你不會將金鑰貼到筆記本中，而是從 Colab Secrets 中讀取它。\n"
      ]
    },
    {
      "cell_type": "code",
      "execution_count": null,
      "metadata": {
        "id": "DTl-qZp34sht"
      },
      "outputs": [],
      "source": [
        "import google.generativeai as genai\n",
        "from google.colab import userdata\n",
        "\n",
        "GOOGLE_API_KEY=userdata.get('GOOGLE_API_KEY')\n",
        "genai.configure(api_key=GOOGLE_API_KEY)"
      ]
    },
    {
      "cell_type": "markdown",
      "metadata": {
        "id": "tr7oAO6-nMsE"
      },
      "source": [
        "這樣就可以呼叫 Gemini API 了。\n"
      ]
    },
    {
      "cell_type": "code",
      "execution_count": null,
      "metadata": {
        "id": "n6sXnWrJoKoo"
      },
      "outputs": [],
      "source": [
        "model = genai.GenerativeModel('gemini-1.0-pro')\n",
        "response = model.generate_content(\"Please give me python code to sort a list.\")\n",
        "print(response.text)"
      ]
    },
    {
      "cell_type": "markdown",
      "metadata": {
        "id": "BTdQtZri1Brs"
      },
      "source": [
        "## 將你的金鑰儲存在環境變數中\n"
      ]
    },
    {
      "cell_type": "markdown",
      "metadata": {
        "id": "gZDX51Y27pN4"
      },
      "source": [
        "如果你使用的是其他開發環境 (或透過終端中的 `cURL` 呼叫 Gemini API)，我們建議你將金鑰儲存在環境變數中。\n",
        "\n",
        "如要將你的金鑰儲存在環境變數中，開啟終端並執行：\n",
        "\n",
        "```export GOOGLE_API_KEY=\"YOUR_API_KEY\"```\n",
        "\n",
        "如果你使用 Python，將這兩行新增至你的筆記本以讀取金鑰：\n",
        "\n",
        "```\n",
        "import os\n",
        "genai.configure(api_key=os.environ['GOOGLE_API_KEY'])\n",
        "```\n",
        "\n",
        "或者，如果你透過 `cURL` 使用終端呼叫 API，可以複製並貼上這段程式碼從環境變數中讀取金鑰。\n",
        "\n",
        "```\n",
        "curl https://generativelanguage.googleapis.com/v1beta/models/gemini-pro:generateContent?key=$API_KEY \\\n",
        "    -H 'Content-Type: application/json' \\\n",
        "    -X POST \\\n",
        "    -d '{\n",
        "      \"contents\": [{\n",
        "        \"parts\":[{\n",
        "          \"text\": \"請給我一段 Python 程式碼來排序一個清單。}]}]}'\n",
        "```\n"
      ]
    },
    {
      "cell_type": "markdown",
      "metadata": {
        "id": "CAOKOcax1xZY"
      },
      "source": [
        "## 進一步了解\n",
        "\n",
        "Gemini API 使用 API 金鑰進行大部分身分驗證類型，這也是你開始所需的一切。調整模型時，我們使用 OAuth 進行更進階的身分驗證。你可以在 [OAuth 快速入門](https://github.com/doggy8088/gemini-api-cookbook/blob/main/quickstarts/Authentication_with_OAuth.zh.ipynb)中進一步了解。\n"
      ]
    }
  ],
  "metadata": {
    "colab": {
      "name": "Authentication.ipynb",
      "toc_visible": true
    },
    "google": {
      "image_path": "/site-assets/images/share.png",
      "keywords": [
        "examples",
        "googleai",
        "samplecode",
        "python",
        "embed",
        "function"
      ]
    },
    "kernelspec": {
      "display_name": "Python 3",
      "name": "python3"
    }
  },
  "nbformat": 4,
  "nbformat_minor": 0
}