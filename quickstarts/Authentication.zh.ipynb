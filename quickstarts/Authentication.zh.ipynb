{
  "cells": [
    {
      "cell_type": "markdown",
      "metadata": {
        "id": "Tce3stUlHN0L"
      },
      "source": [
        "##### 版權所有 2024 Google LLC.\n"
      ]
    },
    {
      "cell_type": "code",
      "execution_count": null,
      "metadata": {
        "cellView": "form",
        "id": "tuOe1ymfHZPu"
      },
      "outputs": [],
      "source": [
        "# @title Licensed under the Apache License, Version 2.0 (the \"License\");\n",
        "# you may not use this file except in compliance with the License.\n",
        "# You may obtain a copy of the License at\n",
        "#\n",
        "# https://www.apache.org/licenses/LICENSE-2.0\n",
        "#\n",
        "# Unless required by applicable law or agreed to in writing, software\n",
        "# distributed under the License is distributed on an \"AS IS\" BASIS,\n",
        "# WITHOUT WARRANTIES OR CONDITIONS OF ANY KIND, either express or implied.\n",
        "# See the License for the specific language governing permissions and\n",
        "# limitations under the License."
      ]
    },
    {
      "cell_type": "markdown",
      "metadata": {
        "id": "yeadDkMiISin"
      },
      "source": [
        "# Gemini API：快速開始驗證\n"
      ]
    },
    {
      "cell_type": "markdown",
      "metadata": {
        "id": "lEXQ3OwKIa-O"
      },
      "source": [
        "<table align=\"left\">\n",
        "  <td>\n",
        "    <a target=\"_blank\" href=\"https://colab.research.google.com/github/doggy8088/gemini-api-cookbook/blob/zh-tw/quickstarts/Authentication.zh.ipynb\"><img src=\"https://www.tensorflow.org/images/colab_logo_32px.png\" />在 Google Colab 中執行</a>\n",
        "  </td>\n",
        "</table>\n"
      ]
    },
    {
      "cell_type": "markdown",
      "metadata": {
        "id": "df1767a3d1cc"
      },
      "source": [
        "Gemini API 使用 API 金鑰進行身份驗證。此筆記本會逐步引導你建立一個 API 金鑰，並使用它搭配 Python SDK 或類似 `curl` 的命令列工具。\n"
      ]
    },
    {
      "cell_type": "markdown",
      "metadata": {
        "id": "mhFKmRmxi5B-"
      },
      "source": [
        "## 建立 API 金鑰\n",
        "\n",
        "你只要點一下就能使用 Google AI Studio [建立](https://aistudio.google.com/app/apikey)你的 API 金鑰。\n",
        "\n",
        "請記住要將你的 API 金鑰視同密碼。請勿將它意外儲存在你稍後在 GitHub 中提交的筆記本或原始檔中。本筆記本示範了兩種能安全儲存 API 金鑰的方式。\n",
        "\n",
        "* 如果使用 Google Colab，建議將金鑰儲存在 Colab Secrets 中。\n",
        "\n",
        "* 如果使用不同開發環境 (或透過終端機中的 `cURL` 呼叫 Gemini API)，建議將金鑰儲存在環境變數中。\n",
        "\n",
        "我們先從 Colab Secrets 開始。\n"
      ]
    },
    {
      "cell_type": "markdown",
      "metadata": {
        "id": "dEoigYI9Jw_K"
      },
      "source": [
        "## 將你的金鑰加入 Colab Secrets\n",
        "\n",
        "將你的 API 金鑰新增至 Colab Secrets 管理員以安全儲存。\n",
        "\n",
        "1. 開啟你的 Google Colab 筆記本，並點選左側面板中的 🔑 **Secret** 標籤。\n",
        "\n",
        "   <img src=\"https://storage.googleapis.com/generativeai-downloads/images/secrets.jpg\" alt=\"Secrets 標籤位於左側面板。\" width=50%>\n",
        "\n",
        "2. 建立一個名稱為 `GOOGLE_API_KEY` 的新 Secret。\n",
        "3. 複製/貼上你的 API 金鑰到 `GOOGLE_API_KEY` 的 `Value` 輸入框中。\n",
        "4. 切換左側按鈕以允許筆記本存取 Secret。\n"
      ]
    },
    {
      "cell_type": "markdown",
      "metadata": {
        "id": "jRY1eioF4gUB"
      },
      "source": [
        "## 安裝Python SDK\n"
      ]
    },
    {
      "cell_type": "code",
      "execution_count": null,
      "metadata": {
        "id": "xuiLSV7amy3P"
      },
      "outputs": [],
      "source": [
        "!pip install -U -q google-generativeai"
      ]
    },
    {
      "cell_type": "markdown",
      "metadata": {
        "id": "3dw8ygh74mVc"
      },
      "source": [
        "## 使用金鑰設定 SDK\n",
        "\n",
        "你將使用你的 API 金鑰呼叫 `genai.configure`，但不要將你的金鑰貼到筆記本中，你將會從 Colab Secrets 讀取它。\n"
      ]
    },
    {
      "cell_type": "code",
      "execution_count": null,
      "metadata": {
        "id": "DTl-qZp34sht"
      },
      "outputs": [],
      "source": [
        "import google.generativeai as genai\n",
        "from google.colab import userdata\n",
        "\n",
        "GOOGLE_API_KEY=userdata.get('GOOGLE_API_KEY')\n",
        "genai.configure(api_key=GOOGLE_API_KEY)"
      ]
    },
    {
      "cell_type": "markdown",
      "metadata": {
        "id": "tr7oAO6-nMsE"
      },
      "source": [
        "這樣就完成了！現在你可以呼叫 Gemini API。\n"
      ]
    },
    {
      "cell_type": "code",
      "execution_count": null,
      "metadata": {
        "id": "n6sXnWrJoKoo"
      },
      "outputs": [],
      "source": [
        "model = genai.GenerativeModel('gemini-1.0-pro')\n",
        "response = model.generate_content(\"Please give me python code to sort a list.\")\n",
        "print(response.text)"
      ]
    },
    {
      "cell_type": "markdown",
      "metadata": {
        "id": "BTdQtZri1Brs"
      },
      "source": [
        "## 將你的金鑰儲存在環境變數中\n"
      ]
    },
    {
      "cell_type": "markdown",
      "metadata": {
        "id": "gZDX51Y27pN4"
      },
      "source": [
        "如果使用不同的開發環境 (或在終端機中透過 `cURL` 呼叫 Gemini API)，建議在環境變數中儲存金鑰。\n",
        "\n",
        "若要在環境變數中儲存金鑰，開啟終端機並執行：\n",
        "\n",
        "```export GOOGLE_API_KEY=\"YOUR_API_KEY\"```\n",
        "\n",
        "如果正在使用 Python，請在筆記本中新增以下兩行以讀取金鑰：\n",
        "\n",
        "```\n",
        "import os\n",
        "genai.configure(api_key=os.environ['GOOGLE_API_KEY'])\n",
        "```\n",
        "\n",
        "或者，如果你透過 `cURL` 使用終端機呼叫 API，你可以複製並貼上此程式碼，以從環境變數中讀取金鑰。\n",
        "\n",
        "```\n",
        "curl \"https://generativelanguage.googleapis.com/v1beta/models/gemini-pro:generateContent?key=$API_KEY\" \\\n",
        "    -H 'Content-Type: application/json' \\\n",
        "    -X POST \\\n",
        "    -d '{\n",
        "      \"contents\": [{\n",
        "        \"parts\":[{\n",
        "          \"text\": \"請給我 Python 程式碼，用於對清單排序。\"}]}]}'\n",
        "```\n"
      ]
    },
    {
      "cell_type": "markdown",
      "metadata": {
        "id": "CAOKOcax1xZY"
      },
      "source": [
        "## 進一步了解\n",
        "\n",
        "Gemini API 使用 API 金鑰進行大部份類型的驗證，這就是開始所需的一切。我們在調整模型時，會使用 OAuth 進行更進階的驗證。你可以在 [OAuth 快速入門](https://github.com/google-gemini/cookbook/blob/main/quickstarts/Authentication_with_OAuth.ipynb) 中進一步了解此部分資訊。\n"
      ]
    }
  ],
  "metadata": {
    "colab": {
      "name": "Authentication.ipynb",
      "toc_visible": true
    },
    "google": {
      "image_path": "/site-assets/images/share.png",
      "keywords": [
        "examples",
        "googleai",
        "samplecode",
        "python",
        "embed",
        "function"
      ]
    },
    "kernelspec": {
      "display_name": "Python 3",
      "name": "python3"
    }
  },
  "nbformat": 4,
  "nbformat_minor": 0
}