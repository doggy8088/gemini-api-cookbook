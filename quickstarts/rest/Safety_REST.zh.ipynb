{
  "cells": [
    {
      "cell_type": "markdown",
      "metadata": {
        "id": "yeadDkMiISin"
      },
      "source": [
        "# Gemini API: 安全快速指南\n"
      ]
    },
    {
      "cell_type": "markdown",
      "metadata": {
        "id": "lEXQ3OwKIa-O"
      },
      "source": [
        "<table align=\"left\">\n",
        "  <td>\n",
        "    <a target=\"_blank\" href=\"https://colab.research.google.com/github/doggy8088/gemini-api-cookbook/blob/main/quickstarts/Safety.zh.ipynb\"><img src=\"https://www.tensorflow.org/images/colab_logo_32px.png\" />在 Google Colab 中執行</a>\n",
        "  </td>\n",
        "</table>\n"
      ]
    },
    {
      "cell_type": "markdown",
      "metadata": {
        "id": "uOxMUKTxR-_j"
      },
      "source": [
        "Gemini API 具有可調整的安全設定。本筆記本將逐步指導你如何使用這些設定。你將會撰寫一個遭到封鎖的提示，找出原因，然後調整篩選器以解鎖提示。\n",
        "\n",
        "安全性是一個重要的主題，你可以前往本筆記本結尾處的連結了解更多資訊。本文著重於程式碼。\n"
      ]
    },
    {
      "cell_type": "markdown",
      "metadata": {
        "id": "gHYFrFPjSGNq"
      },
      "source": [
        "## 設定你的 API 金鑰\n",
        "\n",
        "如果你想快速試用 Gemini API，可以使用 `curl` 指令呼叫 REST API 中的方法。\n",
        "\n",
        "這個筆記本包含可在 Google Colab 中執行的 `curl` 指令，或複製到你的終端機。\n",
        "\n",
        "要執行這個筆記本，你的 API 金鑰必須儲存在名為 GOOGLE_API_KEY 的 Colab 密碼中。如果你在不同的環境中執行，可以將你的金鑰儲存在環境變數中。請參閱 [驗證](https://github.com/doggy8088/gemini-api-cookbook/blob/main/quickstarts/Authentication.zh.ipynb) 以了解詳情。\n"
      ]
    },
    {
      "cell_type": "code",
      "execution_count": null,
      "metadata": {
        "id": "405ee147f509"
      },
      "outputs": [],
      "source": [
        "!apt install jq"
      ]
    },
    {
      "cell_type": "code",
      "execution_count": null,
      "metadata": {
        "id": "ab9ASynfcIZn"
      },
      "outputs": [],
      "source": [
        "import os\n",
        "from google.colab import userdata"
      ]
    },
    {
      "cell_type": "code",
      "execution_count": null,
      "metadata": {
        "id": "7b547b1d5cad"
      },
      "outputs": [],
      "source": [
        "os.environ['GOOGLE_API_KEY'] = userdata.get('GOOGLE_API_KEY')"
      ]
    },
    {
      "cell_type": "code",
      "execution_count": 108,
      "metadata": {
        "id": "3defec89594e"
      },
      "outputs": [],
      "source": [
        "os.environ['UNSAFE_PROMPT'] = "
      ]
    },
    {
      "cell_type": "markdown",
      "metadata": {
        "id": "LZfoK3I3hu6V"
      },
      "source": [
        "## 提示回饋\n",
        "\n",
        "[Model.generate_content](https://ai.google.dev/api/python/google/generativeai/GenerativeModel#generate_content) 方法回傳的結果為 [genai.GenerateContentResponse](https://ai.google.dev/api/python/google/generativeai/types/GenerateContentResponse)。\n"
      ]
    },
    {
      "cell_type": "code",
      "execution_count": 109,
      "metadata": {
        "id": "6d9e5d84541c"
      },
      "outputs": [],
      "source": [
        "%%bash\n",
        "echo '{\n",
        "      \"contents\": [{\n",
        "        \"parts\":[{\n",
        "          \"text\": \"'$UNSAFE_PROMPT'\"}]}]}' > request.json"
      ]
    },
    {
      "cell_type": "code",
      "execution_count": 114,
      "metadata": {
        "id": "2bcfnGEviwTI"
      },
      "outputs": [
        {
          "name": "stdout",
          "output_type": "stream",
          "text": [
            "{\n",
            "  \"promptFeedback\": {\n",
            "    \"blockReason\": \"SAFETY\",\n",
            "    \"safetyRatings\": [\n",
            "      {\n",
            "        \"category\": \"HARM_CATEGORY_SEXUALLY_EXPLICIT\",\n",
            "        \"probability\": \"NEGLIGIBLE\"\n",
            "      },\n",
            "      {\n",
            "        \"category\": \"HARM_CATEGORY_HATE_SPEECH\",\n",
            "        \"probability\": \"NEGLIGIBLE\"\n",
            "      },\n",
            "      {\n",
            "        \"category\": \"HARM_CATEGORY_HARASSMENT\",\n",
            "        \"probability\": \"MEDIUM\"\n",
            "      },\n",
            "      {\n",
            "        \"category\": \"HARM_CATEGORY_DANGEROUS_CONTENT\",\n",
            "        \"probability\": \"NEGLIGIBLE\"\n",
            "      }\n",
            "    ]\n",
            "  }\n",
            "}\n"
          ]
        }
      ],
      "source": [
        "%%bash\n",
        "\n",
        "curl https://generativelanguage.googleapis.com/v1beta/models/gemini-pro:generateContent?key=$GOOGLE_API_KEY \\\n",
        "    -H 'Content-Type: application/json' \\\n",
        "    -X POST \\\n",
        "    -d @request.json  2> /dev/null | tee response.json"
      ]
    },
    {
      "cell_type": "markdown",
      "metadata": {
        "id": "WR_2A_sxk8sK"
      },
      "source": [
        "在上方你可以看到回應物件以兩種方式給你關於提示的安全回饋：\n",
        "\n",
        "* `prompt_feedback.safety_ratings` 屬性包含一個列表，列出輸入提示的安全評分。\n",
        "* 如果你的提示遭到封鎖，`prompt_feedback.block_reason` 欄位將會說明原因。\n"
      ]
    },
    {
      "cell_type": "markdown",
      "metadata": {
        "id": "72b4a8808bb9"
      },
      "source": [
        "如果提示會因為安全評級而被封鎖，你在回應中不會取得任何候選人。\n"
      ]
    },
    {
      "cell_type": "markdown",
      "metadata": {
        "id": "4672af98ac57"
      },
      "source": [
        "### 安全設定\n"
      ]
    },
    {
      "cell_type": "markdown",
      "metadata": {
        "id": "2a6229f6d3a1"
      },
      "source": [
        "調整安全設定和提示不再被封鎖：\n"
      ]
    },
    {
      "cell_type": "code",
      "execution_count": 134,
      "metadata": {
        "id": "9c38561789c2"
      },
      "outputs": [],
      "source": [
        "%%bash\n",
        "echo '{\n",
        "    \"safetySettings\": [\n",
        "        {'category': 7, 'threshold': 4}\n",
        "    ],\n",
        "    \"contents\": [{\n",
        "        \"parts\":[{\n",
        "          \"text\": \"'$UNSAFE_PROMPT'\"}]}]}' > request.json"
      ]
    },
    {
      "cell_type": "code",
      "execution_count": 143,
      "metadata": {
        "id": "338fb9a6af78"
      },
      "outputs": [],
      "source": [
        "%%bash\n",
        "\n",
        "curl https://generativelanguage.googleapis.com/v1beta/models/gemini-pro:generateContent?key=$GOOGLE_API_KEY \\\n",
        "    -H 'Content-Type: application/json' \\\n",
        "    -X POST \\\n",
        "    -d @request.json  2> /dev/null > response.json"
      ]
    },
    {
      "cell_type": "markdown",
      "metadata": {
        "id": "86c560e0a641"
      },
      "source": [
        "有了新的設定，「blocked_reason」不再設定。\n"
      ]
    },
    {
      "cell_type": "code",
      "execution_count": 147,
      "metadata": {
        "id": "0c2847c49262"
      },
      "outputs": [
        {
          "name": "stdout",
          "output_type": "stream",
          "text": [
            "{\n",
            "  \"safetyRatings\": [\n",
            "    {\n",
            "      \"category\": \"HARM_CATEGORY_SEXUALLY_EXPLICIT\",\n",
            "      \"probability\": \"NEGLIGIBLE\"\n",
            "    },\n",
            "    {\n",
            "      \"category\": \"HARM_CATEGORY_HATE_SPEECH\",\n",
            "      \"probability\": \"NEGLIGIBLE\"\n",
            "    },\n",
            "    {\n",
            "      \"category\": \"HARM_CATEGORY_HARASSMENT\",\n",
            "      \"probability\": \"MEDIUM\"\n",
            "    },\n",
            "    {\n",
            "      \"category\": \"HARM_CATEGORY_DANGEROUS_CONTENT\",\n",
            "      \"probability\": \"NEGLIGIBLE\"\n",
            "    }\n",
            "  ]\n",
            "}\n"
          ]
        }
      ],
      "source": [
        "%%bash \n",
        "\n",
        "jq .promptFeedback < response.json"
      ]
    },
    {
      "cell_type": "markdown",
      "metadata": {
        "id": "47298a4eef40"
      },
      "source": [
        "並回傳一個候選回覆。\n"
      ]
    },
    {
      "cell_type": "code",
      "execution_count": null,
      "metadata": {
        "id": "028febe8df68"
      },
      "outputs": [],
      "source": [
        "%%bash \n",
        "\n",
        "jq .candidates[0].content.parts[].text < response.json"
      ]
    },
    {
      "cell_type": "markdown",
      "metadata": {
        "id": "ujVlQoC43N3B"
      },
      "source": [
        "你可查看 `response.text` 以取得回應。\n"
      ]
    },
    {
      "cell_type": "markdown",
      "metadata": {
        "id": "3d401c247957"
      },
      "source": [
        "### 候選人評分\n"
      ]
    },
    {
      "cell_type": "markdown",
      "metadata": {
        "id": "3d306960dffb"
      },
      "source": [
        "對於沒有被封鎖的提示，回應物件會包含一個 `候選` 物件清單 (現在只有 1 個)。每個候選都包含一個完成原因：\n"
      ]
    },
    {
      "cell_type": "code",
      "execution_count": 157,
      "metadata": {
        "id": "e49b53f69a2c"
      },
      "outputs": [
        {
          "name": "stdout",
          "output_type": "stream",
          "text": [
            "\"STOP\"\n"
          ]
        }
      ],
      "source": [
        "%%bash\n",
        "jq .candidates[0].finishReason < response.json"
      ]
    },
    {
      "cell_type": "markdown",
      "metadata": {
        "id": "badddf10089b"
      },
      "source": [
        "`FinishReason.STOP` 指示模型在正常情況下完成其輸出。\n",
        "\n",
        "`FinishReason.SAFETY` 指示候選者的 `safety_ratings` 超過請求的 `safety_settings` 閾值。\n"
      ]
    },
    {
      "cell_type": "code",
      "execution_count": 158,
      "metadata": {
        "id": "2b60d9f96af0"
      },
      "outputs": [
        {
          "name": "stdout",
          "output_type": "stream",
          "text": [
            "[\n",
            "  {\n",
            "    \"category\": \"HARM_CATEGORY_SEXUALLY_EXPLICIT\",\n",
            "    \"probability\": \"NEGLIGIBLE\"\n",
            "  },\n",
            "  {\n",
            "    \"category\": \"HARM_CATEGORY_HATE_SPEECH\",\n",
            "    \"probability\": \"NEGLIGIBLE\"\n",
            "  },\n",
            "  {\n",
            "    \"category\": \"HARM_CATEGORY_HARASSMENT\",\n",
            "    \"probability\": \"NEGLIGIBLE\"\n",
            "  },\n",
            "  {\n",
            "    \"category\": \"HARM_CATEGORY_DANGEROUS_CONTENT\",\n",
            "    \"probability\": \"NEGLIGIBLE\"\n",
            "  }\n",
            "]\n"
          ]
        }
      ],
      "source": [
        "%%bash\n",
        "jq .candidates[0].safetyRatings < response.json"
      ]
    },
    {
      "cell_type": "markdown",
      "metadata": {
        "id": "n1UdbxVt3ysY"
      },
      "source": [
        "## 進一步學習\n",
        "\n",
        "閱讀這些關於 [安全指南](https://ai.google.dev/docs/safety_guidance) 和 [安全設定](https://ai.google.dev/docs/safety_setting_gemini) 的文章，深入了解。\n",
        "\n",
        "## 有用的 API 參考\n",
        "\n",
        "- 安全設定可以在 [genai.GenerativeModel](https://ai.google.dev/api/python/google/generativeai/GenerativeModel) 建構函式中設定。它們也可以傳遞在每個 [GenerativeModel.generate_content](https://ai.google.dev/api/python/google/generativeai/GenerativeModel#generate_content) 或 [ChatSession.send_message](https://ai.google.dev/api/python/google/generativeai/ChatSession?hl=en#send_message) 要求中。\n",
        "- [genai.GenerateContentResponse](https://ai.google.dev/api/python/google/ai/generativelanguage/GenerateContentResponse) 會回傳 [SafetyRatings](https://ai.google.dev/api/python/google/ai/generativelanguage/SafetyRating) 給 [GenerateContentResponse.prompt_feedback](https://ai.google.dev/api/python/google/ai/generativelanguage/GenerateContentResponse/PromptFeedback) 中的提示，以及 `safety_ratings` 屬性中每個 [Candidate](https://ai.google.dev/api/python/google/ai/generativelanguage/Candidate)。\n",
        "- [glm.SafetySetting](https://ai.google.dev/api/python/google/ai/generativelanguage/SafetySetting) 包含： [glm.HarmCategory](https://ai.google.dev/api/python/google/ai/generativelanguage/HarmCategory) 和 [glm.HarmBlockThreshold](https://ai.google.dev/api/python/google/generativeai/types/HarmBlockThreshold)\n",
        "- [glm.SafetyRating](https://ai.google.dev/api/python/google/ai/generativelanguage/SafetyRating) 包含 [HarmCategory](https://ai.google.dev/api/python/google/ai/generativelanguage/HarmCategory) 和 [HarmProbability](https://ai.google.dev/api/python/google/generativeai/types/HarmProbability)\n",
        "- [glm.HarmCategory](https://ai.google.dev/api/python/google/ai/generativelanguage/HarmCategory) 列舉值包含 PaLM 和 Gemini 型號的類別。Gemini 型號允許的值為 `[7,8,9,10]`: `[HARM_CATEGORY_HARASSMENT, HARM_CATEGORY_HATE_SPEECH, HARM_CATEGORY_SEXUALLY_EXPLICIT, HARM_CATEGORY_DANGEROUS_CONTENT]`.\n",
        "- 在指定列舉值時，SDK 會接受列舉值本身，或它們的整數或字串表示形式。SKD 也會接受縮寫的字串表示形式：`[\"HARM_CATEGORY_DANGEROUS_CONTENT\", \"DANGEROUS_CONTENT\", \"DANGEROUS\"]` 都是有效的。字串不分大小寫。\n"
      ]
    }
  ],
  "metadata": {
    "colab": {
      "name": "Safety_REST.ipynb",
      "toc_visible": true
    },
    "google": {
      "image_path": "/static/site-assets/images/docs/logo-python.svg",
      "keywords": [
        "examples",
        "gemini",
        "beginner",
        "googleai",
        "quickstart",
        "python",
        "text",
        "chat",
        "vision",
        "embed"
      ]
    },
    "kernelspec": {
      "display_name": "Python 3",
      "name": "python3"
    }
  },
  "nbformat": 4,
  "nbformat_minor": 0
}