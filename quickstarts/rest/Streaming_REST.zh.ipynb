{
  "cells": [
    {
      "cell_type": "markdown",
      "metadata": {
        "id": "b9nJzRUxezMZ"
      },
      "source": [
        "# Gemini API: REST 串流快速入門\n"
      ]
    },
    {
      "cell_type": "markdown",
      "metadata": {
        "id": "c86847414779"
      },
      "source": [
        "<table align=\"left\">\n",
        "  <td>\n",
        "    <a target=\"_blank\" href=\"https://colab.research.google.com/github/doggy8088/gemini-api-cookbook/blob/main/quickstarts/rest/Streaming_REST.zh.ipynb\"><img src=\"https://www.tensorflow.org/images/colab_logo_32px.png\" />在 Google Colab 中執行</a>\n",
        "  </td>\n",
        "</table>\n"
      ]
    },
    {
      "cell_type": "markdown",
      "metadata": {
        "id": "651ff3039fc8"
      },
      "source": [
        "如果你想要快速試用 Gemini API，可以使用 `curl` 指令呼叫 REST API 中的方法。\n",
        "\n",
        "這個筆記本包含你可以在 Google Colab 執行，或複製到你的終端的 `curl` 指令。\n",
        "\n",
        "為了執行這個筆記本，你的 API 金鑰必須儲存在 GOOGLE_API_KEY 這個 Colab Secret 中。如果你在其他環境執行，你可以將你的金鑰儲存在環境變數中。請參閱 [驗證](https://github.com/doggy8088/gemini-api-cookbook/blob/main/quickstarts/Authentication.zh.ipynb) 以進一步了解。\n"
      ]
    },
    {
      "cell_type": "code",
      "execution_count": null,
      "metadata": {
        "id": "kdNfwWxaewah"
      },
      "outputs": [],
      "source": [
        "import os\n",
        "from google.colab import userdata"
      ]
    },
    {
      "cell_type": "code",
      "execution_count": null,
      "metadata": {
        "id": "8zRWJLPEe6MD"
      },
      "outputs": [],
      "source": [
        "os.environ['GOOGLE_API_KEY'] = userdata.get('GOOGLE_API_KEY')"
      ]
    },
    {
      "cell_type": "markdown",
      "metadata": {
        "id": "InqXD9BZe_-I"
      },
      "source": [
        "### 串流產生內容\n",
        "\n",
        "預設情況下，模型會在完成整個產生程序後回傳回應內容。你可以透過不等待整個結果產生，而是使用串流處理部分結果來實現更快的互動。\n",
        "\n",
        "**重要事項** ：在執行 cURL 命令時，請在 URL 參數中設定 `alt=sse` (下方為 `streamGenerateContent?<strong>alt=sse</string>`)。使用 `sse` 參數時，每個串流區塊會是一個 `candidates[0].content.parts[0].text` 中有一部分文字輸出的 [GenerateContentResponse](https://ai.google.dev/api/rest/v1beta/GenerateContentResponse) 物件。若不使用 `sse`，則會將其作為 s\n"
      ]
    },
    {
      "cell_type": "code",
      "execution_count": null,
      "metadata": {
        "id": "FN99wX6ye_dt"
      },
      "outputs": [
        {
          "name": "stdout",
          "output_type": "stream",
          "text": [
            "data: {\"candidates\": [{\"content\": {\"parts\": [{\"text\": \"In the quaint, sunlit cottage nestled amidst a lush meadow, resided two feline\"}],\"role\": \"model\"},\"finishReason\": \"STOP\",\"index\": 0,\"safetyRatings\": [{\"category\": \"HARM_CATEGORY_SEXUALLY_EXPLICIT\",\"probability\": \"NEGLIGIBLE\"},{\"category\": \"HARM_CATEGORY_HATE_SPEECH\",\"probability\": \"NEGLIGIBLE\"},{\"category\": \"HARM_CATEGORY_HARASSMENT\",\"probability\": \"NEGLIGIBLE\"},{\"category\": \"HARM_CATEGORY_DANGEROUS_CONTENT\",\"probability\": \"NEGLIGIBLE\"}]}],\"promptFeedback\": {\"safetyRatings\": [{\"category\": \"HARM_CATEGORY_SEXUALLY_EXPLICIT\",\"probability\": \"NEGLIGIBLE\"},{\"category\": \"HARM_CATEGORY_HATE_SPEECH\",\"probability\": \"NEGLIGIBLE\"},{\"category\": \"HARM_CATEGORY_HARASSMENT\",\"probability\": \"NEGLIGIBLE\"},{\"category\": \"HARM_CATEGORY_DANGEROUS_CONTENT\",\"probability\": \"NEGLIGIBLE\"}]}}\r\n",
            "\n",
            "data: {\"candidates\": [{\"content\": {\"parts\": [{\"text\": \" companions named Mittens and Whiskers. Mittens, with her silky black fur and piercing green eyes, possessed an air of elegance and mystery. Whiskers,\"}],\"role\": \"model\"},\"finishReason\": \"STOP\",\"index\": 0,\"safetyRatings\": [{\"category\": \"HARM_CATEGORY_SEXUALLY_EXPLICIT\",\"probability\": \"NEGLIGIBLE\"},{\"category\": \"HARM_CATEGORY_HATE_SPEECH\",\"probability\": \"NEGLIGIBLE\"},{\"category\": \"HARM_CATEGORY_HARASSMENT\",\"probability\": \"NEGLIGIBLE\"},{\"category\": \"HARM_CATEGORY_DANGEROUS_CONTENT\",\"probability\": \"NEGLIGIBLE\"}]}]}\n",
            "\n",
            "data: {\"candidates\": [{\"content\": {\"parts\": [{\"text\": \" on the other hand, was a playful and mischievous white tomcat with a penchant for chasing his tail.\\n\\nOne lazy afternoon, as the sun cast long shadows across the meadow, Mittens and Whiskers found themselves lounging comfortably in the windowsill. The warm breeze carried the scent of blooming wildflowers, filling the room with\"}],\"role\": \"model\"},\"finishReason\": \"STOP\",\"index\": 0,\"safetyRatings\": [{\"category\": \"HARM_CATEGORY_SEXUALLY_EXPLICIT\",\"probability\": \"NEGLIGIBLE\"},{\"category\": \"HARM_CATEGORY_HATE_SPEECH\",\"probability\": \"NEGLIGIBLE\"},{\"category\": \"HARM_CATEGORY_HARASSMENT\",\"probability\": \"NEGLIGIBLE\"},{\"category\": \"HARM_CATEGORY_DANGEROUS_CONTENT\",\"probability\": \"NEGLIGIBLE\"}]}]}\n",
            "\n",
            "data: {\"candidates\": [{\"content\": {\"parts\": [{\"text\": \" a sweet fragrance.\\n\\n\\\"My, what a lovely day it is,\\\" Mittens purred contently. \\\"I could stay here forever, basking in the sunshine.\\\"\\n\\n\\\"Oh, come on, Mittens!\\\" Whiskers exclaimed, his tail twitching with excitement. \\\"Let's go on an adventure!\\\"\\n\\nWith a reluctant sigh, Mittens agreed. Together, they leaped from the windowsill and landed gracefully in the long grass.\\n\\nAs they explored the meadow, they encountered a family of fluffy bunnies hopping merrily through the daisies. Whiskers couldn't resist chasing after them, his whiskers twitching with glee.\"}],\"role\": \"model\"},\"finishReason\": \"STOP\",\"index\": 0,\"safetyRatings\": [{\"category\": \"HARM_CATEGORY_SEXUALLY_EXPLICIT\",\"probability\": \"NEGLIGIBLE\"},{\"category\": \"HARM_CATEGORY_HATE_SPEECH\",\"probability\": \"NEGLIGIBLE\"},{\"category\": \"HARM_CATEGORY_HARASSMENT\",\"probability\": \"NEGLIGIBLE\"},{\"category\": \"HARM_CATEGORY_DANGEROUS_CONTENT\",\"probability\": \"NEGLIGIBLE\"}]}]}\n",
            "\n",
            "data: {\"candidates\": [{\"content\": {\"parts\": [{\"text\": \" Mittens, however, took a more leisurely approach, stopping to admire the vibrant wildflowers.\\n\\nSuddenly, their peaceful adventure was interrupted by the sound of a loud crash. They turned in alarm and saw that a large branch had fallen from a nearby tree, blocking the path.\\n\\n\\\"Oh no!\\\" Mittens cried in dismay. \\\"We're trapped!\\\"\\n\\nWhiskers, with his usual optimism, said, \\\"Don't worry, Mittens. I have a plan.\\\"\\n\\nSwiftly, he scurried up the trunk of the tree and used his sharp claws to dislodge the branch. With a mighty shove, he sent it crashing to the ground, clearing the way.\\n\\nMittens was overjoyed. \\\"Thank you, Whiskers!\\\" she said, purring. \\\"You saved the day.\\\"\\n\\nTogether, they continued their adventure, their bond strengthened by their shared experience. As the sun began to set, they made their way back to the cottage, tired but content.\\n\\nFrom that day forward, Mittens and Whiskers became known as the \\\"冒险伙伴\\\" (Adventure Buddies) of the meadow, their legend passed down through generations of kittens. And so, in that quaint little cottage, they lived happily ever after, their love for each\"}],\"role\": \"model\"},\"finishReason\": \"STOP\",\"index\": 0,\"safetyRatings\": [{\"category\": \"HARM_CATEGORY_SEXUALLY_EXPLICIT\",\"probability\": \"NEGLIGIBLE\"},{\"category\": \"HARM_CATEGORY_HATE_SPEECH\",\"probability\": \"NEGLIGIBLE\"},{\"category\": \"HARM_CATEGORY_HARASSMENT\",\"probability\": \"NEGLIGIBLE\"},{\"category\": \"HARM_CATEGORY_DANGEROUS_CONTENT\",\"probability\": \"NEGLIGIBLE\"}]}]}\n",
            "\n",
            "data: {\"candidates\": [{\"content\": {\"parts\": [{\"text\": \" other and for adventure stronger than ever.\"}],\"role\": \"model\"},\"finishReason\": \"STOP\",\"index\": 0,\"safetyRatings\": [{\"category\": \"HARM_CATEGORY_SEXUALLY_EXPLICIT\",\"probability\": \"NEGLIGIBLE\"},{\"category\": \"HARM_CATEGORY_HATE_SPEECH\",\"probability\": \"NEGLIGIBLE\"},{\"category\": \"HARM_CATEGORY_HARASSMENT\",\"probability\": \"NEGLIGIBLE\"},{\"category\": \"HARM_CATEGORY_DANGEROUS_CONTENT\",\"probability\": \"NEGLIGIBLE\"}]}]}\n",
            "\n"
          ]
        }
      ],
      "source": [
        "!curl \"https://generativelanguage.googleapis.com/v1beta/models/gemini-pro:streamGenerateContent?alt=sse&key=${GOOGLE_API_KEY}\" \\\n",
        "        -H 'Content-Type: application/json' \\\n",
        "        --no-buffer \\\n",
        "        -d '{ \"contents\":[{\"parts\":[{\"text\": \"Write a cute story about cats.\"}]}]}'"
      ]
    },
    {
      "cell_type": "markdown",
      "metadata": {
        "id": "1zxcwRaDfH_h"
      },
      "source": [
        "**請注意** ：你需要一個串流 json 解析器來處理這件事，而無需先讀取整個串流。\n"
      ]
    }
  ],
  "metadata": {
    "colab": {
      "name": "Streaming_REST.ipynb",
      "toc_visible": true
    },
    "kernelspec": {
      "display_name": "Python 3",
      "name": "python3"
    }
  },
  "nbformat": 4,
  "nbformat_minor": 0
}