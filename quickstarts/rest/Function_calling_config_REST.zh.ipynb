{
  "cells": [
    {
      "cell_type": "markdown",
      "metadata": {
        "id": "Tce3stUlHN0L"
      },
      "source": [
        "##### 版權所有 2024 Google LLC.\n"
      ]
    },
    {
      "cell_type": "code",
      "execution_count": null,
      "metadata": {
        "cellView": "form",
        "id": "tuOe1ymfHZPu"
      },
      "outputs": [],
      "source": [
        "# @title Licensed under the Apache License, Version 2.0 (the \"License\");\n",
        "# you may not use this file except in compliance with the License.\n",
        "# You may obtain a copy of the License at\n",
        "#\n",
        "# https://www.apache.org/licenses/LICENSE-2.0\n",
        "#\n",
        "# Unless required by applicable law or agreed to in writing, software\n",
        "# distributed under the License is distributed on an \"AS IS\" BASIS,\n",
        "# WITHOUT WARRANTIES OR CONDITIONS OF ANY KIND, either express or implied.\n",
        "# See the License for the specific language governing permissions and\n",
        "# limitations under the License."
      ]
    },
    {
      "cell_type": "markdown",
      "metadata": {
        "id": "Jfj-4AdKHjJI"
      },
      "source": [
        "# Gemini API：REST Function 呼叫設定\n",
        "\n",
        "<table align=\"left\">\n",
        "  <td>\n",
        "    <a target=\"_blank\" href=\"https://colab.research.google.com/github/doggy8088/gemini-api-cookbook/blob/zh-tw/quickstarts/rest/Function_calling_config_REST.zh.ipynb\"><img src=\"https://www.tensorflow.org/images/colab_logo_32px.png\" />在 Google Colab 中執行</a>\n",
        "  </td>\n",
        "</table>\n"
      ]
    },
    {
      "cell_type": "markdown",
      "metadata": {
        "id": "tV_jXDT0IrfK"
      },
      "source": [
        "指定 `function_calling_config` 可讓你控制當指定 `tools` 時，Gemini API 如何作用。例如，你可以選擇僅允許自由文字輸出 (停用函式呼叫)、強制它從 `tools` 中提供的函式子集選擇，或讓它自動作用。\n",
        "\n",
        "本指南假設你已熟悉函式呼叫。如需入門，請查看 [REST 函式呼叫](./Function_calling_REST.ipynb) 食譜。\n"
      ]
    },
    {
      "cell_type": "markdown",
      "metadata": {
        "id": "CYi9bLkjI8NJ"
      },
      "source": [
        "此筆記本提供快速的程式碼範例，讓你了解如何使用 `curl` 開始函式呼叫。\n",
        "\n",
        "你可以在 Google Colab 中執行此操作，或將 `curl` 指令複製/貼到終端機中。\n",
        "\n",
        "若要執行此筆記本，你的 API 金鑰必須儲存在名為 `GOOGLE_API_KEY` 的 Colab 機密中。如果你在其他環境中執行，則可以將金鑰儲存在環境變數中。請參閱 [驗證](https://github.com/google-gemini/cookbook/blob/main/quickstarts/Authentication.ipynb) 以瞭解更多資訊。\n"
      ]
    },
    {
      "cell_type": "code",
      "execution_count": null,
      "metadata": {
        "id": "M0O2o_tMHeo8"
      },
      "outputs": [],
      "source": [
        "import os\n",
        "from google.colab import userdata\n",
        "\n",
        "os.environ['GOOGLE_API_KEY'] = userdata.get('GOOGLE_API_KEY')"
      ]
    },
    {
      "cell_type": "markdown",
      "metadata": {
        "id": "G2d8-T2dOpMu"
      },
      "source": [
        "## 使用工具設定模型\n",
        "\n",
        "這個範例提供模型一些控制假設照明系統的功能。要使用這些功能需要按特定順序呼叫它們。例如，你必須先開啟燈光系統才能變換顏色。\n",
        "\n",
        "雖然你可以將這些功能直接傳遞給模型並讓它嘗試正確呼叫，但指定 `function_calling_config` 能讓你精確控制模型有哪些可用功能。\n",
        "\n",
        "將工具寫入 `tools.json` 中，以便你在後續步驟中參考它。\n"
      ]
    },
    {
      "cell_type": "code",
      "execution_count": null,
      "metadata": {
        "id": "SS_h6C3MfH48"
      },
      "outputs": [
        {
          "name": "stdout",
          "output_type": "stream",
          "text": [
            "Overwriting tools.json\n"
          ]
        }
      ],
      "source": [
        "%%file tools.json\n",
        "{\n",
        "  \"function_declarations\": [\n",
        "    {\n",
        "      \"name\": \"enable_lights\",\n",
        "      \"description\": \"Turn on the lighting system.\",\n",
        "      \"parameters\": { \"type\": \"object\" }\n",
        "    },\n",
        "    {\n",
        "      \"name\": \"set_light_color\",\n",
        "      \"description\": \"Set the light color. Lights must be enabled for this to work.\",\n",
        "      \"parameters\": {\n",
        "        \"type\": \"object\",\n",
        "        \"properties\": {\n",
        "          \"rgb_hex\": {\n",
        "            \"type\": \"string\",\n",
        "            \"description\": \"The light color as a 6-digit hex string, e.g. ff0000 for red.\"\n",
        "          }\n",
        "        },\n",
        "        \"required\": [\n",
        "          \"rgb_hex\"\n",
        "        ]\n",
        "      }\n",
        "    },\n",
        "    {\n",
        "      \"name\": \"stop_lights\",\n",
        "      \"description\": \"Turn off the lighting system.\",\n",
        "      \"parameters\": { \"type\": \"object\" }\n",
        "    }\n",
        "  ]\n",
        "}"
      ]
    },
    {
      "cell_type": "markdown",
      "metadata": {
        "id": "k6eYRyKUlw2S"
      },
      "source": [
        "## 純文字模式：`NONE`\n",
        "\n",
        "如果你已經提供工具給模型，但不想在目前的對話回合中使用這些工具，請將模式指定為 `NONE`。`NONE` 會指示模型不要進行任何函式呼叫，而會將其視為未提供任何函式。\n"
      ]
    },
    {
      "cell_type": "code",
      "execution_count": null,
      "metadata": {
        "id": "u1MWQ82Phsav"
      },
      "outputs": [
        {
          "name": "stdout",
          "output_type": "stream",
          "text": [
            "      \"content\": {\n",
            "        \"parts\": [\n",
            "          {\n",
            "            \"text\": \"As your lighting system, I can turn the lights on and off, and I can set the color of the lights. \\n\"\n",
            "          }\n",
            "        ],\n",
            "        \"role\": \"model\"\n",
            "      },\n",
            "      \"finishReason\": \"STOP\",\n"
          ]
        }
      ],
      "source": [
        "%%bash\n",
        "curl \"https://generativelanguage.googleapis.com/v1beta/models/gemini-1.5-pro-latest:generateContent?key=$GOOGLE_API_KEY\" \\\n",
        "  -H 'Content-Type: application/json' \\\n",
        "  -d @<(echo '\n",
        "  {\n",
        "    \"system_instruction\": {\n",
        "      \"parts\": {\n",
        "        \"text\": \"You are a helpful lighting system bot. You can turn lights on and off, and you can set the color. Do not perform any other tasks.\"\n",
        "      }\n",
        "    },\n",
        "    \"tools\": [' $(cat tools.json) '],\n",
        "\n",
        "    \"tool_config\": {\n",
        "      \"function_calling_config\": {\"mode\": \"none\"}\n",
        "    },\n",
        "\n",
        "    \"contents\": {\n",
        "      \"role\": \"user\",\n",
        "      \"parts\": {\n",
        "        \"text\": \"What can you do?\"\n",
        "      }\n",
        "    }\n",
        "  }\n",
        "') 2>/dev/null |sed -n '/\"content\"/,/\"finishReason\"/p'"
      ]
    },
    {
      "cell_type": "markdown",
      "metadata": {
        "id": "BaAie9Sjnd4u"
      },
      "source": [
        "## 自動模式：`AUTO`\n",
        "\n",
        "即使允許模型決定要以文字回應或呼叫特定函式，你也可以將模式指定為 `AUTO`。\n"
      ]
    },
    {
      "cell_type": "code",
      "execution_count": null,
      "metadata": {
        "id": "tqHz3Gd8neSd"
      },
      "outputs": [
        {
          "name": "stdout",
          "output_type": "stream",
          "text": [
            "      \"content\": {\n",
            "        \"parts\": [\n",
            "          {\n",
            "            \"functionCall\": {\n",
            "              \"name\": \"enable_lights\",\n",
            "              \"args\": {}\n",
            "            }\n",
            "          }\n",
            "        ],\n",
            "        \"role\": \"model\"\n",
            "      },\n",
            "      \"finishReason\": \"STOP\",\n"
          ]
        }
      ],
      "source": [
        "%%bash\n",
        "curl \"https://generativelanguage.googleapis.com/v1beta/models/gemini-1.5-pro-latest:generateContent?key=$GOOGLE_API_KEY\" \\\n",
        "  -H 'Content-Type: application/json' \\\n",
        "  -d @<(echo '\n",
        "  {\n",
        "    \"system_instruction\": {\n",
        "      \"parts\": {\n",
        "        \"text\": \"You are a helpful lighting system bot. You can turn lights on and off, and you can set the color. Do not perform any other tasks.\"\n",
        "      }\n",
        "    },\n",
        "    \"tools\": [' $(cat tools.json) '],\n",
        "\n",
        "    \"tool_config\": {\n",
        "      \"function_calling_config\": {\"mode\": \"auto\"}\n",
        "    },\n",
        "\n",
        "    \"contents\": {\n",
        "      \"role\": \"user\",\n",
        "      \"parts\": {\n",
        "        \"text\": \"Light this place up!\"\n",
        "      }\n",
        "    }\n",
        "  }\n",
        "') 2>/dev/null |sed -n '/\"content\"/,/\"finishReason\"/p'"
      ]
    },
    {
      "cell_type": "markdown",
      "metadata": {
        "id": "EYE8-BDepHJn"
      },
      "source": [
        "## 函式呼叫模式：`ANY`\n",
        "\n",
        "將模式設為 `ANY` 將強制模型進行函式呼叫。藉由設定 `allowed_function_names`，模型將僅從這些函式中進行選擇。如果未設定，`tools` 內的所有函式都將是函式呼叫的候選對象。\n",
        "\n",
        "在這個範例系統中，如果燈光已經開啟，使用者就可以變更顏色或將燈光關閉。\n"
      ]
    },
    {
      "cell_type": "code",
      "execution_count": null,
      "metadata": {
        "id": "J2vaxGdYpPGt"
      },
      "outputs": [
        {
          "name": "stdout",
          "output_type": "stream",
          "text": [
            "      \"content\": {\n",
            "        \"parts\": [\n",
            "          {\n",
            "            \"functionCall\": {\n",
            "              \"name\": \"set_light_color\",\n",
            "              \"args\": {\n",
            "                \"rgb_hex\": \"9400d3\"\n",
            "              }\n",
            "            }\n",
            "          }\n",
            "        ],\n",
            "        \"role\": \"model\"\n",
            "      },\n",
            "      \"finishReason\": \"STOP\",\n"
          ]
        }
      ],
      "source": [
        "%%bash\n",
        "curl \"https://generativelanguage.googleapis.com/v1beta/models/gemini-1.5-pro-latest:generateContent?key=$GOOGLE_API_KEY\" \\\n",
        "  -H 'Content-Type: application/json' \\\n",
        "  -d @<(echo '\n",
        "  {\n",
        "    \"system_instruction\": {\n",
        "      \"parts\": {\n",
        "        \"text\": \"You are a helpful lighting system bot. You can turn lights on and off, and you can set the color. Do not perform any other tasks.\"\n",
        "      }\n",
        "    },\n",
        "    \"tools\": [' $(cat tools.json) '],\n",
        "\n",
        "    \"tool_config\": {\n",
        "      \"function_calling_config\": {\n",
        "        \"mode\": \"any\",\n",
        "        \"allowed_function_names\": [\"set_light_color\", \"stop_lights\"]\n",
        "      }\n",
        "    },\n",
        "\n",
        "    \"contents\": {\n",
        "      \"role\": \"user\",\n",
        "      \"parts\": {\n",
        "        \"text\": \"Make this place PURPLE!\"\n",
        "      }\n",
        "    }\n",
        "  }\n",
        "') 2>/dev/null |sed -n '/\"content\"/,/\"finishReason\"/p'"
      ]
    },
    {
      "cell_type": "markdown",
      "metadata": {
        "id": "WbXzyFVTqYwn"
      },
      "source": [
        "## 進一步閱讀\n",
        "\n",
        "查看 [函式呼叫食譜](./Function_calling_REST.ipynb) 以進一步瞭解函式呼叫。\n"
      ]
    }
  ],
  "metadata": {
    "colab": {
      "name": "Function_calling_config_REST.ipynb",
      "toc_visible": true
    },
    "kernelspec": {
      "display_name": "Python 3",
      "name": "python3"
    }
  },
  "nbformat": 4,
  "nbformat_minor": 0
}