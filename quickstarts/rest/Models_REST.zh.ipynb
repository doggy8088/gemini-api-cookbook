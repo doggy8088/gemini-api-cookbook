{
  "cells": [
    {
      "cell_type": "markdown",
      "metadata": {
        "id": "Tce3stUlHN0L"
      },
      "source": [
        "##### 版權所有 2024 Google LLC.\n"
      ]
    },
    {
      "cell_type": "code",
      "execution_count": null,
      "metadata": {
        "cellView": "form",
        "id": "tuOe1ymfHZPu"
      },
      "outputs": [],
      "source": [
        "# @title Licensed under the Apache License, Version 2.0 (the \"License\");\n",
        "# you may not use this file except in compliance with the License.\n",
        "# You may obtain a copy of the License at\n",
        "#\n",
        "# https://www.apache.org/licenses/LICENSE-2.0\n",
        "#\n",
        "# Unless required by applicable law or agreed to in writing, software\n",
        "# distributed under the License is distributed on an \"AS IS\" BASIS,\n",
        "# WITHOUT WARRANTIES OR CONDITIONS OF ANY KIND, either express or implied.\n",
        "# See the License for the specific language governing permissions and\n",
        "# limitations under the License."
      ]
    },
    {
      "cell_type": "markdown",
      "metadata": {
        "id": "bR6s6M2SUMUx"
      },
      "source": [
        "# Gemini API：REST 模型\n",
        "\n",
        "<table align=\"left\">\n",
        "  <td>\n",
        "    <a target=\"_blank\" href=\"https://colab.research.google.com/github/doggy8088/gemini-api-cookbook/blob/zh-tw/quickstarts/rest/Models_REST.zh.ipynb\"><img src=\"https://www.tensorflow.org/images/colab_logo_32px.png\" />在 Google Colab 中執行</a>\n",
        "  </td>\n",
        "</table>\n"
      ]
    },
    {
      "cell_type": "markdown",
      "metadata": {
        "id": "0M75jc-zqqdp"
      },
      "source": [
        "此筆記本示範如何列出可在 Gemini API 中使用的模型，以及如何在 `curl` 中找到模型的詳細資訊。\n",
        "\n",
        "你可以在 Google Colab 中執行此操作，或將捲曲指令複製/貼到你的終端機。\n",
        "\n",
        "若要執行這個筆記本，你的 API 金鑰必須儲存在名為 `GOOGLE_API_KEY` 的 Colab 機密中。如果你在不同的環境中執行，可以將你的金鑰儲存在環境變數中。請參閱 [驗證](https://github.com/google-gemini/cookbook/blob/main/quickstarts/Authentication.ipynb)以進一步瞭解。\n"
      ]
    },
    {
      "cell_type": "code",
      "execution_count": null,
      "metadata": {
        "id": "qyEYgM6SGjTc"
      },
      "outputs": [],
      "source": [
        "import os\n",
        "from google.colab import userdata"
      ]
    },
    {
      "cell_type": "code",
      "execution_count": null,
      "metadata": {
        "id": "HR74aKGsLW3T"
      },
      "outputs": [],
      "source": [
        "os.environ['GOOGLE_API_KEY'] = userdata.get('GOOGLE_API_KEY')"
      ]
    },
    {
      "cell_type": "markdown",
      "metadata": {
        "id": "yw0-IjXtUgCq"
      },
      "source": [
        "## 模型資訊\n",
        "\n",
        "### 列出模型\n",
        "\n",
        "如果你`GET` 模型目錄，它會使用`list`方法列出透過 API 可用的所有模型，包括 Gemini 和 PaLM 族模型。\n"
      ]
    },
    {
      "cell_type": "code",
      "execution_count": null,
      "metadata": {
        "id": "M2aeVCrQLc-4"
      },
      "outputs": [],
      "source": [
        "%%bash\n",
        "\n",
        "curl https://generativelanguage.googleapis.com/v1beta/models?key=$GOOGLE_API_KEY"
      ]
    },
    {
      "cell_type": "markdown",
      "metadata": {
        "id": "CLUf1EqxUWCB"
      },
      "source": [
        "### 取得模型\n",
        "\n",
        "如果你 `GET` 模型網址，API 會使用 `get` 方法回傳關於該模型的資訊，例如版本、顯示名稱、輸入 Token 上限等。\n"
      ]
    },
    {
      "cell_type": "code",
      "execution_count": null,
      "metadata": {
        "id": "PYFpfBFpUKM-"
      },
      "outputs": [],
      "source": [
        "%%bash\n",
        "\n",
        "curl https://generativelanguage.googleapis.com/v1beta/models/gemini-pro?key=$GOOGLE_API_KEY"
      ]
    },
    {
      "cell_type": "markdown",
      "metadata": {
        "id": "JZetmJD6UleV"
      },
      "source": [
        "## 了解更多訊息\n",
        "\n",
        "如需瞭解如何使用提示模型，請參閱 [提示](https://github.com/google-gemini/cookbook/blob/main/quickstarts/rest/Prompting_REST.ipynb) 快速入門。\n",
        "\n",
        "如需瞭解如何使用嵌入模型，請參閱 [嵌入](https://github.com/google-gemini/cookbook/blob/main/quickstarts/rest/Embeddings_REST.ipynb) 快速入門。\n",
        "\n",
        "如需有關模型的更多資訊，請瀏覽 [Gemini 模型](https://ai.google.dev/models/gemini) 文件。\n"
      ]
    }
  ],
  "metadata": {
    "colab": {
      "name": "Models_REST.ipynb",
      "toc_visible": true
    },
    "kernelspec": {
      "display_name": "Python 3",
      "name": "python3"
    }
  },
  "nbformat": 4,
  "nbformat_minor": 0
}