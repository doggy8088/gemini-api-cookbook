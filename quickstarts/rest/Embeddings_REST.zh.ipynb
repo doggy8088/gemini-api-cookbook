{
  "cells": [
    {
      "cell_type": "markdown",
      "metadata": {
        "id": "Tce3stUlHN0L"
      },
      "source": [
        "##### 版權所有 2024 Google LLC.\n"
      ]
    },
    {
      "cell_type": "code",
      "execution_count": null,
      "metadata": {
        "cellView": "form",
        "id": "tuOe1ymfHZPu"
      },
      "outputs": [],
      "source": [
        "# @title Licensed under the Apache License, Version 2.0 (the \"License\");\n",
        "# you may not use this file except in compliance with the License.\n",
        "# You may obtain a copy of the License at\n",
        "#\n",
        "# https://www.apache.org/licenses/LICENSE-2.0\n",
        "#\n",
        "# Unless required by applicable law or agreed to in writing, software\n",
        "# distributed under the License is distributed on an \"AS IS\" BASIS,\n",
        "# WITHOUT WARRANTIES OR CONDITIONS OF ANY KIND, either express or implied.\n",
        "# See the License for the specific language governing permissions and\n",
        "# limitations under the License."
      ]
    },
    {
      "cell_type": "markdown",
      "metadata": {
        "id": "agmT3hrjsffX"
      },
      "source": [
        "# Gemini API：REST 快速入門嵌入\n",
        "\n",
        "<table align=\"left\">\n",
        "  <td>\n",
        "    <a target=\"_blank\" href=\"https://colab.research.google.com/github/doggy8088/gemini-api-cookbook/blob/zh-tw/quickstarts/rest/Embeddings_REST.zh.ipynb\"><img src=\"https://www.tensorflow.org/images/colab_logo_32px.png\" />在 Google Colab 中執行</a>\n",
        "  </td>\n",
        "</table>\n"
      ]
    },
    {
      "cell_type": "markdown",
      "metadata": {
        "id": "JMNKdTpTGZET"
      },
      "source": [
        "本筆記本提供快速的程式碼範例，說明如何使用 `curl` 開始生成內嵌碼。\n",
        "\n",
        "你可以在 Google Colab 中執行此程式碼，或者將 `curl` 指令複製/貼進你的終端命令。\n",
        "\n",
        "若要執行本筆記本，你的 API 金鑰必須儲存在稱為 GOOGLE_API_KEY 的 Google 秘鑰中。如果你在其他環境中執行，你可以將金鑰儲存在環境變數中。請參閱 [驗證](https://github.com/google-gemini/cookbook/blob/main/quickstarts/Authentication.ipynb) 以進一步了解。\n"
      ]
    },
    {
      "cell_type": "code",
      "execution_count": 1,
      "metadata": {
        "id": "R-Vw_mOM_WD0"
      },
      "outputs": [],
      "source": [
        "import os\n",
        "from google.colab import userdata"
      ]
    },
    {
      "cell_type": "code",
      "execution_count": 2,
      "metadata": {
        "id": "wCkLTpb3oTXE"
      },
      "outputs": [],
      "source": [
        "os.environ['GOOGLE_API_KEY'] = userdata.get('GOOGLE_API_KEY')"
      ]
    },
    {
      "cell_type": "markdown",
      "metadata": {
        "id": "tjGqGBZ9yARd"
      },
      "source": [
        "## 嵌入內容\n",
        "\n",
        "呼叫具備 `text-embedding-004` 模型的 `embed_content` 方法，以產生文字嵌入：\n"
      ]
    },
    {
      "cell_type": "code",
      "execution_count": 3,
      "metadata": {
        "id": "eA7I_Ww8IETn"
      },
      "outputs": [
        {
          "name": "stdout",
          "output_type": "stream",
          "text": [
            "{\n",
            "  \"embedding\": {\n",
            "    \"values\": [\n",
            "      0.013168523,\n",
            "      -0.008711934,\n",
            "      -0.046782676,\n",
            "      0.00069968984,\n",
            "      -0.009518873,\n",
            "      -0.008720178,\n",
            "      0.060103577,\n"
          ]
        }
      ],
      "source": [
        "%%bash\n",
        "\n",
        "curl \"https://generativelanguage.googleapis.com/v1beta/models/text-embedding-004:embedContent?key=$GOOGLE_API_KEY\" \\\n",
        "-H 'Content-Type: application/json' \\\n",
        "-d '{\"model\": \"models/text-embedding-004\",\n",
        "    \"content\": {\n",
        "    \"parts\":[{\n",
        "      \"text\": \"Hello world\"}]}, }' 2> /dev/null | head"
      ]
    },
    {
      "cell_type": "markdown",
      "metadata": {
        "id": "x7ngWdZ7yDHp"
      },
      "source": [
        "# 批次嵌入內容\n",
        "\n",
        "你可以使用單一 API 呼叫來嵌入多個提示列表以提高效率。\n"
      ]
    },
    {
      "cell_type": "code",
      "execution_count": 4,
      "metadata": {
        "id": "Z0b35xv5Ja_d"
      },
      "outputs": [
        {
          "name": "stdout",
          "output_type": "stream",
          "text": [
            "{\n",
            "  \"embeddings\": [\n",
            "    {\n",
            "      \"values\": [\n",
            "        -0.010632277,\n",
            "        0.019375855,\n",
            "        0.0209652,\n",
            "        0.0007706424,\n",
            "        -0.061464064,\n",
            "--\n",
            "        -0.0071538696,\n",
            "        -0.028534694\n",
            "      ]\n",
            "    },\n",
            "    {\n",
            "      \"values\": [\n",
            "        0.018467998,\n",
            "        0.0054281196,\n",
            "        -0.017658804,\n",
            "        0.013859266,\n",
            "        0.053418662,\n",
            "--\n",
            "        0.026714385,\n",
            "        0.0018762538\n",
            "      ]\n",
            "    },\n",
            "    {\n",
            "      \"values\": [\n",
            "        0.05808907,\n",
            "        0.020941721,\n",
            "        -0.108728774,\n",
            "        -0.04039259,\n",
            "        -0.04440443,\n"
          ]
        }
      ],
      "source": [
        "%%bash\n",
        "\n",
        "curl \"https://generativelanguage.googleapis.com/v1beta/models/text-embedding-004:batchEmbedContents?key=$GOOGLE_API_KEY\" \\\n",
        "-H 'Content-Type: application/json' \\\n",
        "-d '{\"requests\": [{\n",
        "      \"model\": \"models/text-embedding-004\",\n",
        "      \"content\": {\n",
        "      \"parts\":[{\n",
        "        \"text\": \"What is the meaning of life?\"}]}, },\n",
        "      {\n",
        "      \"model\": \"models/text-embedding-004\",\n",
        "      \"content\": {\n",
        "      \"parts\":[{\n",
        "        \"text\": \"How much wood would a woodchuck chuck?\"}]}, },\n",
        "      {\n",
        "      \"model\": \"models/text-embedding-004\",\n",
        "      \"content\": {\n",
        "      \"parts\":[{\n",
        "        \"text\": \"How does the brain work?\"}]}, }, ]}' 2> /dev/null | grep -C 5 values"
      ]
    },
    {
      "cell_type": "markdown",
      "metadata": {
        "id": "nPBk2k4xuql8"
      },
      "source": [
        "## 設定輸出維度\n",
        "如果你使用的是 `text-embeddings-004`，你可以設定 `output_dimensionality` 參數來建立更小的嵌入。\n",
        "\n",
        "* `output_dimensionality` 會截斷嵌入 (例如，當 `output_dimensionality=2` 時，`[1, 3, 5]` 會變成 `[1,3]` )。\n"
      ]
    },
    {
      "cell_type": "code",
      "execution_count": 5,
      "metadata": {
        "id": "ny3bOQK1ut2_"
      },
      "outputs": [
        {
          "name": "stdout",
          "output_type": "stream",
          "text": [
            "{\n",
            "  \"embedding\": {\n",
            "    \"values\": [\n",
            "      0.013168523,\n",
            "      -0.008711934,\n",
            "      -0.046782676,\n",
            "      0.00069968984,\n",
            "      -0.009518873,\n",
            "      -0.008720178,\n",
            "      0.060103577,\n"
          ]
        }
      ],
      "source": [
        "%%bash\n",
        "\n",
        "curl \"https://generativelanguage.googleapis.com/v1beta/models/text-embedding-004:embedContent?key=$GOOGLE_API_KEY\" \\\n",
        "-H 'Content-Type: application/json' \\\n",
        "-d '{\"model\": \"models/text-embedding-004\",\n",
        "    \"output_dimensionality\":256,\n",
        "    \"content\": {\n",
        "    \"parts\":[{\n",
        "      \"text\": \"Hello world\"}]}, }' 2> /dev/null | head"
      ]
    },
    {
      "cell_type": "markdown",
      "metadata": {
        "id": "ObAdUvlk9x05"
      },
      "source": [
        "## 使用 `task_type` 模型來提供提示，說明你將如何使用嵌入\n",
        "\n",
        "讓我們看看嵌入方法所採取的所有參數。有四個：\n",
        "\n",
        "* `model`：必填。必須為 `models/embedding-001`。\n",
        "* `content`：必填。你想要嵌入的內容。\n",
        "* `task_type`：選填。將使用嵌入的任務類型。請見以下可能的數值。\n",
        "* `title`：給定的文字是正在搜尋的語料庫的檔案。選擇性地設定 `title` 參數，並輸入該檔案的標題。只能在 `task_type` 為 `RETRIEVAL_DOCUMENT` 時設定。\n",
        "\n",
        "`task_type` 是選填參數，針對你打算在應用程式中如何使用嵌入，提供給 API 的提示。\n",
        "\n",
        "接受以下 task_type 參數：\n",
        "\n",
        "* `TASK_TYPE_UNSPECIFIED`：如果你未設定值，會預設為 `retrieval_query`。\n",
        "* `RETRIEVAL_QUERY`：給定的文字是搜尋/檢索設定中的查詢。\n",
        "* `RETRIEVAL_DOCUMENT`：給定的文字是正在搜尋的語料庫的檔案。\n",
        "* `SEMANTIC_SIMILARITY`：給定的文字將用於語意文字相似性 (STS)。\n",
        "* `CLASSIFICATION`：將對給定的文字進行分類。\n",
        "* `CLUSTERING`：嵌入將用於分群。\n"
      ]
    },
    {
      "cell_type": "code",
      "execution_count": 6,
      "metadata": {
        "id": "NwzsJmRrAo-t"
      },
      "outputs": [
        {
          "name": "stdout",
          "output_type": "stream",
          "text": [
            "{\n",
            "  \"embedding\": {\n",
            "    \"values\": [\n",
            "      0.060187872,\n",
            "      -0.031515103,\n",
            "      -0.03244149,\n",
            "      -0.019341845,\n",
            "      0.057285223,\n",
            "      0.037159503,\n",
            "      0.035636507,\n"
          ]
        }
      ],
      "source": [
        "%%bash\n",
        "\n",
        "curl \"https://generativelanguage.googleapis.com/v1beta/models/embedding-001:embedContent?key=$GOOGLE_API_KEY\" \\\n",
        "-H 'Content-Type: application/json' \\\n",
        "-d '{\"model\": \"models/text-embedding-004\",\n",
        "    \"content\": {\n",
        "    \"parts\":[{\n",
        "      \"text\": \"Hello world\"}]},\n",
        "    \"task_type\": \"RETRIEVAL_DOCUMENT\",\n",
        "    \"title\": \"My title\"}' 2> /dev/null | head"
      ]
    },
    {
      "cell_type": "markdown",
      "metadata": {
        "id": "jXkRYBhbB_b2"
      },
      "source": [
        "## 了解更多資訊\n",
        "\n",
        "* 在 [此處](https://developers.googleblog.com/2024/04/gemini-15-pro-in-public-preview-with-new-features.html)進一步了解 text-embeddings-004。\n",
        "*   看看 [REST API 參考](https://ai.google.dev/api/rest) 以進一步了解更多資訊。\n",
        "*   在食譜中探索更多範例。\n"
      ]
    }
  ],
  "metadata": {
    "colab": {
      "name": "Embeddings_REST.ipynb",
      "toc_visible": true
    },
    "kernelspec": {
      "display_name": "Python 3",
      "name": "python3"
    }
  },
  "nbformat": 4,
  "nbformat_minor": 0
}