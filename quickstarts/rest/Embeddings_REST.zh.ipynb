{
  "cells": [
    {
      "cell_type": "markdown",
      "metadata": {
        "id": "agmT3hrjsffX"
      },
      "source": [
        "# Gemini API: 嵌入 REST 快速入門\n",
        "\n",
        "<table align=\"left\">\n",
        "  <td>\n",
        "    <a target=\"_blank\" href=\"https://colab.research.google.com/github/google-gemini/gemini-api-cookbook/blob/main/quickstarts/rest/Embeddings_REST.zh.ipynb\"><img src=\"https://www.tensorflow.org/images/colab_logo_32px.png\" />在 Google colab 中運作</a>\n",
        "  </td>\n",
        "</table>\n"
      ]
    },
    {
      "cell_type": "markdown",
      "metadata": {
        "id": "JMNKdTpTGZET"
      },
      "source": [
        "此筆記提供快速範例程式碼，說明如何開始使用 `curl` 產生嵌入。\n",
        "\n",
        "你可在 Google Colab 中執行，或將 `curl` 指令複製/貼到終端機中。\n",
        "\n",
        "要執行此筆記，你的 API 金鑰必須儲存在名為 GOOGLE_API_KEY 的 Colab 密碼中。如果你是在其他環境中執行，可以將金鑰儲存在環境變數中。請參閱 [身分驗證](https://github.com/google-gemini/gemini-api-cookbook/blob/main/quickstarts/Authentication.ipynb) 以瞭解更多資訊。\n"
      ]
    },
    {
      "cell_type": "code",
      "execution_count": 54,
      "metadata": {
        "id": "R-Vw_mOM_WD0"
      },
      "outputs": [],
      "source": [
        "import os\n",
        "from google.colab import userdata"
      ]
    },
    {
      "cell_type": "code",
      "execution_count": 55,
      "metadata": {
        "id": "wCkLTpb3oTXE"
      },
      "outputs": [],
      "source": [
        "os.environ['GOOGLE_API_KEY'] = userdata.get('GOOGLE_API_KEY')"
      ]
    },
    {
      "cell_type": "markdown",
      "metadata": {
        "id": "tjGqGBZ9yARd"
      },
      "source": [
        "## 嵌入內容\n",
        "\n",
        "使用 `models/embedding-001` 模型呼叫 `embed_content` 方法來產生文字嵌入：\n"
      ]
    },
    {
      "cell_type": "code",
      "execution_count": 56,
      "metadata": {
        "id": "eA7I_Ww8IETn"
      },
      "outputs": [
        {
          "name": "stdout",
          "output_type": "stream",
          "text": [
            "{\n",
            "  \"embedding\": {\n",
            "    \"values\": [\n",
            "      0.04703258,\n",
            "      -0.040190056,\n",
            "      -0.029026963,\n",
            "      -0.026809642,\n",
            "      0.018920582,\n",
            "      -8.3654784e-05,\n",
            "      0.031116402,\n"
          ]
        }
      ],
      "source": [
        "%%bash\n",
        "\n",
        "curl https://generativelanguage.googleapis.com/v1beta/models/embedding-001:embedContent?key=$GOOGLE_API_KEY \\\n",
        "-H 'Content-Type: application/json' \\\n",
        "-d '{\"model\": \"models/embedding-001\",\n",
        "    \"content\": {\n",
        "    \"parts\":[{\n",
        "      \"text\": \"Hello world\"}]}, }' 2> /dev/null | head"
      ]
    },
    {
      "cell_type": "markdown",
      "metadata": {
        "id": "x7ngWdZ7yDHp"
      },
      "source": [
        "# 批次內嵌內容\n",
        "\n",
        "你可以在一次 API 呼叫中嵌入多個提示字串的清單，以提高效率。\n"
      ]
    },
    {
      "cell_type": "code",
      "execution_count": 3,
      "metadata": {
        "id": "Z0b35xv5Ja_d"
      },
      "outputs": [
        {
          "name": "stdout",
          "output_type": "stream",
          "text": [
            "{\n",
            "  \"embeddings\": [\n",
            "    {\n",
            "      \"values\": [\n",
            "        -0.0002620658,\n",
            "        -0.05592018,\n",
            "        -0.012463195,\n",
            "        -0.020672262,\n",
            "        0.0076786764,\n",
            "--\n",
            "        0.024198001,\n",
            "        0.011966026\n",
            "      ]\n",
            "    },\n",
            "    {\n",
            "      \"values\": [\n",
            "        -0.0151748555,\n",
            "        -0.050790474,\n",
            "        -0.032357067,\n",
            "        -0.05806994,\n",
            "        0.03587488,\n",
            "--\n",
            "        0.014179298,\n",
            "        0.032972813\n",
            "      ]\n",
            "    },\n",
            "    {\n",
            "      \"values\": [\n",
            "        0.025271073,\n",
            "        -0.064161226,\n",
            "        -0.025818137,\n",
            "        -0.00611377,\n",
            "        -0.011130964,\n"
          ]
        }
      ],
      "source": [
        "%%bash\n",
        "\n",
        "curl https://generativelanguage.googleapis.com/v1beta/models/embedding-001:batchEmbedContents?key=$GOOGLE_API_KEY \\\n",
        "-H 'Content-Type: application/json' \\\n",
        "-d '{\"requests\": [{\n",
        "      \"model\": \"models/embedding-001\",\n",
        "      \"content\": {\n",
        "      \"parts\":[{\n",
        "        \"text\": \"What is the meaning of life?\"}]}, },\n",
        "      {\n",
        "      \"model\": \"models/embedding-001\",\n",
        "      \"content\": {\n",
        "      \"parts\":[{\n",
        "        \"text\": \"How much wood would a woodchuck chuck?\"}]}, },\n",
        "      {\n",
        "      \"model\": \"models/embedding-001\",\n",
        "      \"content\": {\n",
        "      \"parts\":[{\n",
        "        \"text\": \"How does the brain work?\"}]}, }, ]}' 2> /dev/null | grep -C 5 values"
      ]
    },
    {
      "cell_type": "markdown",
      "metadata": {
        "id": "ObAdUvlk9x05"
      },
      "source": [
        "## 使用 `task_type` 提供提示，說明模型將如何使用嵌入\n",
        "\n",
        "讓我們了解 `embed_content` 方法會取得哪些參數。共有四個：\n",
        "\n",
        "* `model`: 必填。必須為 `models/embedding-001`。\n",
        "* `content`: 必填。你想要內嵌的內容。\n",
        "* `task_type`: 選填。將使用嵌入項目的任務類型。請參閱下方可能的數值。\n",
        "* `title`: 給定的文字是正在搜尋的語料文件。選擇性地使用 `title` 參數設定文件的標題。僅能在 `task_type` 為 `RETRIEVAL_DOCUMENT` 時設定。\n",
        "\n",
        "`task_type` 是選擇性參數，會提供提示給 API，說明你打算如何於應用程式中使用嵌入。\n",
        "\n",
        "系統會接受以下任務類型參數：\n",
        "\n",
        "* `TASK_TYPE_UNSPECIFIED`: 若你未設定數值，它會預設為 `retrieval_query`。\n",
        "* `RETRIEVAL_QUERY`: 給定的文字是搜尋/擷取設定的查詢。\n",
        "* `RETRIEVAL_DOCUMENT`: 給定的文字是正在搜尋語料庫的文件。\n",
        "* `SEMANTIC_SIMILARITY`: 給定的文字會用於語意文本相似度 (STS)。\n",
        "* `CLASSIFICATION`: 給定的文字會被分類。\n",
        "* `CLUSTERING`: 嵌入將會用於分群。\n"
      ]
    },
    {
      "cell_type": "code",
      "execution_count": 58,
      "metadata": {
        "id": "NwzsJmRrAo-t"
      },
      "outputs": [
        {
          "name": "stdout",
          "output_type": "stream",
          "text": [
            "{\n",
            "  \"embedding\": {\n",
            "    \"values\": [\n",
            "      0.060187872,\n",
            "      -0.031515103,\n",
            "      -0.03244149,\n",
            "      -0.019341845,\n",
            "      0.057285223,\n",
            "      0.037159503,\n",
            "      0.035636507,\n"
          ]
        }
      ],
      "source": [
        "%%bash\n",
        "\n",
        "curl https://generativelanguage.googleapis.com/v1beta/models/embedding-001:embedContent?key=$GOOGLE_API_KEY \\\n",
        "-H 'Content-Type: application/json' \\\n",
        "-d '{\"model\": \"models/embedding-001\",\n",
        "    \"content\": {\n",
        "    \"parts\":[{\n",
        "      \"text\": \"Hello world\"}]},\n",
        "    \"task_type\": \"RETRIEVAL_DOCUMENT\",\n",
        "    \"title\": \"My title\"}' 2> /dev/null | head"
      ]
    },
    {
      "cell_type": "markdown",
      "metadata": {
        "id": "jXkRYBhbB_b2"
      },
      "source": [
        "## 了解更多資訊\n",
        "\n",
        "*   請參閱 [REST API 參考手冊](https://ai.google.dev/api/rest) 了解更多資訊。\n",
        "*   在實戰指南中探索更多範例。\n"
      ]
    }
  ],
  "metadata": {
    "colab": {
      "name": "Embeddings_REST.ipynb",
      "toc_visible": true
    },
    "kernelspec": {
      "display_name": "Python 3",
      "name": "python3"
    }
  },
  "nbformat": 4,
  "nbformat_minor": 0
}